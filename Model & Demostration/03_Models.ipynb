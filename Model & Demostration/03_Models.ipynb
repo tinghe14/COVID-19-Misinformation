{
  "cells": [
    {
      "cell_type": "code",
      "execution_count": null,
      "metadata": {
        "id": "q3MZXODbYn1H"
      },
      "outputs": [],
      "source": [
        "import pandas as pd\n",
        "import seaborn as sns\n",
        "import numpy as np\n",
        "\n",
        "from sklearn.model_selection import train_test_split, cross_val_predict,cross_val_score,RandomizedSearchCV\n",
        "from sklearn.ensemble import RandomForestClassifier\n",
        "#rom catboost import CatBoostClassifier\n",
        "from sklearn.metrics import make_scorer, accuracy_score, precision_score, recall_score, f1_score, classification_report, confusion_matrix, roc_curve, roc_auc_score, auc\n",
        "from sklearn.feature_extraction.text import TfidfVectorizer\n",
        "\n",
        "import re\n",
        "import gensim\n",
        "\n",
        "import warnings\n",
        "import matplotlib.pyplot as plt\n",
        "\n",
        "%matplotlib inline\n",
        "warnings.simplefilter('ignore')"
      ]
    },
    {
      "cell_type": "code",
      "execution_count": null,
      "metadata": {
        "colab": {
          "base_uri": "https://localhost:8080/"
        },
        "id": "Gp8H96K1YEpW",
        "outputId": "096aafe8-063b-48b8-880d-5737a7982e34"
      },
      "outputs": [
        {
          "name": "stdout",
          "output_type": "stream",
          "text": [
            "shape of limited data without text variable: (12365, 12)\n",
            "shape of whole data: (12365, 24)\n"
          ]
        }
      ],
      "source": [
        "data_wo = pd.read_csv(\"clean_data_without_some.csv\")\n",
        "print('shape of limited data without text variable:', data_wo.shape) #12365,12\n",
        "data_with = pd.read_csv(\"clean_data.csv\")\n",
        "print('shape of whole data:', data_with.shape) #12365, 24"
      ]
    },
    {
      "cell_type": "code",
      "execution_count": null,
      "metadata": {
        "colab": {
          "base_uri": "https://localhost:8080/"
        },
        "id": "jAPFIoIBbUF_",
        "outputId": "66512d8e-260e-4fd1-9e69-5fb71a28ea4a"
      },
      "outputs": [
        {
          "data": {
            "text/plain": [
              "Index(['id', 'created_at', 'user_created_at', 'lang', 'source', 'text',\n",
              "       'user_description', 'user_location', 'hashtags', 'clean text',\n",
              "       'clean text without stem', 'source_5', 'favorite_count',\n",
              "       'retweet_count', 'user_id', 'user_favourites_count',\n",
              "       'user_followers_count', 'user_friends_count', 'user_listed_count',\n",
              "       'user_statuses_count', 'user_verified', 'is_misinfo', 'polarity',\n",
              "       'subjectivity'],\n",
              "      dtype='object')"
            ]
          },
          "execution_count": 5,
          "metadata": {},
          "output_type": "execute_result"
        }
      ],
      "source": [
        "data_with.columns"
      ]
    },
    {
      "cell_type": "code",
      "execution_count": null,
      "metadata": {
        "id": "9RjaU7S8bgv6"
      },
      "outputs": [],
      "source": [
        "data_with = data_with[['favorite_count', 'retweet_count',  'user_favourites_count',\n",
        "       'user_followers_count', 'user_friends_count', 'user_listed_count',\n",
        "       'user_statuses_count', 'user_verified', 'is_misinfo', 'polarity',\n",
        "       'subjectivity','text']]"
      ]
    },
    {
      "cell_type": "code",
      "execution_count": null,
      "metadata": {
        "colab": {
          "base_uri": "https://localhost:8080/"
        },
        "id": "v2ZrsCK4bnpe",
        "outputId": "7f613040-c9ae-4f19-fa06-03b489e9ee2e"
      },
      "outputs": [
        {
          "data": {
            "text/plain": [
              "Index(['favorite_count', 'retweet_count', 'user_favourites_count',\n",
              "       'user_followers_count', 'user_friends_count', 'user_listed_count',\n",
              "       'user_statuses_count', 'user_verified', 'is_misinfo', 'polarity',\n",
              "       'subjectivity', 'text'],\n",
              "      dtype='object')"
            ]
          },
          "execution_count": 7,
          "metadata": {},
          "output_type": "execute_result"
        }
      ],
      "source": [
        "data_with.columns"
      ]
    },
    {
      "cell_type": "code",
      "execution_count": null,
      "metadata": {
        "colab": {
          "base_uri": "https://localhost:8080/"
        },
        "id": "zeuDLAxOba1O",
        "outputId": "15b292bd-dca7-442d-d43e-a9763d35c060"
      },
      "outputs": [
        {
          "data": {
            "text/plain": [
              "Index(['favorite_count', 'retweet_count', 'user_id', 'user_favourites_count',\n",
              "       'user_followers_count', 'user_friends_count', 'user_listed_count',\n",
              "       'user_statuses_count', 'user_verified', 'is_misinfo', 'polarity',\n",
              "       'subjectivity'],\n",
              "      dtype='object')"
            ]
          },
          "execution_count": 8,
          "metadata": {},
          "output_type": "execute_result"
        }
      ],
      "source": [
        "data_wo.columns"
      ]
    },
    {
      "cell_type": "code",
      "execution_count": null,
      "metadata": {
        "id": "QA0cwMp-b_mG"
      },
      "outputs": [],
      "source": [
        "data_wo = data_wo[['favorite_count', 'retweet_count',  'user_favourites_count',\n",
        "       'user_followers_count', 'user_friends_count', 'user_listed_count',\n",
        "       'user_statuses_count', 'user_verified', 'is_misinfo', 'polarity',\n",
        "       'subjectivity']]"
      ]
    },
    {
      "cell_type": "code",
      "execution_count": null,
      "metadata": {
        "colab": {
          "base_uri": "https://localhost:8080/",
          "height": 346
        },
        "id": "-eB3NlQJjsfS",
        "outputId": "b6068627-4ebf-4187-c0cd-3acdd7b1ce30"
      },
      "outputs": [
        {
          "ename": "KeyError",
          "evalue": "ignored",
          "output_type": "error",
          "traceback": [
            "\u001b[0;31m---------------------------------------------------------------------------\u001b[0m",
            "\u001b[0;31mKeyError\u001b[0m                                  Traceback (most recent call last)",
            "\u001b[0;32m<ipython-input-30-987089174a05>\u001b[0m in \u001b[0;36m<module>\u001b[0;34m\u001b[0m\n\u001b[1;32m      1\u001b[0m \u001b[0;31m# id should be index\u001b[0m\u001b[0;34m\u001b[0m\u001b[0;34m\u001b[0m\u001b[0;34m\u001b[0m\u001b[0m\n\u001b[1;32m      2\u001b[0m \u001b[0mdata_wo\u001b[0m\u001b[0;34m.\u001b[0m\u001b[0mset_index\u001b[0m\u001b[0;34m(\u001b[0m\u001b[0;34m'user_id'\u001b[0m\u001b[0;34m)\u001b[0m\u001b[0;34m\u001b[0m\u001b[0;34m\u001b[0m\u001b[0m\n\u001b[0;32m----> 3\u001b[0;31m \u001b[0mdata_with\u001b[0m\u001b[0;34m.\u001b[0m\u001b[0mset_index\u001b[0m\u001b[0;34m(\u001b[0m\u001b[0;34m'id'\u001b[0m\u001b[0;34m)\u001b[0m\u001b[0;34m\u001b[0m\u001b[0;34m\u001b[0m\u001b[0m\n\u001b[0m",
            "\u001b[0;32m/usr/local/lib/python3.7/dist-packages/pandas/util/_decorators.py\u001b[0m in \u001b[0;36mwrapper\u001b[0;34m(*args, **kwargs)\u001b[0m\n\u001b[1;32m    309\u001b[0m                     \u001b[0mstacklevel\u001b[0m\u001b[0;34m=\u001b[0m\u001b[0mstacklevel\u001b[0m\u001b[0;34m,\u001b[0m\u001b[0;34m\u001b[0m\u001b[0;34m\u001b[0m\u001b[0m\n\u001b[1;32m    310\u001b[0m                 )\n\u001b[0;32m--> 311\u001b[0;31m             \u001b[0;32mreturn\u001b[0m \u001b[0mfunc\u001b[0m\u001b[0;34m(\u001b[0m\u001b[0;34m*\u001b[0m\u001b[0margs\u001b[0m\u001b[0;34m,\u001b[0m \u001b[0;34m**\u001b[0m\u001b[0mkwargs\u001b[0m\u001b[0;34m)\u001b[0m\u001b[0;34m\u001b[0m\u001b[0;34m\u001b[0m\u001b[0m\n\u001b[0m\u001b[1;32m    312\u001b[0m \u001b[0;34m\u001b[0m\u001b[0m\n\u001b[1;32m    313\u001b[0m         \u001b[0;32mreturn\u001b[0m \u001b[0mwrapper\u001b[0m\u001b[0;34m\u001b[0m\u001b[0;34m\u001b[0m\u001b[0m\n",
            "\u001b[0;32m/usr/local/lib/python3.7/dist-packages/pandas/core/frame.py\u001b[0m in \u001b[0;36mset_index\u001b[0;34m(self, keys, drop, append, inplace, verify_integrity)\u001b[0m\n\u001b[1;32m   5449\u001b[0m \u001b[0;34m\u001b[0m\u001b[0m\n\u001b[1;32m   5450\u001b[0m         \u001b[0;32mif\u001b[0m \u001b[0mmissing\u001b[0m\u001b[0;34m:\u001b[0m\u001b[0;34m\u001b[0m\u001b[0;34m\u001b[0m\u001b[0m\n\u001b[0;32m-> 5451\u001b[0;31m             \u001b[0;32mraise\u001b[0m \u001b[0mKeyError\u001b[0m\u001b[0;34m(\u001b[0m\u001b[0;34mf\"None of {missing} are in the columns\"\u001b[0m\u001b[0;34m)\u001b[0m\u001b[0;34m\u001b[0m\u001b[0;34m\u001b[0m\u001b[0m\n\u001b[0m\u001b[1;32m   5452\u001b[0m \u001b[0;34m\u001b[0m\u001b[0m\n\u001b[1;32m   5453\u001b[0m         \u001b[0;32mif\u001b[0m \u001b[0minplace\u001b[0m\u001b[0;34m:\u001b[0m\u001b[0;34m\u001b[0m\u001b[0;34m\u001b[0m\u001b[0m\n",
            "\u001b[0;31mKeyError\u001b[0m: \"None of ['id'] are in the columns\""
          ]
        }
      ],
      "source": [
        "# id should be index\n",
        "#data_with.set_index('id')"
      ]
    },
    {
      "cell_type": "markdown",
      "metadata": {
        "id": "ACbrIU-3NXIM"
      },
      "source": [
        "TO-DO: scaler should conduct seperately at train and test sets https://towardsdatascience.com/using-machine-learning-to-predict-fitbit-sleep-scores-496a7d9ec48"
      ]
    },
    {
      "cell_type": "markdown",
      "metadata": {
        "id": "cxPReqKFZ5qN"
      },
      "source": [
        "# Basline Model with Limited Data\n",
        "random forest"
      ]
    },
    {
      "cell_type": "code",
      "execution_count": null,
      "metadata": {
        "id": "IjK6cNXxaTmp"
      },
      "outputs": [],
      "source": [
        "x_variable_wo = data_wo.columns[~(data_wo.columns.isin(['is_misinfo']))]                                         "
      ]
    },
    {
      "cell_type": "code",
      "execution_count": null,
      "metadata": {
        "id": "ojz32MaPa5S6"
      },
      "outputs": [],
      "source": [
        "# https://stackoverflow.com/questions/46598301/how-to-compute-precision-recall-and-f1-score-of-an-imbalanced-dataset-for-k-fold\n",
        "# https://towardsdatascience.com/cross-testation-and-hyperparameter-tuning-how-to-optimise-your-machine-learning-model-13f005af9d7d\n",
        "x = data_wo[x_variable_wo].values\n",
        "y = data_wo['is_misinfo'].values\n",
        "\n",
        "# train/test = 80/20\n",
        "x_train, x_test, y_train, y_test = train_test_split(\n",
        "    x,\n",
        "    y,\n",
        "    test_size=0.2,\n",
        "    random_state = 0\n",
        "    )  \n",
        "\n",
        "scoring = {'accuracy': make_scorer(accuracy_score),\n",
        "           'precision': make_scorer(precision_score),\n",
        "           'recall': make_scorer(recall_score),\n",
        "           'f1_score': make_scorer(f1_score),\n",
        "           'auc': 'roc_auc'}\n",
        "\n",
        "# Interesting: sensitivity analysis of k in kfold https://machinelearningmastery.com/how-to-configure-k-fold-cross-validation/"
      ]
    },
    {
      "cell_type": "code",
      "execution_count": null,
      "metadata": {
        "colab": {
          "base_uri": "https://localhost:8080/"
        },
        "id": "m6uP7ZbmQW3S",
        "outputId": "27195b3d-0c49-4da5-b9e8-32ef73613123"
      },
      "outputs": [
        {
          "data": {
            "text/plain": [
              "Index(['favorite_count', 'retweet_count', 'user_favourites_count',\n",
              "       'user_followers_count', 'user_friends_count', 'user_listed_count',\n",
              "       'user_statuses_count', 'user_verified', 'polarity', 'subjectivity'],\n",
              "      dtype='object')"
            ]
          },
          "execution_count": 12,
          "metadata": {},
          "output_type": "execute_result"
        }
      ],
      "source": [
        "x_variable_wo"
      ]
    },
    {
      "cell_type": "code",
      "execution_count": null,
      "metadata": {
        "id": "MKBbdfqsJYX9"
      },
      "outputs": [],
      "source": [
        "# https://stats.stackexchange.com/questions/123124/how-to-determine-the-optimal-threshold-for-a-classifier-and-generate-roc-curve\n",
        "def evaluate_roc(probs, y_true):\n",
        "    \"\"\"\n",
        "    - Print AUC and accuracy on the test set\n",
        "    - Plot ROC\n",
        "    @params    probs (np.array): an array of predicted probabilities with shape (len(y_true), 2)\n",
        "    @params    y_true (np.array): an array of the true values with shape (len(y_true),)\n",
        "    \"\"\"\n",
        "    preds = probs[:,1]\n",
        "    fpr, tpr, threshold = roc_curve(y_true, preds)\n",
        "    roc_auc = auc(fpr, tpr)\n",
        "    print(f'AUC: {roc_auc:.4f}')\n",
        "       \n",
        "    # Get accuracy over the test set\n",
        "    y_pred = np.where(preds >= 0.5, 1, 0)\n",
        "    accuracy = accuracy_score(y_true, y_pred)\n",
        "    print(f'Accuracy at threshold of 0.5: {accuracy*100:.2f}%')\n",
        "    \n",
        "    # Plot ROC AUC\n",
        "    plt.title('Receiver Operating Characteristic')\n",
        "    plt.plot(fpr, tpr, 'b', label = 'AUC = %0.2f' % roc_auc)\n",
        "    plt.legend(loc = 'lower right')\n",
        "    plt.plot([0, 1], [0, 1],'r--')\n",
        "    plt.xlim([0, 1])\n",
        "    plt.ylim([0, 1])\n",
        "    plt.ylabel('True Positive Rate')\n",
        "    plt.xlabel('False Positive Rate')\n",
        "    optimal_idx = np.argmax(tpr - fpr)\n",
        "    optimal_threshold = threshold[optimal_idx]\n",
        "    print(\"The optimal threshold value is:\", optimal_threshold)\n",
        "    plt.show()"
      ]
    },
    {
      "cell_type": "markdown",
      "metadata": {
        "id": "p2x90vTZbGrN"
      },
      "source": [
        "## Random Forest"
      ]
    },
    {
      "cell_type": "code",
      "execution_count": null,
      "metadata": {
        "id": "--J-BjWKad1s"
      },
      "outputs": [],
      "source": [
        "# tuning hyperpameter: https://github.com/WillKoehrsen/Machine-Learning-Projects/blob/master/random_forest_explained/Improving%20Random%20Forest%20Part%202.ipynb\n",
        "# hyperparameter grid\n",
        "# number of trees in RF\n",
        "rf_n_estimators = [int(x) for x in np.linspace(200, 500, 100)]\n",
        "\n",
        "#maximum number of levels in tree\n",
        "rf_max_depth = [int(x) for x in np.linspace(10, 50, 10)]\n",
        "\n",
        "# criterion to split on\n",
        "rf_criterion = ['gini', 'entropy']\n",
        "\n",
        "# method of selecting samples for training each tree\n",
        "rf_bootstrap = [True, False]\n",
        "\n",
        "# final grid\n",
        "rf_grid = {'n_estimators': rf_n_estimators,\n",
        "           'max_depth': rf_max_depth,\n",
        "           'criterion': rf_criterion,\n",
        "           'bootstrap': rf_bootstrap}"
      ]
    },
    {
      "cell_type": "code",
      "execution_count": null,
      "metadata": {
        "colab": {
          "base_uri": "https://localhost:8080/"
        },
        "id": "77tH0mNvbI0f",
        "outputId": "6389b703-f1f1-4522-848b-208f705c99e2"
      },
      "outputs": [
        {
          "name": "stdout",
          "output_type": "stream",
          "text": [
            "{'n_estimators': 393, 'max_depth': 18, 'criterion': 'entropy', 'bootstrap': False}\n",
            "0.6594999203694855\n",
            "RandomForestClassifier(bootstrap=False, criterion='entropy', max_depth=18,\n",
            "                       n_estimators=393, random_state=0)\n"
          ]
        }
      ],
      "source": [
        "# feature importance: https://stackoverflow.com/questions/55466081/how-to-calculate-feature-importance-in-each-models-of-cross-validation-in-sklear\n",
        "rfc = RandomForestClassifier(random_state=0)\n",
        "\n",
        "rf = RandomizedSearchCV(estimator=rfc, param_distributions=rf_grid, scoring=make_scorer(f1_score), \n",
        "                        n_iter=10, cv=3,random_state=0, return_train_score=True)\n",
        "\n",
        "rf.fit(x_train, y_train)\n",
        "\n",
        "# view the best parameters from random search\n",
        "print(rf.best_params_)\n",
        "print(rf.best_score_) # F1 score\n",
        "print(rf.best_estimator_)"
      ]
    },
    {
      "cell_type": "code",
      "execution_count": null,
      "metadata": {
        "colab": {
          "base_uri": "https://localhost:8080/",
          "height": 737
        },
        "id": "oXeNgmfehS32",
        "outputId": "69496e04-8093-4c4e-9162-fd3037c8eb5a"
      },
      "outputs": [
        {
          "name": "stdout",
          "output_type": "stream",
          "text": [
            "AUC: 1.0000\n",
            "Accuracy at threshold of 0.5: 99.65%\n",
            "The optimal threshold value is: 0.4750936670899316\n"
          ]
        },
        {
          "data": {
            "image/png": "[encoded data removed]",
            "text/plain": [
              "<Figure size 432x288 with 1 Axes>"
            ]
          },
          "metadata": {},
          "output_type": "display_data"
        },
        {
          "name": "stdout",
          "output_type": "stream",
          "text": [
            "AUC: 0.8581\n",
            "Accuracy at threshold of 0.5: 79.82%\n",
            "The optimal threshold value is: 0.45292579826866014\n"
          ]
        },
        {
          "data": {
            "image/png": "[encoded data removed]",
            "text/plain": [
              "<Figure size 432x288 with 1 Axes>"
            ]
          },
          "metadata": {},
          "output_type": "display_data"
        }
      ],
      "source": [
        "# training ROC\n",
        "train_pred = rf.best_estimator_.predict_proba(x_train)\n",
        "evaluate_roc(train_pred, y_train)\n",
        "\n",
        "# test ROC\n",
        "test_pred = rf.best_estimator_.predict_proba(x_test)\n",
        "evaluate_roc(test_pred, y_test)"
      ]
    },
    {
      "cell_type": "code",
      "execution_count": null,
      "metadata": {
        "colab": {
          "base_uri": "https://localhost:8080/"
        },
        "id": "3y6FOLSC6OxL",
        "outputId": "a1f7bcb3-ae30-4fb8-f7a1-ef2e94b5c16c"
      },
      "outputs": [
        {
          "name": "stdout",
          "output_type": "stream",
          "text": [
            "Variable: favorite_count       Importance: 0.14\n",
            "Variable: user_friends_count   Importance: 0.13\n",
            "Variable: user_statuses_count  Importance: 0.13\n",
            "Variable: user_favourites_count Importance: 0.12\n",
            "Variable: polarity             Importance: 0.12\n",
            "Variable: user_followers_count Importance: 0.11\n",
            "Variable: subjectivity         Importance: 0.11\n",
            "Variable: user_listed_count    Importance: 0.08\n",
            "Variable: retweet_count        Importance: 0.06\n",
            "Variable: user_verified        Importance: 0.01\n"
          ]
        }
      ],
      "source": [
        "# https://github.com/WillKoehrsen/Machine-Learning-Projects/blob/master/random_forest_explained/Improving%20Random%20Forest%20Part%201.ipynb\n",
        "# Get numerical feature importances\n",
        "importances = list(rf.best_estimator_.feature_importances_)\n",
        "\n",
        "# List of tuples with variable and importance\n",
        "feature_importances = [(feature, round(importance, 2)) for feature, importance in zip(x_variable_wo, importances)]\n",
        "\n",
        "# Sort the feature importances by most important first\n",
        "feature_importances = sorted(feature_importances, key = lambda x: x[1], reverse = True)\n",
        "\n",
        "# Print out the feature and importances \n",
        "[print('Variable: {:20} Importance: {}'.format(*pair)) for pair in feature_importances];"
      ]
    },
    {
      "cell_type": "code",
      "execution_count": null,
      "metadata": {
        "colab": {
          "base_uri": "https://localhost:8080/",
          "height": 466
        },
        "id": "RNot-mAg8Djf",
        "outputId": "9556573f-8d17-43b7-b075-4f8019044798"
      },
      "outputs": [
        {
          "data": {
            "image/png": "[encoded data removed]",
            "text/plain": [
              "<Figure size 432x288 with 1 Axes>"
            ]
          },
          "metadata": {},
          "output_type": "display_data"
        }
      ],
      "source": [
        "# Reset style \n",
        "plt.style.use('fivethirtyeight')\n",
        "\n",
        "# list of x locations for plotting\n",
        "x_values = list(range(len(importances)))\n",
        "\n",
        "# List of features sorted from most to least important\n",
        "sorted_importances = [importance[1] for importance in feature_importances]\n",
        "sorted_features = [importance[0] for importance in feature_importances]\n",
        "\n",
        "# Cumulative importances\n",
        "cumulative_importances = np.cumsum(sorted_importances)\n",
        "\n",
        "# Make a line graph\n",
        "plt.plot(x_values, cumulative_importances, 'g-')\n",
        "\n",
        "# Draw line at 95% of importance retained\n",
        "plt.hlines(y = 0.95, xmin=0, xmax=len(sorted_importances), color = 'r', linestyles = 'dashed')\n",
        "\n",
        "# Format x ticks and labels\n",
        "plt.xticks(x_values, sorted_features, rotation = 'vertical')\n",
        "\n",
        "# Axis labels and title\n",
        "plt.xlabel('Variable'); plt.ylabel('Cumulative Importance'); plt.title('Cumulative Importances');"
      ]
    },
    {
      "cell_type": "markdown",
      "metadata": {
        "id": "UwFWD774WAL_"
      },
      "source": [
        "We only use the subjectivity and polarity of sentiment analysis of tweets. There might more useful content embeded in the raw tweets."
      ]
    },
    {
      "cell_type": "code",
      "execution_count": null,
      "metadata": {
        "colab": {
          "base_uri": "https://localhost:8080/"
        },
        "id": "n8cXXriEqudf",
        "outputId": "984f4574-d79f-4d6d-be4a-aec1b0a976cc"
      },
      "outputs": [
        {
          "name": "stdout",
          "output_type": "stream",
          "text": [
            "<class 'pandas.core.frame.DataFrame'>\n",
            "RangeIndex: 12365 entries, 0 to 12364\n",
            "Data columns (total 12 columns):\n",
            " #   Column                 Non-Null Count  Dtype  \n",
            "---  ------                 --------------  -----  \n",
            " 0   favorite_count         12365 non-null  float64\n",
            " 1   retweet_count          12365 non-null  float64\n",
            " 2   user_id                12365 non-null  float64\n",
            " 3   user_favourites_count  12365 non-null  float64\n",
            " 4   user_followers_count   12365 non-null  float64\n",
            " 5   user_friends_count     12365 non-null  float64\n",
            " 6   user_listed_count      12365 non-null  float64\n",
            " 7   user_statuses_count    12365 non-null  float64\n",
            " 8   user_verified          12365 non-null  float64\n",
            " 9   is_misinfo             12365 non-null  float64\n",
            " 10  polarity               12365 non-null  float64\n",
            " 11  subjectivity           12365 non-null  float64\n",
            "dtypes: float64(12)\n",
            "memory usage: 1.1 MB\n"
          ]
        }
      ],
      "source": [
        "data_wo.info()"
      ]
    },
    {
      "cell_type": "code",
      "execution_count": null,
      "metadata": {
        "colab": {
          "base_uri": "https://localhost:8080/"
        },
        "id": "yjXg0JHSqCAh",
        "outputId": "cf513533-9f1c-452b-f0cd-21a6b82419c6"
      },
      "outputs": [
        {
          "data": {
            "application/vnd.google.colaboratory.intrinsic+json": {
              "type": "string"
            },
            "text/plain": [
              "\"cbf = CatBoostClassifier(\\n    iterations=10, \\n    learning_rate=0.1, \\n    verbose = 2\\n    #loss_function='CrossEntropy'\\n)\\n\\ncat_feature = list(range(0, data_wo.shape[1]))\\n\\ncbf.fit(\\n    x_train, y_train,\\n    cat_features=cat_feature,\\n    eval_set=(x_valid, y_valid),\\n)\""
            ]
          },
          "execution_count": 14,
          "metadata": {},
          "output_type": "execute_result"
        }
      ],
      "source": [
        "'''cbf = CatBoostClassifier(\n",
        "    iterations=10, \n",
        "    learning_rate=0.1, \n",
        "    verbose = 2\n",
        "    #loss_function='CrossEntropy'\n",
        ")\n",
        "\n",
        "cat_feature = list(range(0, data_wo.shape[1]))\n",
        "\n",
        "cbf.fit(\n",
        "    x_train, y_train,\n",
        "    cat_features=cat_feature,\n",
        "    eval_set=(x_test, y_test),\n",
        ")'''"
      ]
    },
    {
      "cell_type": "markdown",
      "metadata": {
        "id": "gZuT1-BM_jrM"
      },
      "source": [
        "# Models with Text Data\n"
      ]
    },
    {
      "cell_type": "markdown",
      "metadata": {
        "id": "RqYX0ipn0oVi"
      },
      "source": [
        "## Discovery of other representations of free-text data"
      ]
    },
    {
      "cell_type": "code",
      "execution_count": null,
      "metadata": {
        "colab": {
          "base_uri": "https://localhost:8080/",
          "height": 144
        },
        "id": "wxjE1Q0G0n5J",
        "outputId": "f762c08d-0d31-4eb8-b5a5-74d37294cc9c"
      },
      "outputs": [
        {
          "data": {
            "text/html": [
              "\n",
              "  <div id=\"df-ab53beef-0b33-4e17-9d4e-0ec5c3c623c4\">\n",
              "    <div class=\"colab-df-container\">\n",
              "      <div>\n",
              "<style scoped>\n",
              "    .dataframe tbody tr th:only-of-type {\n",
              "        vertical-align: middle;\n",
              "    }\n",
              "\n",
              "    .dataframe tbody tr th {\n",
              "        vertical-align: top;\n",
              "    }\n",
              "\n",
              "    .dataframe thead th {\n",
              "        text-align: right;\n",
              "    }\n",
              "</style>\n",
              "<table border=\"1\" class=\"dataframe\">\n",
              "  <thead>\n",
              "    <tr style=\"text-align: right;\">\n",
              "      <th></th>\n",
              "      <th>favorite_count</th>\n",
              "      <th>retweet_count</th>\n",
              "      <th>user_favourites_count</th>\n",
              "      <th>user_followers_count</th>\n",
              "      <th>user_friends_count</th>\n",
              "      <th>user_listed_count</th>\n",
              "      <th>user_statuses_count</th>\n",
              "      <th>user_verified</th>\n",
              "      <th>is_misinfo</th>\n",
              "      <th>polarity</th>\n",
              "      <th>subjectivity</th>\n",
              "      <th>text</th>\n",
              "    </tr>\n",
              "  </thead>\n",
              "  <tbody>\n",
              "    <tr>\n",
              "      <th>0</th>\n",
              "      <td>0.000036</td>\n",
              "      <td>0.0</td>\n",
              "      <td>0.006374</td>\n",
              "      <td>0.000021</td>\n",
              "      <td>0.001792</td>\n",
              "      <td>0.000190</td>\n",
              "      <td>0.004509</td>\n",
              "      <td>0.0</td>\n",
              "      <td>0.0</td>\n",
              "      <td>0.547500</td>\n",
              "      <td>0.590000</td>\n",
              "      <td>My 87 year old grandmother has been quarantini...</td>\n",
              "    </tr>\n",
              "    <tr>\n",
              "      <th>1</th>\n",
              "      <td>0.000018</td>\n",
              "      <td>0.0</td>\n",
              "      <td>0.001968</td>\n",
              "      <td>0.000005</td>\n",
              "      <td>0.000551</td>\n",
              "      <td>0.000023</td>\n",
              "      <td>0.002372</td>\n",
              "      <td>0.0</td>\n",
              "      <td>0.0</td>\n",
              "      <td>0.662500</td>\n",
              "      <td>0.575000</td>\n",
              "      <td>I’m so excited that with this vaccine I can se...</td>\n",
              "    </tr>\n",
              "    <tr>\n",
              "      <th>2</th>\n",
              "      <td>0.000027</td>\n",
              "      <td>0.0</td>\n",
              "      <td>0.017309</td>\n",
              "      <td>0.000011</td>\n",
              "      <td>0.001826</td>\n",
              "      <td>0.000153</td>\n",
              "      <td>0.003731</td>\n",
              "      <td>0.0</td>\n",
              "      <td>0.0</td>\n",
              "      <td>0.676847</td>\n",
              "      <td>0.563447</td>\n",
              "      <td>So excited that I was able to close out 2020 o...</td>\n",
              "    </tr>\n",
              "  </tbody>\n",
              "</table>\n",
              "</div>\n",
              "      <button class=\"colab-df-convert\" onclick=\"convertToInteractive('df-ab53beef-0b33-4e17-9d4e-0ec5c3c623c4')\"\n",
              "              title=\"Convert this dataframe to an interactive table.\"\n",
              "              style=\"display:none;\">\n",
              "        \n",
              "  <svg xmlns=\"http://www.w3.org/2000/svg\" height=\"24px\"viewBox=\"0 0 24 24\"\n",
              "       width=\"24px\">\n",
              "    <path d=\"M0 0h24v24H0V0z\" fill=\"none\"/>\n",
              "    <path d=\"M18.56 5.44l.94 2.06.94-2.06 2.06-.94-2.06-.94-.94-2.06-.94 2.06-2.06.94zm-11 1L8.5 8.5l.94-2.06 2.06-.94-2.06-.94L8.5 2.5l-.94 2.06-2.06.94zm10 10l.94 2.06.94-2.06 2.06-.94-2.06-.94-.94-2.06-.94 2.06-2.06.94z\"/><path d=\"M17.41 7.96l-1.37-1.37c-.4-.4-.92-.59-1.43-.59-.52 0-1.04.2-1.43.59L10.3 9.45l-7.72 7.72c-.78.78-.78 2.05 0 2.83L4 21.41c.39.39.9.59 1.41.59.51 0 1.02-.2 1.41-.59l7.78-7.78 2.81-2.81c.8-.78.8-2.07 0-2.86zM5.41 20L4 18.59l7.72-7.72 1.47 1.35L5.41 20z\"/>\n",
              "  </svg>\n",
              "      </button>\n",
              "      \n",
              "  <style>\n",
              "    .colab-df-container {\n",
              "      display:flex;\n",
              "      flex-wrap:wrap;\n",
              "      gap: 12px;\n",
              "    }\n",
              "\n",
              "    .colab-df-convert {\n",
              "      background-color: #E8F0FE;\n",
              "      border: none;\n",
              "      border-radius: 50%;\n",
              "      cursor: pointer;\n",
              "      display: none;\n",
              "      fill: #1967D2;\n",
              "      height: 32px;\n",
              "      padding: 0 0 0 0;\n",
              "      width: 32px;\n",
              "    }\n",
              "\n",
              "    .colab-df-convert:hover {\n",
              "      background-color: #E2EBFA;\n",
              "      box-shadow: 0px 1px 2px rgba(60, 64, 67, 0.3), 0px 1px 3px 1px rgba(60, 64, 67, 0.15);\n",
              "      fill: #174EA6;\n",
              "    }\n",
              "\n",
              "    [theme=dark] .colab-df-convert {\n",
              "      background-color: #3B4455;\n",
              "      fill: #D2E3FC;\n",
              "    }\n",
              "\n",
              "    [theme=dark] .colab-df-convert:hover {\n",
              "      background-color: #434B5C;\n",
              "      box-shadow: 0px 1px 3px 1px rgba(0, 0, 0, 0.15);\n",
              "      filter: drop-shadow(0px 1px 2px rgba(0, 0, 0, 0.3));\n",
              "      fill: #FFFFFF;\n",
              "    }\n",
              "  </style>\n",
              "\n",
              "      <script>\n",
              "        const buttonEl =\n",
              "          document.querySelector('#df-ab53beef-0b33-4e17-9d4e-0ec5c3c623c4 button.colab-df-convert');\n",
              "        buttonEl.style.display =\n",
              "          google.colab.kernel.accessAllowed ? 'block' : 'none';\n",
              "\n",
              "        async function convertToInteractive(key) {\n",
              "          const element = document.querySelector('#df-ab53beef-0b33-4e17-9d4e-0ec5c3c623c4');\n",
              "          const dataTable =\n",
              "            await google.colab.kernel.invokeFunction('convertToInteractive',\n",
              "                                                     [key], {});\n",
              "          if (!dataTable) return;\n",
              "\n",
              "          const docLinkHtml = 'Like what you see? Visit the ' +\n",
              "            '<a target=\"_blank\" href=https://colab.research.google.com/notebooks/data_table.ipynb>data table notebook</a>'\n",
              "            + ' to learn more about interactive tables.';\n",
              "          element.innerHTML = '';\n",
              "          dataTable['output_type'] = 'display_data';\n",
              "          await google.colab.output.renderOutput(dataTable, element);\n",
              "          const docLink = document.createElement('div');\n",
              "          docLink.innerHTML = docLinkHtml;\n",
              "          element.appendChild(docLink);\n",
              "        }\n",
              "      </script>\n",
              "    </div>\n",
              "  </div>\n",
              "  "
            ],
            "text/plain": [
              "   favorite_count  retweet_count  user_favourites_count  user_followers_count  \\\n",
              "0        0.000036            0.0               0.006374              0.000021   \n",
              "1        0.000018            0.0               0.001968              0.000005   \n",
              "2        0.000027            0.0               0.017309              0.000011   \n",
              "\n",
              "   user_friends_count  user_listed_count  user_statuses_count  user_verified  \\\n",
              "0            0.001792           0.000190             0.004509            0.0   \n",
              "1            0.000551           0.000023             0.002372            0.0   \n",
              "2            0.001826           0.000153             0.003731            0.0   \n",
              "\n",
              "   is_misinfo  polarity  subjectivity  \\\n",
              "0         0.0  0.547500      0.590000   \n",
              "1         0.0  0.662500      0.575000   \n",
              "2         0.0  0.676847      0.563447   \n",
              "\n",
              "                                                text  \n",
              "0  My 87 year old grandmother has been quarantini...  \n",
              "1  I’m so excited that with this vaccine I can se...  \n",
              "2  So excited that I was able to close out 2020 o...  "
            ]
          },
          "execution_count": 15,
          "metadata": {},
          "output_type": "execute_result"
        }
      ],
      "source": [
        "data_with.head(3)"
      ]
    },
    {
      "cell_type": "code",
      "execution_count": null,
      "metadata": {
        "colab": {
          "base_uri": "https://localhost:8080/"
        },
        "id": "CQZQLi7OWaKa",
        "outputId": "e1e87f59-03ec-4369-f00e-70d966da25b5"
      },
      "outputs": [
        {
          "data": {
            "text/plain": [
              "Index(['favorite_count', 'retweet_count', 'user_favourites_count',\n",
              "       'user_followers_count', 'user_friends_count', 'user_listed_count',\n",
              "       'user_statuses_count', 'user_verified', 'is_misinfo', 'polarity',\n",
              "       'subjectivity', 'text'],\n",
              "      dtype='object')"
            ]
          },
          "execution_count": 16,
          "metadata": {},
          "output_type": "execute_result"
        }
      ],
      "source": [
        "data_with.columns"
      ]
    },
    {
      "cell_type": "code",
      "execution_count": null,
      "metadata": {
        "colab": {
          "base_uri": "https://localhost:8080/"
        },
        "id": "xTe0KermYgDi",
        "outputId": "de276323-c2b7-4148-b6a8-d0429bc25124"
      },
      "outputs": [
        {
          "data": {
            "text/plain": [
              "array(['Twitter for iPhone', 'Other Third Parties', 'Twitter for Android',\n",
              "       'Twitter Web App', 'Twitter for iPad'], dtype=object)"
            ]
          },
          "execution_count": 17,
          "metadata": {},
          "output_type": "execute_result"
        }
      ],
      "source": [
        "#data_with['source_5'].unique()"
      ]
    },
    {
      "cell_type": "code",
      "execution_count": null,
      "metadata": {
        "colab": {
          "base_uri": "https://localhost:8080/"
        },
        "id": "_VqWCMV3ZDg2",
        "outputId": "f4571476-bb37-4996-8c40-fc7c65f82730"
      },
      "outputs": [
        {
          "name": "stdout",
          "output_type": "stream",
          "text": [
            "2447\n"
          ]
        },
        {
          "data": {
            "text/plain": [
              "0                       NaN\n",
              "1            417fightscovid\n",
              "2                       NaN\n",
              "3               StandStrong\n",
              "4                       NaN\n",
              "                ...        \n",
              "12360             CoronaVac\n",
              "12361                   NaN\n",
              "12362                   NaN\n",
              "12363                   NaN\n",
              "12364    unvaccinated Fauci\n",
              "Name: hashtags, Length: 12365, dtype: object"
            ]
          },
          "execution_count": 18,
          "metadata": {},
          "output_type": "execute_result"
        }
      ],
      "source": [
        "#print(data_with['hashtags'].nunique()) # 2477\n",
        "#data_with['hashtags']"
      ]
    },
    {
      "cell_type": "code",
      "execution_count": null,
      "metadata": {
        "colab": {
          "base_uri": "https://localhost:8080/"
        },
        "id": "SrawjCBoZheu",
        "outputId": "391848bc-8288-4416-c20e-75994d7d4fde"
      },
      "outputs": [
        {
          "data": {
            "text/plain": [
              "source_5            0.000000\n",
              "user_description    0.090416\n",
              "user_location       0.262030\n",
              "hashtags            0.723332\n",
              "clean text          0.000000\n",
              "dtype: float64"
            ]
          },
          "execution_count": 19,
          "metadata": {},
          "output_type": "execute_result"
        }
      ],
      "source": [
        "#interest_5 = data_with[['source_5','user_description','user_location', 'hashtags', 'clean text']]\n",
        "#interest_5.isnull().sum() / interest_5.shape[0]"
      ]
    },
    {
      "cell_type": "code",
      "execution_count": null,
      "metadata": {
        "colab": {
          "base_uri": "https://localhost:8080/",
          "height": 88
        },
        "id": "isrwR9CpaIxr",
        "outputId": "a4c39079-e470-4c3a-a2e1-85f4cbad42ec"
      },
      "outputs": [
        {
          "data": {
            "application/vnd.google.colaboratory.intrinsic+json": {
              "type": "string"
            },
            "text/plain": [
              "\"\\n# if not missing: assign 1; else assig 0 -> for 'user_description, user_location'\\n# hashtagss -> convert to number of it\\ndata_with['user_description_bool'] = ''\\ndata_with['user_description_bool'][data_with['user_description'].isnull() == True] = 0\\ndata_with['user_description_bool'][data_with['user_description'].isnull() == False] = 1\\ndata_with['user_location_bool'] = ''\\ndata_with['user_location_bool'][data_with['user_location'].isnull() == True] = 0\\ndata_with['user_location_bool'][data_with['user_location'].isnull() == False] = 1\\n\""
            ]
          },
          "execution_count": 20,
          "metadata": {},
          "output_type": "execute_result"
        }
      ],
      "source": [
        "'''\n",
        "# if not missing: assign 1; else assig 0 -> for 'user_description, user_location'\n",
        "# hashtagss -> convert to number of it\n",
        "data_with['user_description_bool'] = ''\n",
        "data_with['user_description_bool'][data_with['user_description'].isnull() == True] = 0\n",
        "data_with['user_description_bool'][data_with['user_description'].isnull() == False] = 1\n",
        "data_with['user_location_bool'] = ''\n",
        "data_with['user_location_bool'][data_with['user_location'].isnull() == True] = 0\n",
        "data_with['user_location_bool'][data_with['user_location'].isnull() == False] = 1\n",
        "'''"
      ]
    },
    {
      "cell_type": "code",
      "execution_count": null,
      "metadata": {
        "colab": {
          "base_uri": "https://localhost:8080/",
          "height": 53
        },
        "id": "8BRc6c_6blPG",
        "outputId": "b05cf1c5-330e-4d58-830b-0224ffc44254"
      },
      "outputs": [
        {
          "data": {
            "application/vnd.google.colaboratory.intrinsic+json": {
              "type": "string"
            },
            "text/plain": [
              "\"\\ndata_with['hashtags_num'] = ''\\nfor i in range(len(data_with['hashtags'])):\\n  if data_with['hashtags'].isnull()[i] == True:\\n    data_with['hashtags_num'][i] = 0 \\n  else:\\n    data_with['hashtags_num'][i] = data_with['hashtags'][i].count(' ') + 1\\n\""
            ]
          },
          "execution_count": 21,
          "metadata": {},
          "output_type": "execute_result"
        }
      ],
      "source": [
        "'''\n",
        "data_with['hashtags_num'] = ''\n",
        "for i in range(len(data_with['hashtags'])):\n",
        "  if data_with['hashtags'].isnull()[i] == True:\n",
        "    data_with['hashtags_num'][i] = 0 \n",
        "  else:\n",
        "    data_with['hashtags_num'][i] = data_with['hashtags'][i].count(' ') + 1\n",
        "'''"
      ]
    },
    {
      "cell_type": "code",
      "execution_count": null,
      "metadata": {
        "colab": {
          "base_uri": "https://localhost:8080/",
          "height": 36
        },
        "id": "ipWU6Jlwgj5x",
        "outputId": "3f3413cb-437d-4e07-843a-15e7dce62e29"
      },
      "outputs": [
        {
          "data": {
            "application/vnd.google.colaboratory.intrinsic+json": {
              "type": "string"
            },
            "text/plain": [
              "\"\\ndata_with[['hashtags_num','user_description_bool', 'user_location_bool']]\\n\""
            ]
          },
          "execution_count": 22,
          "metadata": {},
          "output_type": "execute_result"
        }
      ],
      "source": [
        "'''\n",
        "data_with[['hashtags_num','user_description_bool', 'user_location_bool']]\n",
        "'''"
      ]
    },
    {
      "cell_type": "code",
      "execution_count": null,
      "metadata": {
        "colab": {
          "base_uri": "https://localhost:8080/",
          "height": 36
        },
        "id": "pEM0UZAug6Oa",
        "outputId": "bae4bad3-4d3a-4cc1-be65-84843e2b27ae"
      },
      "outputs": [
        {
          "data": {
            "application/vnd.google.colaboratory.intrinsic+json": {
              "type": "string"
            },
            "text/plain": [
              "\"\\nsource_5_dum = pd.get_dummies(data_with['source_5'])\\ndata_with = pd.concat([data_with, source_5_dum], axis=1)\\n\""
            ]
          },
          "execution_count": 23,
          "metadata": {},
          "output_type": "execute_result"
        }
      ],
      "source": [
        "# convert source_5 into dummy variables\n",
        "'''\n",
        "source_5_dum = pd.get_dummies(data_with['source_5'])\n",
        "data_with = pd.concat([data_with, source_5_dum], axis=1)\n",
        "'''"
      ]
    },
    {
      "cell_type": "code",
      "execution_count": null,
      "metadata": {
        "colab": {
          "base_uri": "https://localhost:8080/"
        },
        "id": "8pGgenChidsH",
        "outputId": "a98fbcf9-773e-4118-bf3e-f808dede1756"
      },
      "outputs": [
        {
          "data": {
            "text/plain": [
              "Index(['id', 'created_at', 'user_created_at', 'lang', 'source', 'text',\n",
              "       'user_description', 'user_location', 'hashtags', 'clean text',\n",
              "       'clean text without stem', 'source_5', 'favorite_count',\n",
              "       'retweet_count', 'user_id', 'user_favourites_count',\n",
              "       'user_followers_count', 'user_friends_count', 'user_listed_count',\n",
              "       'user_statuses_count', 'user_verified', 'is_misinfo', 'polarity',\n",
              "       'subjectivity'],\n",
              "      dtype='object')"
            ]
          },
          "execution_count": 24,
          "metadata": {},
          "output_type": "execute_result"
        }
      ],
      "source": [
        "#data_with.columns"
      ]
    },
    {
      "cell_type": "code",
      "execution_count": null,
      "metadata": {
        "colab": {
          "base_uri": "https://localhost:8080/",
          "height": 53
        },
        "id": "HTXwPXdliXMz",
        "outputId": "e2ba7c68-1e49-408c-d164-40633ec85b13"
      },
      "outputs": [
        {
          "data": {
            "application/vnd.google.colaboratory.intrinsic+json": {
              "type": "string"
            },
            "text/plain": [
              "\"\\ntext_var = data_with[['hashtags_num',\\n       'Other Third Parties', 'Twitter Web App', 'Twitter for Android',\\n       'Twitter for iPad', 'Twitter for iPhone', ]]\\n\""
            ]
          },
          "execution_count": 25,
          "metadata": {},
          "output_type": "execute_result"
        }
      ],
      "source": [
        "'''\n",
        "text_var = data_with[['hashtags_num',\n",
        "       'Other Third Parties', 'Twitter Web App', 'Twitter for Android',\n",
        "       'Twitter for iPad', 'Twitter for iPhone', ]]\n",
        "'''"
      ]
    },
    {
      "cell_type": "markdown",
      "metadata": {
        "id": "Sg_5_1RzZyQ4"
      },
      "source": [
        "## Replicate AntiVax Paper "
      ]
    },
    {
      "cell_type": "markdown",
      "metadata": {
        "id": "um4liC8v5QgB"
      },
      "source": [
        "### Random Forest with TF-IDF Embeddings"
      ]
    },
    {
      "cell_type": "code",
      "execution_count": null,
      "metadata": {
        "colab": {
          "base_uri": "https://localhost:8080/"
        },
        "id": "CB9wxQTe71v_",
        "outputId": "70c69f2c-df64-4ca2-b9fb-4744e10f9e7e"
      },
      "outputs": [
        {
          "data": {
            "text/plain": [
              "{'text'}"
            ]
          },
          "execution_count": 20,
          "metadata": {},
          "output_type": "execute_result"
        }
      ],
      "source": [
        "set(data_with.columns) - set(data_wo.columns)"
      ]
    },
    {
      "cell_type": "code",
      "execution_count": null,
      "metadata": {
        "colab": {
          "base_uri": "https://localhost:8080/",
          "height": 455
        },
        "id": "Rh0YQFdr7pZK",
        "outputId": "53bde3af-e7f8-4740-d2cb-bd321a704f20"
      },
      "outputs": [
        {
          "data": {
            "text/html": [
              "\n",
              "  <div id=\"df-fe22cb69-02ff-4c1d-a8d7-de4ac3709826\">\n",
              "    <div class=\"colab-df-container\">\n",
              "      <div>\n",
              "<style scoped>\n",
              "    .dataframe tbody tr th:only-of-type {\n",
              "        vertical-align: middle;\n",
              "    }\n",
              "\n",
              "    .dataframe tbody tr th {\n",
              "        vertical-align: top;\n",
              "    }\n",
              "\n",
              "    .dataframe thead th {\n",
              "        text-align: right;\n",
              "    }\n",
              "</style>\n",
              "<table border=\"1\" class=\"dataframe\">\n",
              "  <thead>\n",
              "    <tr style=\"text-align: right;\">\n",
              "      <th></th>\n",
              "      <th>1</th>\n",
              "      <th>2</th>\n",
              "      <th>3</th>\n",
              "      <th>4</th>\n",
              "      <th>5</th>\n",
              "      <th>6</th>\n",
              "      <th>7</th>\n",
              "      <th>8</th>\n",
              "      <th>9</th>\n",
              "      <th>10</th>\n",
              "    </tr>\n",
              "    <tr>\n",
              "      <th>0</th>\n",
              "      <th></th>\n",
              "      <th></th>\n",
              "      <th></th>\n",
              "      <th></th>\n",
              "      <th></th>\n",
              "      <th></th>\n",
              "      <th></th>\n",
              "      <th></th>\n",
              "      <th></th>\n",
              "      <th></th>\n",
              "    </tr>\n",
              "  </thead>\n",
              "  <tbody>\n",
              "    <tr>\n",
              "      <th>0.000009</th>\n",
              "      <td>0.0</td>\n",
              "      <td>0.00209</td>\n",
              "      <td>0.0</td>\n",
              "      <td>0.000037</td>\n",
              "      <td>0.0</td>\n",
              "      <td>0.000124</td>\n",
              "      <td>0.0</td>\n",
              "      <td>0.5</td>\n",
              "      <td>0.65</td>\n",
              "      <td>#Vaccinated with Dose 1 of @pfizer yesterday.\\...</td>\n",
              "    </tr>\n",
              "    <tr>\n",
              "      <th>0.000018</th>\n",
              "      <td>0.0</td>\n",
              "      <td>0.001821</td>\n",
              "      <td>0.00004</td>\n",
              "      <td>0.000722</td>\n",
              "      <td>0.000065</td>\n",
              "      <td>0.000678</td>\n",
              "      <td>1.0</td>\n",
              "      <td>0.525</td>\n",
              "      <td>0.383333</td>\n",
              "      <td>The COVID vaccines work just like any other va...</td>\n",
              "    </tr>\n",
              "    <tr>\n",
              "      <th>0.000027</th>\n",
              "      <td>0.0</td>\n",
              "      <td>0.004906</td>\n",
              "      <td>0.000027</td>\n",
              "      <td>0.002307</td>\n",
              "      <td>0.000241</td>\n",
              "      <td>0.001638</td>\n",
              "      <td>0.0</td>\n",
              "      <td>0.5</td>\n",
              "      <td>0.0</td>\n",
              "      <td>Daily goals: 1) lots of meetings today, set 2 ...</td>\n",
              "    </tr>\n",
              "    <tr>\n",
              "      <th>0.000000</th>\n",
              "      <td>0.0</td>\n",
              "      <td>0.001965</td>\n",
              "      <td>0.000001</td>\n",
              "      <td>0.000359</td>\n",
              "      <td>0.0</td>\n",
              "      <td>0.00036</td>\n",
              "      <td>0.0</td>\n",
              "      <td>0.5</td>\n",
              "      <td>0.0</td>\n",
              "      <td>Lessons from history about a rushed vaccine ht...</td>\n",
              "    </tr>\n",
              "    <tr>\n",
              "      <th>0.000045</th>\n",
              "      <td>0.0</td>\n",
              "      <td>0.002762</td>\n",
              "      <td>0.000001</td>\n",
              "      <td>0.001001</td>\n",
              "      <td>0.000005</td>\n",
              "      <td>0.000497</td>\n",
              "      <td>0.0</td>\n",
              "      <td>0.441667</td>\n",
              "      <td>0.377778</td>\n",
              "      <td>My mother and I just got our first dose of the...</td>\n",
              "    </tr>\n",
              "    <tr>\n",
              "      <th>...</th>\n",
              "      <td>...</td>\n",
              "      <td>...</td>\n",
              "      <td>...</td>\n",
              "      <td>...</td>\n",
              "      <td>...</td>\n",
              "      <td>...</td>\n",
              "      <td>...</td>\n",
              "      <td>...</td>\n",
              "      <td>...</td>\n",
              "      <td>...</td>\n",
              "    </tr>\n",
              "    <tr>\n",
              "      <th>0.000232</th>\n",
              "      <td>0.0</td>\n",
              "      <td>0.040415</td>\n",
              "      <td>0.000069</td>\n",
              "      <td>0.00192</td>\n",
              "      <td>0.000232</td>\n",
              "      <td>0.019543</td>\n",
              "      <td>0.0</td>\n",
              "      <td>0.5</td>\n",
              "      <td>0.0</td>\n",
              "      <td>I AM ABOUT TO GET THE VACCINE</td>\n",
              "    </tr>\n",
              "    <tr>\n",
              "      <th>0.000000</th>\n",
              "      <td>0.0</td>\n",
              "      <td>0.001483</td>\n",
              "      <td>0.000002</td>\n",
              "      <td>0.000075</td>\n",
              "      <td>0.000005</td>\n",
              "      <td>0.001971</td>\n",
              "      <td>0.0</td>\n",
              "      <td>0.55</td>\n",
              "      <td>0.2</td>\n",
              "      <td>Was the Whole Pandemic About the Vaccine?\\n\\nC...</td>\n",
              "    </tr>\n",
              "    <tr>\n",
              "      <th>0.000000</th>\n",
              "      <td>0.0</td>\n",
              "      <td>0.011726</td>\n",
              "      <td>0.000029</td>\n",
              "      <td>0.001525</td>\n",
              "      <td>0.00007</td>\n",
              "      <td>0.013999</td>\n",
              "      <td>0.0</td>\n",
              "      <td>0.5</td>\n",
              "      <td>0.0</td>\n",
              "      <td>Bout to be zonked after this vaccine. I’m so t...</td>\n",
              "    </tr>\n",
              "    <tr>\n",
              "      <th>0.000009</th>\n",
              "      <td>0.000128</td>\n",
              "      <td>0.064267</td>\n",
              "      <td>0.000269</td>\n",
              "      <td>0.036475</td>\n",
              "      <td>0.000695</td>\n",
              "      <td>0.087495</td>\n",
              "      <td>0.0</td>\n",
              "      <td>0.5</td>\n",
              "      <td>0.0</td>\n",
              "      <td>\"DR STEVE HOTZE THIS IS NOT A VACCINE IT´S A m...</td>\n",
              "    </tr>\n",
              "    <tr>\n",
              "      <th>0.000000</th>\n",
              "      <td>0.0</td>\n",
              "      <td>0.001996</td>\n",
              "      <td>0.000001</td>\n",
              "      <td>0.00072</td>\n",
              "      <td>0.0</td>\n",
              "      <td>0.000334</td>\n",
              "      <td>0.0</td>\n",
              "      <td>0.4</td>\n",
              "      <td>0.6</td>\n",
              "      <td>#ReflectingFarrakhan\\n\\nWoman afraid of Micros...</td>\n",
              "    </tr>\n",
              "  </tbody>\n",
              "</table>\n",
              "<p>2473 rows × 10 columns</p>\n",
              "</div>\n",
              "      <button class=\"colab-df-convert\" onclick=\"convertToInteractive('df-fe22cb69-02ff-4c1d-a8d7-de4ac3709826')\"\n",
              "              title=\"Convert this dataframe to an interactive table.\"\n",
              "              style=\"display:none;\">\n",
              "        \n",
              "  <svg xmlns=\"http://www.w3.org/2000/svg\" height=\"24px\"viewBox=\"0 0 24 24\"\n",
              "       width=\"24px\">\n",
              "    <path d=\"M0 0h24v24H0V0z\" fill=\"none\"/>\n",
              "    <path d=\"M18.56 5.44l.94 2.06.94-2.06 2.06-.94-2.06-.94-.94-2.06-.94 2.06-2.06.94zm-11 1L8.5 8.5l.94-2.06 2.06-.94-2.06-.94L8.5 2.5l-.94 2.06-2.06.94zm10 10l.94 2.06.94-2.06 2.06-.94-2.06-.94-.94-2.06-.94 2.06-2.06.94z\"/><path d=\"M17.41 7.96l-1.37-1.37c-.4-.4-.92-.59-1.43-.59-.52 0-1.04.2-1.43.59L10.3 9.45l-7.72 7.72c-.78.78-.78 2.05 0 2.83L4 21.41c.39.39.9.59 1.41.59.51 0 1.02-.2 1.41-.59l7.78-7.78 2.81-2.81c.8-.78.8-2.07 0-2.86zM5.41 20L4 18.59l7.72-7.72 1.47 1.35L5.41 20z\"/>\n",
              "  </svg>\n",
              "      </button>\n",
              "      \n",
              "  <style>\n",
              "    .colab-df-container {\n",
              "      display:flex;\n",
              "      flex-wrap:wrap;\n",
              "      gap: 12px;\n",
              "    }\n",
              "\n",
              "    .colab-df-convert {\n",
              "      background-color: #E8F0FE;\n",
              "      border: none;\n",
              "      border-radius: 50%;\n",
              "      cursor: pointer;\n",
              "      display: none;\n",
              "      fill: #1967D2;\n",
              "      height: 32px;\n",
              "      padding: 0 0 0 0;\n",
              "      width: 32px;\n",
              "    }\n",
              "\n",
              "    .colab-df-convert:hover {\n",
              "      background-color: #E2EBFA;\n",
              "      box-shadow: 0px 1px 2px rgba(60, 64, 67, 0.3), 0px 1px 3px 1px rgba(60, 64, 67, 0.15);\n",
              "      fill: #174EA6;\n",
              "    }\n",
              "\n",
              "    [theme=dark] .colab-df-convert {\n",
              "      background-color: #3B4455;\n",
              "      fill: #D2E3FC;\n",
              "    }\n",
              "\n",
              "    [theme=dark] .colab-df-convert:hover {\n",
              "      background-color: #434B5C;\n",
              "      box-shadow: 0px 1px 3px 1px rgba(0, 0, 0, 0.15);\n",
              "      filter: drop-shadow(0px 1px 2px rgba(0, 0, 0, 0.3));\n",
              "      fill: #FFFFFF;\n",
              "    }\n",
              "  </style>\n",
              "\n",
              "      <script>\n",
              "        const buttonEl =\n",
              "          document.querySelector('#df-fe22cb69-02ff-4c1d-a8d7-de4ac3709826 button.colab-df-convert');\n",
              "        buttonEl.style.display =\n",
              "          google.colab.kernel.accessAllowed ? 'block' : 'none';\n",
              "\n",
              "        async function convertToInteractive(key) {\n",
              "          const element = document.querySelector('#df-fe22cb69-02ff-4c1d-a8d7-de4ac3709826');\n",
              "          const dataTable =\n",
              "            await google.colab.kernel.invokeFunction('convertToInteractive',\n",
              "                                                     [key], {});\n",
              "          if (!dataTable) return;\n",
              "\n",
              "          const docLinkHtml = 'Like what you see? Visit the ' +\n",
              "            '<a target=\"_blank\" href=https://colab.research.google.com/notebooks/data_table.ipynb>data table notebook</a>'\n",
              "            + ' to learn more about interactive tables.';\n",
              "          element.innerHTML = '';\n",
              "          dataTable['output_type'] = 'display_data';\n",
              "          await google.colab.output.renderOutput(dataTable, element);\n",
              "          const docLink = document.createElement('div');\n",
              "          docLink.innerHTML = docLinkHtml;\n",
              "          element.appendChild(docLink);\n",
              "        }\n",
              "      </script>\n",
              "    </div>\n",
              "  </div>\n",
              "  "
            ],
            "text/plain": [
              "                1         2         3         4         5         6    7   \\\n",
              "0                                                                           \n",
              "0.000009       0.0   0.00209       0.0  0.000037       0.0  0.000124  0.0   \n",
              "0.000018       0.0  0.001821   0.00004  0.000722  0.000065  0.000678  1.0   \n",
              "0.000027       0.0  0.004906  0.000027  0.002307  0.000241  0.001638  0.0   \n",
              "0.000000       0.0  0.001965  0.000001  0.000359       0.0   0.00036  0.0   \n",
              "0.000045       0.0  0.002762  0.000001  0.001001  0.000005  0.000497  0.0   \n",
              "...            ...       ...       ...       ...       ...       ...  ...   \n",
              "0.000232       0.0  0.040415  0.000069   0.00192  0.000232  0.019543  0.0   \n",
              "0.000000       0.0  0.001483  0.000002  0.000075  0.000005  0.001971  0.0   \n",
              "0.000000       0.0  0.011726  0.000029  0.001525   0.00007  0.013999  0.0   \n",
              "0.000009  0.000128  0.064267  0.000269  0.036475  0.000695  0.087495  0.0   \n",
              "0.000000       0.0  0.001996  0.000001   0.00072       0.0  0.000334  0.0   \n",
              "\n",
              "                8         9   \\\n",
              "0                              \n",
              "0.000009       0.5      0.65   \n",
              "0.000018     0.525  0.383333   \n",
              "0.000027       0.5       0.0   \n",
              "0.000000       0.5       0.0   \n",
              "0.000045  0.441667  0.377778   \n",
              "...            ...       ...   \n",
              "0.000232       0.5       0.0   \n",
              "0.000000      0.55       0.2   \n",
              "0.000000       0.5       0.0   \n",
              "0.000009       0.5       0.0   \n",
              "0.000000       0.4       0.6   \n",
              "\n",
              "                                                         10  \n",
              "0                                                            \n",
              "0.000009  #Vaccinated with Dose 1 of @pfizer yesterday.\\...  \n",
              "0.000018  The COVID vaccines work just like any other va...  \n",
              "0.000027  Daily goals: 1) lots of meetings today, set 2 ...  \n",
              "0.000000  Lessons from history about a rushed vaccine ht...  \n",
              "0.000045  My mother and I just got our first dose of the...  \n",
              "...                                                     ...  \n",
              "0.000232                      I AM ABOUT TO GET THE VACCINE  \n",
              "0.000000  Was the Whole Pandemic About the Vaccine?\\n\\nC...  \n",
              "0.000000  Bout to be zonked after this vaccine. I’m so t...  \n",
              "0.000009  \"DR STEVE HOTZE THIS IS NOT A VACCINE IT´S A m...  \n",
              "0.000000  #ReflectingFarrakhan\\n\\nWoman afraid of Micros...  \n",
              "\n",
              "[2473 rows x 10 columns]"
            ]
          },
          "execution_count": 21,
          "metadata": {},
          "output_type": "execute_result"
        }
      ],
      "source": [
        "x_variable_w = data_with.columns[~(data_with.columns.isin(['is_misinfo']))]                                            \n",
        "  \n",
        "x = data_with[x_variable_w].values\n",
        "y = data_with['is_misinfo'].values \n",
        "\n",
        "# train/test = 80/20\n",
        "x_train, x_test, y_train, y_test = train_test_split(\n",
        "    x,\n",
        "    y,\n",
        "    test_size=0.2,\n",
        "    random_state = 0\n",
        "    )\n",
        "\n",
        "\n",
        "x_train = pd.DataFrame(x_train)\n",
        "x_train.set_index(0)\n",
        "x_test = pd.DataFrame(x_test)\n",
        "x_test.set_index(0)"
      ]
    },
    {
      "cell_type": "code",
      "execution_count": null,
      "metadata": {
        "colab": {
          "base_uri": "https://localhost:8080/"
        },
        "id": "kFdDxo-B5o1q",
        "outputId": "c4e94013-673d-462e-a814-c0669d02dbdd"
      },
      "outputs": [
        {
          "data": {
            "text/plain": [
              "Index(['favorite_count', 'retweet_count', 'user_favourites_count',\n",
              "       'user_followers_count', 'user_friends_count', 'user_listed_count',\n",
              "       'user_statuses_count', 'user_verified', 'polarity', 'subjectivity',\n",
              "       'text'],\n",
              "      dtype='object')"
            ]
          },
          "execution_count": 22,
          "metadata": {},
          "output_type": "execute_result"
        }
      ],
      "source": [
        "x_variable_w"
      ]
    },
    {
      "cell_type": "code",
      "execution_count": null,
      "metadata": {
        "colab": {
          "base_uri": "https://localhost:8080/"
        },
        "id": "8uEvrEbA9Flq",
        "outputId": "830cd2ad-6bf5-4bc9-f699-4c426a5b293a"
      },
      "outputs": [
        {
          "data": {
            "text/plain": [
              "0       if you’re doing an engineering degree, don’t w...\n",
              "1       this 2nd vaccine dose will have u struggling f...\n",
              "2       My aunt got the covid vaccine today because sh...\n",
              "3       If you date men do not worry about what’s in t...\n",
              "4                                  Hello vaccine day ❤️🇪🇺\n",
              "                              ...                        \n",
              "7414    My dad got the Moderna vaccine this morning an...\n",
              "7415    just got the second dose of the mdrna vaccine....\n",
              "7416    A comprehensive assessment of the #COVID19 #pa...\n",
              "7417    #vaccinated #GetVaccinated #VaccinesWork \\n\\nN...\n",
              "7418    I get my first dose of the vaccine today. Can’...\n",
              "Name: 10, Length: 7419, dtype: object"
            ]
          },
          "execution_count": 23,
          "metadata": {},
          "output_type": "execute_result"
        }
      ],
      "source": [
        "x_train[10]"
      ]
    },
    {
      "cell_type": "markdown",
      "metadata": {
        "id": "kmykTDTndd3R"
      },
      "source": [
        "#### NMF"
      ]
    },
    {
      "cell_type": "code",
      "execution_count": null,
      "metadata": {
        "colab": {
          "base_uri": "https://localhost:8080/",
          "height": 36
        },
        "id": "m_KCtwQZdbq3",
        "outputId": "1c6915d2-341f-45f5-f215-b33bd6914434"
      },
      "outputs": [
        {
          "data": {
            "application/vnd.google.colaboratory.intrinsic+json": {
              "type": "string"
            },
            "text/plain": [
              "'\\nfrom sklearn.decomposition import NMF\\n'"
            ]
          },
          "execution_count": 55,
          "metadata": {},
          "output_type": "execute_result"
        }
      ],
      "source": [
        "#https://predictivehacks.com/topic-modelling-with-nmf-in-python/\n",
        "#https://medium.com/ml2vec/topic-modeling-is-an-unsupervised-learning-approach-to-clustering-documents-to-discover-topics-fdfbf30e27df\n",
        "'''\n",
        "from sklearn.decomposition import NMF\n",
        "'''\n",
        "#x_train_tfidf_norm.shape # too sparse need to extract key from features"
      ]
    },
    {
      "cell_type": "code",
      "execution_count": null,
      "metadata": {
        "colab": {
          "base_uri": "https://localhost:8080/",
          "height": 577
        },
        "id": "V07yoLdBj0Hi",
        "outputId": "d5b2f42e-dd19-406b-f74c-35ebd291e309"
      },
      "outputs": [
        {
          "name": "stderr",
          "output_type": "stream",
          "text": [
            "[nltk_data] Downloading package punkt to /root/nltk_data...\n",
            "[nltk_data]   Unzipping tokenizers/punkt.zip.\n",
            "[nltk_data] Downloading package averaged_perceptron_tagger to\n",
            "[nltk_data]     /root/nltk_data...\n",
            "[nltk_data]   Unzipping taggers/averaged_perceptron_tagger.zip.\n",
            "[nltk_data] Downloading package wordnet to /root/nltk_data...\n",
            "[nltk_data] Downloading package omw-1.4 to /root/nltk_data...\n"
          ]
        },
        {
          "data": {
            "text/html": [
              "\n",
              "  <div id=\"df-491c27d7-4f1e-4db0-906b-525a6f15cee1\">\n",
              "    <div class=\"colab-df-container\">\n",
              "      <div>\n",
              "<style scoped>\n",
              "    .dataframe tbody tr th:only-of-type {\n",
              "        vertical-align: middle;\n",
              "    }\n",
              "\n",
              "    .dataframe tbody tr th {\n",
              "        vertical-align: top;\n",
              "    }\n",
              "\n",
              "    .dataframe thead th {\n",
              "        text-align: right;\n",
              "    }\n",
              "</style>\n",
              "<table border=\"1\" class=\"dataframe\">\n",
              "  <thead>\n",
              "    <tr style=\"text-align: right;\">\n",
              "      <th></th>\n",
              "      <th>1</th>\n",
              "      <th>2</th>\n",
              "      <th>3</th>\n",
              "      <th>4</th>\n",
              "      <th>5</th>\n",
              "      <th>6</th>\n",
              "      <th>7</th>\n",
              "      <th>8</th>\n",
              "      <th>9</th>\n",
              "      <th>10</th>\n",
              "      <th>nouns_verbs</th>\n",
              "    </tr>\n",
              "    <tr>\n",
              "      <th>0</th>\n",
              "      <th></th>\n",
              "      <th></th>\n",
              "      <th></th>\n",
              "      <th></th>\n",
              "      <th></th>\n",
              "      <th></th>\n",
              "      <th></th>\n",
              "      <th></th>\n",
              "      <th></th>\n",
              "      <th></th>\n",
              "      <th></th>\n",
              "    </tr>\n",
              "  </thead>\n",
              "  <tbody>\n",
              "    <tr>\n",
              "      <th>0.000009</th>\n",
              "      <td>0.0</td>\n",
              "      <td>0.00209</td>\n",
              "      <td>0.0</td>\n",
              "      <td>0.000037</td>\n",
              "      <td>0.0</td>\n",
              "      <td>0.000124</td>\n",
              "      <td>0.0</td>\n",
              "      <td>0.5</td>\n",
              "      <td>0.65</td>\n",
              "      <td>#Vaccinated with Dose 1 of @pfizer yesterday.\\...</td>\n",
              "      <td>engineering degree don ’ t worry ’ s vaccine</td>\n",
              "    </tr>\n",
              "    <tr>\n",
              "      <th>0.000018</th>\n",
              "      <td>0.0</td>\n",
              "      <td>0.001821</td>\n",
              "      <td>0.00004</td>\n",
              "      <td>0.000722</td>\n",
              "      <td>0.000065</td>\n",
              "      <td>0.000678</td>\n",
              "      <td>1.0</td>\n",
              "      <td>0.525</td>\n",
              "      <td>0.383333</td>\n",
              "      <td>The COVID vaccines work just like any other va...</td>\n",
              "      <td>vaccine dose life dude</td>\n",
              "    </tr>\n",
              "    <tr>\n",
              "      <th>0.000027</th>\n",
              "      <td>0.0</td>\n",
              "      <td>0.004906</td>\n",
              "      <td>0.000027</td>\n",
              "      <td>0.002307</td>\n",
              "      <td>0.000241</td>\n",
              "      <td>0.001638</td>\n",
              "      <td>0.0</td>\n",
              "      <td>0.5</td>\n",
              "      <td>0.0</td>\n",
              "      <td>Daily goals: 1) lots of meetings today, set 2 ...</td>\n",
              "      <td>aunt covid vaccine today healthcare worker t h...</td>\n",
              "    </tr>\n",
              "    <tr>\n",
              "      <th>0.000000</th>\n",
              "      <td>0.0</td>\n",
              "      <td>0.001965</td>\n",
              "      <td>0.000001</td>\n",
              "      <td>0.000359</td>\n",
              "      <td>0.0</td>\n",
              "      <td>0.00036</td>\n",
              "      <td>0.0</td>\n",
              "      <td>0.5</td>\n",
              "      <td>0.0</td>\n",
              "      <td>Lessons from history about a rushed vaccine ht...</td>\n",
              "      <td>date men ’ s vaccine</td>\n",
              "    </tr>\n",
              "    <tr>\n",
              "      <th>0.000045</th>\n",
              "      <td>0.0</td>\n",
              "      <td>0.002762</td>\n",
              "      <td>0.000001</td>\n",
              "      <td>0.001001</td>\n",
              "      <td>0.000005</td>\n",
              "      <td>0.000497</td>\n",
              "      <td>0.0</td>\n",
              "      <td>0.441667</td>\n",
              "      <td>0.377778</td>\n",
              "      <td>My mother and I just got our first dose of the...</td>\n",
              "      <td>Hello vaccine day</td>\n",
              "    </tr>\n",
              "    <tr>\n",
              "      <th>...</th>\n",
              "      <td>...</td>\n",
              "      <td>...</td>\n",
              "      <td>...</td>\n",
              "      <td>...</td>\n",
              "      <td>...</td>\n",
              "      <td>...</td>\n",
              "      <td>...</td>\n",
              "      <td>...</td>\n",
              "      <td>...</td>\n",
              "      <td>...</td>\n",
              "      <td>...</td>\n",
              "    </tr>\n",
              "    <tr>\n",
              "      <th>0.000232</th>\n",
              "      <td>0.0</td>\n",
              "      <td>0.040415</td>\n",
              "      <td>0.000069</td>\n",
              "      <td>0.00192</td>\n",
              "      <td>0.000232</td>\n",
              "      <td>0.019543</td>\n",
              "      <td>0.0</td>\n",
              "      <td>0.5</td>\n",
              "      <td>0.0</td>\n",
              "      <td>I AM ABOUT TO GET THE VACCINE</td>\n",
              "      <td>vaccinatiepaspoort BLM BillGates DepopulationA...</td>\n",
              "    </tr>\n",
              "    <tr>\n",
              "      <th>0.000000</th>\n",
              "      <td>0.0</td>\n",
              "      <td>0.001483</td>\n",
              "      <td>0.000002</td>\n",
              "      <td>0.000075</td>\n",
              "      <td>0.000005</td>\n",
              "      <td>0.001971</td>\n",
              "      <td>0.0</td>\n",
              "      <td>0.55</td>\n",
              "      <td>0.2</td>\n",
              "      <td>Was the Whole Pandemic About the Vaccine?\\n\\nC...</td>\n",
              "      <td>✅ crohnsdisease http //t.co/lpoYNUxses</td>\n",
              "    </tr>\n",
              "    <tr>\n",
              "      <th>0.000000</th>\n",
              "      <td>0.0</td>\n",
              "      <td>0.011726</td>\n",
              "      <td>0.000029</td>\n",
              "      <td>0.001525</td>\n",
              "      <td>0.00007</td>\n",
              "      <td>0.013999</td>\n",
              "      <td>0.0</td>\n",
              "      <td>0.5</td>\n",
              "      <td>0.0</td>\n",
              "      <td>Bout to be zonked after this vaccine. I’m so t...</td>\n",
              "      <td>date people vaccine BC http //t.co/V2QtHBSVM0</td>\n",
              "    </tr>\n",
              "    <tr>\n",
              "      <th>0.000009</th>\n",
              "      <td>0.000128</td>\n",
              "      <td>0.064267</td>\n",
              "      <td>0.000269</td>\n",
              "      <td>0.036475</td>\n",
              "      <td>0.000695</td>\n",
              "      <td>0.087495</td>\n",
              "      <td>0.0</td>\n",
              "      <td>0.5</td>\n",
              "      <td>0.0</td>\n",
              "      <td>\"DR STEVE HOTZE THIS IS NOT A VACCINE IT´S A m...</td>\n",
              "      <td>Depopulation Trudeau http //t.co/vOA6SAmj8l</td>\n",
              "    </tr>\n",
              "    <tr>\n",
              "      <th>0.000000</th>\n",
              "      <td>0.0</td>\n",
              "      <td>0.001996</td>\n",
              "      <td>0.000001</td>\n",
              "      <td>0.00072</td>\n",
              "      <td>0.0</td>\n",
              "      <td>0.000334</td>\n",
              "      <td>0.0</td>\n",
              "      <td>0.4</td>\n",
              "      <td>0.6</td>\n",
              "      <td>#ReflectingFarrakhan\\n\\nWoman afraid of Micros...</td>\n",
              "      <td>people God see believer vaccine nothing</td>\n",
              "    </tr>\n",
              "  </tbody>\n",
              "</table>\n",
              "<p>2473 rows × 11 columns</p>\n",
              "</div>\n",
              "      <button class=\"colab-df-convert\" onclick=\"convertToInteractive('df-491c27d7-4f1e-4db0-906b-525a6f15cee1')\"\n",
              "              title=\"Convert this dataframe to an interactive table.\"\n",
              "              style=\"display:none;\">\n",
              "        \n",
              "  <svg xmlns=\"http://www.w3.org/2000/svg\" height=\"24px\"viewBox=\"0 0 24 24\"\n",
              "       width=\"24px\">\n",
              "    <path d=\"M0 0h24v24H0V0z\" fill=\"none\"/>\n",
              "    <path d=\"M18.56 5.44l.94 2.06.94-2.06 2.06-.94-2.06-.94-.94-2.06-.94 2.06-2.06.94zm-11 1L8.5 8.5l.94-2.06 2.06-.94-2.06-.94L8.5 2.5l-.94 2.06-2.06.94zm10 10l.94 2.06.94-2.06 2.06-.94-2.06-.94-.94-2.06-.94 2.06-2.06.94z\"/><path d=\"M17.41 7.96l-1.37-1.37c-.4-.4-.92-.59-1.43-.59-.52 0-1.04.2-1.43.59L10.3 9.45l-7.72 7.72c-.78.78-.78 2.05 0 2.83L4 21.41c.39.39.9.59 1.41.59.51 0 1.02-.2 1.41-.59l7.78-7.78 2.81-2.81c.8-.78.8-2.07 0-2.86zM5.41 20L4 18.59l7.72-7.72 1.47 1.35L5.41 20z\"/>\n",
              "  </svg>\n",
              "      </button>\n",
              "      \n",
              "  <style>\n",
              "    .colab-df-container {\n",
              "      display:flex;\n",
              "      flex-wrap:wrap;\n",
              "      gap: 12px;\n",
              "    }\n",
              "\n",
              "    .colab-df-convert {\n",
              "      background-color: #E8F0FE;\n",
              "      border: none;\n",
              "      border-radius: 50%;\n",
              "      cursor: pointer;\n",
              "      display: none;\n",
              "      fill: #1967D2;\n",
              "      height: 32px;\n",
              "      padding: 0 0 0 0;\n",
              "      width: 32px;\n",
              "    }\n",
              "\n",
              "    .colab-df-convert:hover {\n",
              "      background-color: #E2EBFA;\n",
              "      box-shadow: 0px 1px 2px rgba(60, 64, 67, 0.3), 0px 1px 3px 1px rgba(60, 64, 67, 0.15);\n",
              "      fill: #174EA6;\n",
              "    }\n",
              "\n",
              "    [theme=dark] .colab-df-convert {\n",
              "      background-color: #3B4455;\n",
              "      fill: #D2E3FC;\n",
              "    }\n",
              "\n",
              "    [theme=dark] .colab-df-convert:hover {\n",
              "      background-color: #434B5C;\n",
              "      box-shadow: 0px 1px 3px 1px rgba(0, 0, 0, 0.15);\n",
              "      filter: drop-shadow(0px 1px 2px rgba(0, 0, 0, 0.3));\n",
              "      fill: #FFFFFF;\n",
              "    }\n",
              "  </style>\n",
              "\n",
              "      <script>\n",
              "        const buttonEl =\n",
              "          document.querySelector('#df-491c27d7-4f1e-4db0-906b-525a6f15cee1 button.colab-df-convert');\n",
              "        buttonEl.style.display =\n",
              "          google.colab.kernel.accessAllowed ? 'block' : 'none';\n",
              "\n",
              "        async function convertToInteractive(key) {\n",
              "          const element = document.querySelector('#df-491c27d7-4f1e-4db0-906b-525a6f15cee1');\n",
              "          const dataTable =\n",
              "            await google.colab.kernel.invokeFunction('convertToInteractive',\n",
              "                                                     [key], {});\n",
              "          if (!dataTable) return;\n",
              "\n",
              "          const docLinkHtml = 'Like what you see? Visit the ' +\n",
              "            '<a target=\"_blank\" href=https://colab.research.google.com/notebooks/data_table.ipynb>data table notebook</a>'\n",
              "            + ' to learn more about interactive tables.';\n",
              "          element.innerHTML = '';\n",
              "          dataTable['output_type'] = 'display_data';\n",
              "          await google.colab.output.renderOutput(dataTable, element);\n",
              "          const docLink = document.createElement('div');\n",
              "          docLink.innerHTML = docLinkHtml;\n",
              "          element.appendChild(docLink);\n",
              "        }\n",
              "      </script>\n",
              "    </div>\n",
              "  </div>\n",
              "  "
            ],
            "text/plain": [
              "                 1         2         3         4         5         6    7  \\\n",
              "0                                                                           \n",
              "0.000009       0.0   0.00209       0.0  0.000037       0.0  0.000124  0.0   \n",
              "0.000018       0.0  0.001821   0.00004  0.000722  0.000065  0.000678  1.0   \n",
              "0.000027       0.0  0.004906  0.000027  0.002307  0.000241  0.001638  0.0   \n",
              "0.000000       0.0  0.001965  0.000001  0.000359       0.0   0.00036  0.0   \n",
              "0.000045       0.0  0.002762  0.000001  0.001001  0.000005  0.000497  0.0   \n",
              "...            ...       ...       ...       ...       ...       ...  ...   \n",
              "0.000232       0.0  0.040415  0.000069   0.00192  0.000232  0.019543  0.0   \n",
              "0.000000       0.0  0.001483  0.000002  0.000075  0.000005  0.001971  0.0   \n",
              "0.000000       0.0  0.011726  0.000029  0.001525   0.00007  0.013999  0.0   \n",
              "0.000009  0.000128  0.064267  0.000269  0.036475  0.000695  0.087495  0.0   \n",
              "0.000000       0.0  0.001996  0.000001   0.00072       0.0  0.000334  0.0   \n",
              "\n",
              "                 8         9  \\\n",
              "0                              \n",
              "0.000009       0.5      0.65   \n",
              "0.000018     0.525  0.383333   \n",
              "0.000027       0.5       0.0   \n",
              "0.000000       0.5       0.0   \n",
              "0.000045  0.441667  0.377778   \n",
              "...            ...       ...   \n",
              "0.000232       0.5       0.0   \n",
              "0.000000      0.55       0.2   \n",
              "0.000000       0.5       0.0   \n",
              "0.000009       0.5       0.0   \n",
              "0.000000       0.4       0.6   \n",
              "\n",
              "                                                         10  \\\n",
              "0                                                             \n",
              "0.000009  #Vaccinated with Dose 1 of @pfizer yesterday.\\...   \n",
              "0.000018  The COVID vaccines work just like any other va...   \n",
              "0.000027  Daily goals: 1) lots of meetings today, set 2 ...   \n",
              "0.000000  Lessons from history about a rushed vaccine ht...   \n",
              "0.000045  My mother and I just got our first dose of the...   \n",
              "...                                                     ...   \n",
              "0.000232                      I AM ABOUT TO GET THE VACCINE   \n",
              "0.000000  Was the Whole Pandemic About the Vaccine?\\n\\nC...   \n",
              "0.000000  Bout to be zonked after this vaccine. I’m so t...   \n",
              "0.000009  \"DR STEVE HOTZE THIS IS NOT A VACCINE IT´S A m...   \n",
              "0.000000  #ReflectingFarrakhan\\n\\nWoman afraid of Micros...   \n",
              "\n",
              "                                                nouns_verbs  \n",
              "0                                                            \n",
              "0.000009       engineering degree don ’ t worry ’ s vaccine  \n",
              "0.000018                             vaccine dose life dude  \n",
              "0.000027  aunt covid vaccine today healthcare worker t h...  \n",
              "0.000000                               date men ’ s vaccine  \n",
              "0.000045                                  Hello vaccine day  \n",
              "...                                                     ...  \n",
              "0.000232  vaccinatiepaspoort BLM BillGates DepopulationA...  \n",
              "0.000000             ✅ crohnsdisease http //t.co/lpoYNUxses  \n",
              "0.000000      date people vaccine BC http //t.co/V2QtHBSVM0  \n",
              "0.000009        Depopulation Trudeau http //t.co/vOA6SAmj8l  \n",
              "0.000000            people God see believer vaccine nothing  \n",
              "\n",
              "[2473 rows x 11 columns]"
            ]
          },
          "execution_count": 24,
          "metadata": {},
          "output_type": "execute_result"
        }
      ],
      "source": [
        "# https://towardsdatascience.com/nmf-a-visual-explainer-and-python-implementation-7ecdd73491f8\n",
        "\n",
        "'''\n",
        "Here we will lemmatize all the words in the speeches so that different forms of \n",
        "a particular word will be reduced to a base form, for instance noun plurals \n",
        "become singular and all verb tenses become present. \n",
        "updated: also include verb\n",
        "'''\n",
        "\n",
        "import nltk\n",
        "nltk.download('punkt')\n",
        "nltk.download('averaged_perceptron_tagger')\n",
        "nltk.download('wordnet')\n",
        "nltk.download('omw-1.4')\n",
        "from nltk.corpus import stopwords\n",
        "from nltk import word_tokenize, pos_tag\n",
        "from nltk.stem import WordNetLemmatizer\n",
        "\n",
        "# Noun extract and lemmatize function\n",
        "def nouns(text):\n",
        "    '''Given a string of text, tokenize the text \n",
        "    and pull out only the nouns.'''\n",
        "    # create mask to isolate words that are nouns\n",
        "    is_noun = lambda pos: pos[:2] == ('NN'or'VBP'or'vb')\n",
        "    # store function to split string of words \n",
        "    # into a list of words (tokens)\n",
        "    tokenized = word_tokenize(text)\n",
        "    # store function to lemmatize each word\n",
        "    wordnet_lemmatizer = WordNetLemmatizer()\n",
        "    # use list comprehension to lemmatize all words \n",
        "    # and create a list of all nouns\n",
        "    all_nouns = [wordnet_lemmatizer.lemmatize(word) \\\n",
        "    for (word, pos) in pos_tag(tokenized) if is_noun(pos)] \n",
        "    \n",
        "    #return string of joined list of nouns\n",
        "    return ' '.join(all_nouns)\n",
        "\n",
        "# Create dataframe of only nouns from speeches\n",
        "x_train['nouns_verbs'] = x_train[10].apply(nouns)\n",
        "x_test['nouns_verbs'] = x_train[10].apply(nouns)\n",
        "\n",
        "x_train.set_index(0)\n",
        "x_test.set_index(0)"
      ]
    },
    {
      "cell_type": "code",
      "execution_count": null,
      "metadata": {
        "colab": {
          "base_uri": "https://localhost:8080/",
          "height": 144
        },
        "id": "vXbKlpwxvIRs",
        "outputId": "fa2e689d-ebed-4587-b6b0-7f0e100f598f"
      },
      "outputs": [
        {
          "data": {
            "text/html": [
              "\n",
              "  <div id=\"df-f21a2040-4bbd-4365-bf62-c4693c631b46\">\n",
              "    <div class=\"colab-df-container\">\n",
              "      <div>\n",
              "<style scoped>\n",
              "    .dataframe tbody tr th:only-of-type {\n",
              "        vertical-align: middle;\n",
              "    }\n",
              "\n",
              "    .dataframe tbody tr th {\n",
              "        vertical-align: top;\n",
              "    }\n",
              "\n",
              "    .dataframe thead th {\n",
              "        text-align: right;\n",
              "    }\n",
              "</style>\n",
              "<table border=\"1\" class=\"dataframe\">\n",
              "  <thead>\n",
              "    <tr style=\"text-align: right;\">\n",
              "      <th></th>\n",
              "      <th>0</th>\n",
              "      <th>1</th>\n",
              "      <th>2</th>\n",
              "      <th>3</th>\n",
              "      <th>4</th>\n",
              "      <th>5</th>\n",
              "      <th>6</th>\n",
              "      <th>7</th>\n",
              "      <th>8</th>\n",
              "      <th>9</th>\n",
              "      <th>10</th>\n",
              "      <th>nouns_verbs</th>\n",
              "    </tr>\n",
              "  </thead>\n",
              "  <tbody>\n",
              "    <tr>\n",
              "      <th>0</th>\n",
              "      <td>0.000018</td>\n",
              "      <td>0.0</td>\n",
              "      <td>0.001712</td>\n",
              "      <td>0.000001</td>\n",
              "      <td>0.000251</td>\n",
              "      <td>0.0</td>\n",
              "      <td>0.000175</td>\n",
              "      <td>0.0</td>\n",
              "      <td>0.5</td>\n",
              "      <td>0.0</td>\n",
              "      <td>if you’re doing an engineering degree, don’t w...</td>\n",
              "      <td>engineering degree don ’ t worry ’ s vaccine</td>\n",
              "    </tr>\n",
              "    <tr>\n",
              "      <th>1</th>\n",
              "      <td>0.0</td>\n",
              "      <td>0.0</td>\n",
              "      <td>0.013296</td>\n",
              "      <td>0.0</td>\n",
              "      <td>0.000489</td>\n",
              "      <td>0.0</td>\n",
              "      <td>0.000203</td>\n",
              "      <td>0.0</td>\n",
              "      <td>0.5</td>\n",
              "      <td>0.0</td>\n",
              "      <td>this 2nd vaccine dose will have u struggling f...</td>\n",
              "      <td>vaccine dose life dude</td>\n",
              "    </tr>\n",
              "    <tr>\n",
              "      <th>2</th>\n",
              "      <td>0.000205</td>\n",
              "      <td>0.0</td>\n",
              "      <td>0.042499</td>\n",
              "      <td>0.000018</td>\n",
              "      <td>0.000933</td>\n",
              "      <td>0.000037</td>\n",
              "      <td>0.001256</td>\n",
              "      <td>0.0</td>\n",
              "      <td>0.779167</td>\n",
              "      <td>0.75</td>\n",
              "      <td>My aunt got the covid vaccine today because sh...</td>\n",
              "      <td>aunt covid vaccine today healthcare worker t h...</td>\n",
              "    </tr>\n",
              "  </tbody>\n",
              "</table>\n",
              "</div>\n",
              "      <button class=\"colab-df-convert\" onclick=\"convertToInteractive('df-f21a2040-4bbd-4365-bf62-c4693c631b46')\"\n",
              "              title=\"Convert this dataframe to an interactive table.\"\n",
              "              style=\"display:none;\">\n",
              "        \n",
              "  <svg xmlns=\"http://www.w3.org/2000/svg\" height=\"24px\"viewBox=\"0 0 24 24\"\n",
              "       width=\"24px\">\n",
              "    <path d=\"M0 0h24v24H0V0z\" fill=\"none\"/>\n",
              "    <path d=\"M18.56 5.44l.94 2.06.94-2.06 2.06-.94-2.06-.94-.94-2.06-.94 2.06-2.06.94zm-11 1L8.5 8.5l.94-2.06 2.06-.94-2.06-.94L8.5 2.5l-.94 2.06-2.06.94zm10 10l.94 2.06.94-2.06 2.06-.94-2.06-.94-.94-2.06-.94 2.06-2.06.94z\"/><path d=\"M17.41 7.96l-1.37-1.37c-.4-.4-.92-.59-1.43-.59-.52 0-1.04.2-1.43.59L10.3 9.45l-7.72 7.72c-.78.78-.78 2.05 0 2.83L4 21.41c.39.39.9.59 1.41.59.51 0 1.02-.2 1.41-.59l7.78-7.78 2.81-2.81c.8-.78.8-2.07 0-2.86zM5.41 20L4 18.59l7.72-7.72 1.47 1.35L5.41 20z\"/>\n",
              "  </svg>\n",
              "      </button>\n",
              "      \n",
              "  <style>\n",
              "    .colab-df-container {\n",
              "      display:flex;\n",
              "      flex-wrap:wrap;\n",
              "      gap: 12px;\n",
              "    }\n",
              "\n",
              "    .colab-df-convert {\n",
              "      background-color: #E8F0FE;\n",
              "      border: none;\n",
              "      border-radius: 50%;\n",
              "      cursor: pointer;\n",
              "      display: none;\n",
              "      fill: #1967D2;\n",
              "      height: 32px;\n",
              "      padding: 0 0 0 0;\n",
              "      width: 32px;\n",
              "    }\n",
              "\n",
              "    .colab-df-convert:hover {\n",
              "      background-color: #E2EBFA;\n",
              "      box-shadow: 0px 1px 2px rgba(60, 64, 67, 0.3), 0px 1px 3px 1px rgba(60, 64, 67, 0.15);\n",
              "      fill: #174EA6;\n",
              "    }\n",
              "\n",
              "    [theme=dark] .colab-df-convert {\n",
              "      background-color: #3B4455;\n",
              "      fill: #D2E3FC;\n",
              "    }\n",
              "\n",
              "    [theme=dark] .colab-df-convert:hover {\n",
              "      background-color: #434B5C;\n",
              "      box-shadow: 0px 1px 3px 1px rgba(0, 0, 0, 0.15);\n",
              "      filter: drop-shadow(0px 1px 2px rgba(0, 0, 0, 0.3));\n",
              "      fill: #FFFFFF;\n",
              "    }\n",
              "  </style>\n",
              "\n",
              "      <script>\n",
              "        const buttonEl =\n",
              "          document.querySelector('#df-f21a2040-4bbd-4365-bf62-c4693c631b46 button.colab-df-convert');\n",
              "        buttonEl.style.display =\n",
              "          google.colab.kernel.accessAllowed ? 'block' : 'none';\n",
              "\n",
              "        async function convertToInteractive(key) {\n",
              "          const element = document.querySelector('#df-f21a2040-4bbd-4365-bf62-c4693c631b46');\n",
              "          const dataTable =\n",
              "            await google.colab.kernel.invokeFunction('convertToInteractive',\n",
              "                                                     [key], {});\n",
              "          if (!dataTable) return;\n",
              "\n",
              "          const docLinkHtml = 'Like what you see? Visit the ' +\n",
              "            '<a target=\"_blank\" href=https://colab.research.google.com/notebooks/data_table.ipynb>data table notebook</a>'\n",
              "            + ' to learn more about interactive tables.';\n",
              "          element.innerHTML = '';\n",
              "          dataTable['output_type'] = 'display_data';\n",
              "          await google.colab.output.renderOutput(dataTable, element);\n",
              "          const docLink = document.createElement('div');\n",
              "          docLink.innerHTML = docLinkHtml;\n",
              "          element.appendChild(docLink);\n",
              "        }\n",
              "      </script>\n",
              "    </div>\n",
              "  </div>\n",
              "  "
            ],
            "text/plain": [
              "          0    1         2         3         4         5         6    7  \\\n",
              "0  0.000018  0.0  0.001712  0.000001  0.000251       0.0  0.000175  0.0   \n",
              "1       0.0  0.0  0.013296       0.0  0.000489       0.0  0.000203  0.0   \n",
              "2  0.000205  0.0  0.042499  0.000018  0.000933  0.000037  0.001256  0.0   \n",
              "\n",
              "          8     9                                                 10  \\\n",
              "0       0.5   0.0  if you’re doing an engineering degree, don’t w...   \n",
              "1       0.5   0.0  this 2nd vaccine dose will have u struggling f...   \n",
              "2  0.779167  0.75  My aunt got the covid vaccine today because sh...   \n",
              "\n",
              "                                         nouns_verbs  \n",
              "0       engineering degree don ’ t worry ’ s vaccine  \n",
              "1                             vaccine dose life dude  \n",
              "2  aunt covid vaccine today healthcare worker t h...  "
            ]
          },
          "execution_count": 25,
          "metadata": {},
          "output_type": "execute_result"
        }
      ],
      "source": [
        "x_train.head(n=3)"
      ]
    },
    {
      "cell_type": "code",
      "execution_count": null,
      "metadata": {
        "id": "G_0ovHtN6U4J"
      },
      "outputs": [],
      "source": [
        "# follow chunk copy from: https://www.kaggle.com/code/onadegibert/sentiment-analysis-with-tfidf-and-random-forest/notebook\n",
        "\n",
        "def vectorize(data,tfidf_vect):\n",
        "    #tfidf_vect = TfidfVectorizer(analyzer='word',stop_words='english', max_features=5000) # take top 5000 best features that can contribute to model\n",
        "    X_tfidf = tfidf_vect.fit_transform(data)\n",
        "    #words = tfidf_vect_fit.get_feature_names()\n",
        "    X_tfidf_df = pd.DataFrame(X_tfidf.toarray(), columns = tfidf_vect.get_feature_names())\n",
        "    return(X_tfidf_df)\n",
        "\n",
        "tfidf_vect = TfidfVectorizer(analyzer='word',stop_words='english', max_features=10, lowercase=False) # take top 5000 best features that can contribute to model\n",
        "tfidf_vect_fit=tfidf_vect.fit(x_train['nouns_verbs'])\n",
        "x_train_rf_tfidf_text=vectorize(x_train['nouns_verbs'],tfidf_vect_fit)\n",
        "\n",
        "\n",
        "# test data\n",
        "x_test_rf_tfidf_text=pd.DataFrame(tfidf_vect_fit.transform(x_test['nouns_verbs']).toarray())\n",
        "# data leaky vs biased idf: https://stats.stackexchange.com/questions/154660/tfidfvectorizer-should-it-be-used-on-train-only-or-traintest#:~:text=Using%20TF%2DIDF,test%20set."
      ]
    },
    {
      "cell_type": "code",
      "execution_count": null,
      "metadata": {
        "colab": {
          "base_uri": "https://localhost:8080/",
          "height": 206
        },
        "id": "2kHnmwdbqK9I",
        "outputId": "d9e0855a-76e4-4e09-88b4-8cd1129885b6"
      },
      "outputs": [
        {
          "data": {
            "text/html": [
              "\n",
              "  <div id=\"df-3703c5b5-5920-4793-90d7-c932c4ada460\">\n",
              "    <div class=\"colab-df-container\">\n",
              "      <div>\n",
              "<style scoped>\n",
              "    .dataframe tbody tr th:only-of-type {\n",
              "        vertical-align: middle;\n",
              "    }\n",
              "\n",
              "    .dataframe tbody tr th {\n",
              "        vertical-align: top;\n",
              "    }\n",
              "\n",
              "    .dataframe thead th {\n",
              "        text-align: right;\n",
              "    }\n",
              "</style>\n",
              "<table border=\"1\" class=\"dataframe\">\n",
              "  <thead>\n",
              "    <tr style=\"text-align: right;\">\n",
              "      <th></th>\n",
              "      <th>COVID</th>\n",
              "      <th>Pfizer</th>\n",
              "      <th>Vaccine</th>\n",
              "      <th>amp</th>\n",
              "      <th>dose</th>\n",
              "      <th>http</th>\n",
              "      <th>people</th>\n",
              "      <th>shot</th>\n",
              "      <th>today</th>\n",
              "      <th>vaccine</th>\n",
              "    </tr>\n",
              "  </thead>\n",
              "  <tbody>\n",
              "    <tr>\n",
              "      <th>0</th>\n",
              "      <td>0.0</td>\n",
              "      <td>0.0</td>\n",
              "      <td>0.0</td>\n",
              "      <td>0.0</td>\n",
              "      <td>0.000000</td>\n",
              "      <td>0.0</td>\n",
              "      <td>0.0</td>\n",
              "      <td>0.0</td>\n",
              "      <td>0.00000</td>\n",
              "      <td>1.000000</td>\n",
              "    </tr>\n",
              "    <tr>\n",
              "      <th>1</th>\n",
              "      <td>0.0</td>\n",
              "      <td>0.0</td>\n",
              "      <td>0.0</td>\n",
              "      <td>0.0</td>\n",
              "      <td>0.921961</td>\n",
              "      <td>0.0</td>\n",
              "      <td>0.0</td>\n",
              "      <td>0.0</td>\n",
              "      <td>0.00000</td>\n",
              "      <td>0.387282</td>\n",
              "    </tr>\n",
              "    <tr>\n",
              "      <th>2</th>\n",
              "      <td>0.0</td>\n",
              "      <td>0.0</td>\n",
              "      <td>0.0</td>\n",
              "      <td>0.0</td>\n",
              "      <td>0.000000</td>\n",
              "      <td>0.0</td>\n",
              "      <td>0.0</td>\n",
              "      <td>0.0</td>\n",
              "      <td>0.93483</td>\n",
              "      <td>0.355097</td>\n",
              "    </tr>\n",
              "    <tr>\n",
              "      <th>3</th>\n",
              "      <td>0.0</td>\n",
              "      <td>0.0</td>\n",
              "      <td>0.0</td>\n",
              "      <td>0.0</td>\n",
              "      <td>0.000000</td>\n",
              "      <td>0.0</td>\n",
              "      <td>0.0</td>\n",
              "      <td>0.0</td>\n",
              "      <td>0.00000</td>\n",
              "      <td>1.000000</td>\n",
              "    </tr>\n",
              "    <tr>\n",
              "      <th>4</th>\n",
              "      <td>0.0</td>\n",
              "      <td>0.0</td>\n",
              "      <td>0.0</td>\n",
              "      <td>0.0</td>\n",
              "      <td>0.000000</td>\n",
              "      <td>0.0</td>\n",
              "      <td>0.0</td>\n",
              "      <td>0.0</td>\n",
              "      <td>0.00000</td>\n",
              "      <td>1.000000</td>\n",
              "    </tr>\n",
              "  </tbody>\n",
              "</table>\n",
              "</div>\n",
              "      <button class=\"colab-df-convert\" onclick=\"convertToInteractive('df-3703c5b5-5920-4793-90d7-c932c4ada460')\"\n",
              "              title=\"Convert this dataframe to an interactive table.\"\n",
              "              style=\"display:none;\">\n",
              "        \n",
              "  <svg xmlns=\"http://www.w3.org/2000/svg\" height=\"24px\"viewBox=\"0 0 24 24\"\n",
              "       width=\"24px\">\n",
              "    <path d=\"M0 0h24v24H0V0z\" fill=\"none\"/>\n",
              "    <path d=\"M18.56 5.44l.94 2.06.94-2.06 2.06-.94-2.06-.94-.94-2.06-.94 2.06-2.06.94zm-11 1L8.5 8.5l.94-2.06 2.06-.94-2.06-.94L8.5 2.5l-.94 2.06-2.06.94zm10 10l.94 2.06.94-2.06 2.06-.94-2.06-.94-.94-2.06-.94 2.06-2.06.94z\"/><path d=\"M17.41 7.96l-1.37-1.37c-.4-.4-.92-.59-1.43-.59-.52 0-1.04.2-1.43.59L10.3 9.45l-7.72 7.72c-.78.78-.78 2.05 0 2.83L4 21.41c.39.39.9.59 1.41.59.51 0 1.02-.2 1.41-.59l7.78-7.78 2.81-2.81c.8-.78.8-2.07 0-2.86zM5.41 20L4 18.59l7.72-7.72 1.47 1.35L5.41 20z\"/>\n",
              "  </svg>\n",
              "      </button>\n",
              "      \n",
              "  <style>\n",
              "    .colab-df-container {\n",
              "      display:flex;\n",
              "      flex-wrap:wrap;\n",
              "      gap: 12px;\n",
              "    }\n",
              "\n",
              "    .colab-df-convert {\n",
              "      background-color: #E8F0FE;\n",
              "      border: none;\n",
              "      border-radius: 50%;\n",
              "      cursor: pointer;\n",
              "      display: none;\n",
              "      fill: #1967D2;\n",
              "      height: 32px;\n",
              "      padding: 0 0 0 0;\n",
              "      width: 32px;\n",
              "    }\n",
              "\n",
              "    .colab-df-convert:hover {\n",
              "      background-color: #E2EBFA;\n",
              "      box-shadow: 0px 1px 2px rgba(60, 64, 67, 0.3), 0px 1px 3px 1px rgba(60, 64, 67, 0.15);\n",
              "      fill: #174EA6;\n",
              "    }\n",
              "\n",
              "    [theme=dark] .colab-df-convert {\n",
              "      background-color: #3B4455;\n",
              "      fill: #D2E3FC;\n",
              "    }\n",
              "\n",
              "    [theme=dark] .colab-df-convert:hover {\n",
              "      background-color: #434B5C;\n",
              "      box-shadow: 0px 1px 3px 1px rgba(0, 0, 0, 0.15);\n",
              "      filter: drop-shadow(0px 1px 2px rgba(0, 0, 0, 0.3));\n",
              "      fill: #FFFFFF;\n",
              "    }\n",
              "  </style>\n",
              "\n",
              "      <script>\n",
              "        const buttonEl =\n",
              "          document.querySelector('#df-3703c5b5-5920-4793-90d7-c932c4ada460 button.colab-df-convert');\n",
              "        buttonEl.style.display =\n",
              "          google.colab.kernel.accessAllowed ? 'block' : 'none';\n",
              "\n",
              "        async function convertToInteractive(key) {\n",
              "          const element = document.querySelector('#df-3703c5b5-5920-4793-90d7-c932c4ada460');\n",
              "          const dataTable =\n",
              "            await google.colab.kernel.invokeFunction('convertToInteractive',\n",
              "                                                     [key], {});\n",
              "          if (!dataTable) return;\n",
              "\n",
              "          const docLinkHtml = 'Like what you see? Visit the ' +\n",
              "            '<a target=\"_blank\" href=https://colab.research.google.com/notebooks/data_table.ipynb>data table notebook</a>'\n",
              "            + ' to learn more about interactive tables.';\n",
              "          element.innerHTML = '';\n",
              "          dataTable['output_type'] = 'display_data';\n",
              "          await google.colab.output.renderOutput(dataTable, element);\n",
              "          const docLink = document.createElement('div');\n",
              "          docLink.innerHTML = docLinkHtml;\n",
              "          element.appendChild(docLink);\n",
              "        }\n",
              "      </script>\n",
              "    </div>\n",
              "  </div>\n",
              "  "
            ],
            "text/plain": [
              "   COVID  Pfizer  Vaccine  amp      dose  http  people  shot    today  \\\n",
              "0    0.0     0.0      0.0  0.0  0.000000   0.0     0.0   0.0  0.00000   \n",
              "1    0.0     0.0      0.0  0.0  0.921961   0.0     0.0   0.0  0.00000   \n",
              "2    0.0     0.0      0.0  0.0  0.000000   0.0     0.0   0.0  0.93483   \n",
              "3    0.0     0.0      0.0  0.0  0.000000   0.0     0.0   0.0  0.00000   \n",
              "4    0.0     0.0      0.0  0.0  0.000000   0.0     0.0   0.0  0.00000   \n",
              "\n",
              "    vaccine  \n",
              "0  1.000000  \n",
              "1  0.387282  \n",
              "2  0.355097  \n",
              "3  1.000000  \n",
              "4  1.000000  "
            ]
          },
          "execution_count": 62,
          "metadata": {},
          "output_type": "execute_result"
        }
      ],
      "source": [
        "x_train_rf_tfidf_text.head()"
      ]
    },
    {
      "cell_type": "code",
      "execution_count": null,
      "metadata": {
        "id": "oggefcafgdfU"
      },
      "outputs": [],
      "source": [
        "'''\n",
        "def get_nmf_topics(model, n_top_words):\n",
        "    \n",
        "    #the word ids obtained need to be reverse-mapped to the words so we can print the topic names.\n",
        "    feat_names = tfidf_vect.get_feature_names()\n",
        "    \n",
        "    word_dict = {};\n",
        "    for i in range(10):\n",
        "        \n",
        "        #for each topic, obtain the largest values, and add the words they map to into the dictionary.\n",
        "        words_ids = model.components_[i].argsort()[:-10 - 1:-1]\n",
        "        words = [feat_names[key] for key in words_ids]\n",
        "        word_dict['Topic # ' + '{:02d}'.format(i+1)] = words;\n",
        "    \n",
        "    return pd.DataFrame(word_dict)\n",
        "'''"
      ]
    },
    {
      "cell_type": "code",
      "execution_count": null,
      "metadata": {
        "id": "naGuLb84g1dj"
      },
      "outputs": [],
      "source": [
        "# create an NMF instance model\n",
        "# the 10 components will be the topics\n",
        "'''\n",
        "nmf = NMF(n_components=10, random_state=0)\n",
        "\n",
        "# fit the model\n",
        "nmf.fit(x_train_rf_tfidf_text)\n",
        "'''"
      ]
    },
    {
      "cell_type": "code",
      "execution_count": null,
      "metadata": {
        "id": "Wmuzd7CfhGa9"
      },
      "outputs": [],
      "source": [
        "#get_nmf_topics(nmf, 10)"
      ]
    },
    {
      "cell_type": "markdown",
      "metadata": {
        "id": "YcZAl9yTsJE2"
      },
      "source": [
        "Qualitatively, we can conclude that the topics are quite different from each other and even attempt to give them a label for what theme they represent:\n",
        "\n",
        "Topic 1: appointment\n",
        "Topic 2: dont worry\n",
        "Topic 3: today \n",
        "Topic 4: gene therapy\n",
        "Topic 5: shot\n",
        "Topic 6: people\n",
        "Topic 7: pfizer\n",
        "Topic 8: tomorrow\n",
        "Topic 9: vaccines work\n",
        "Topic 10: moderna"
      ]
    },
    {
      "cell_type": "code",
      "execution_count": null,
      "metadata": {
        "id": "9eJTtGlFiEGf"
      },
      "outputs": [],
      "source": [
        "#nmf.get_params"
      ]
    },
    {
      "cell_type": "markdown",
      "metadata": {
        "id": "h3hVHb2yiF40"
      },
      "source": [
        "Combine\n",
        "https://medium.com/towards-artificial-intelligence/topic-modeling-with-nmf-for-user-reviews-classification-65913d0b44fe"
      ]
    },
    {
      "cell_type": "code",
      "execution_count": null,
      "metadata": {
        "id": "CuTrzlHNrD_h"
      },
      "outputs": [],
      "source": [
        "# labeling the dataset with the topics\n",
        "'''\n",
        "We can now create an auxiliary table of topics labeled by their top 5 terms and \n",
        "our custom label, and use it to apply clustering to our dataset and label every \n",
        "document with its most representative topic.\n",
        "'''\n",
        "'''\n",
        "def topic_table(n_top_words, feature_names, nmf):\n",
        "  topics = {}\n",
        "  for i, topic_vec in enumerate(nmf.components_):\n",
        "    topic_descr = ''\n",
        "    for fid in topic_vec.argsort()[-1:-n_top_words-1:-1]:\n",
        "      topic_descr = topic_descr + feature_names[fid] + \" \"\n",
        "    topics[i] = topic_descr\n",
        "  return pd.DataFrame({'Top_Topic_Terms': topics})\n",
        "\n",
        "# Label topics with top 5 terms\n",
        "topic_df = topic_table(5, tfidf_vect.get_feature_names(), nmf)\n",
        "# Manually label topics\n",
        "topic_df['Label'] = ['appointment','dont worry', 'today','gene therapy', 'shot', 'issue', 'pfizer','tomorrow','vaccines work', 'moderna']\n",
        "# Getting weights to classify our dataset\n",
        "document_weights_train = nmf.transform(tfidf_vect.transform(x_train['nouns_verbs']))\n",
        "document_weights_test = nmf.transform(tfidf_vect.transform(x_test['nouns_verbs']))\n",
        "document_weights_test = nmf.transform(tfidf_vect.transform(x_test['nouns_verbs']))\n",
        "\n",
        "# Store most representative topic\n",
        "x_train[\"Topics\"] = document_weights_train.argmax(axis=1)\n",
        "x_test[\"Topics\"] = document_weights_test.argmax(axis=1)\n",
        "\n",
        "# Joining the original dataset with labels\n",
        "x_train_temp = pd.merge(x_train, topic_df, left_on='Topics', right_index=True, how='left')\n",
        "x_test_temp = pd.merge(x_test, topic_df, left_on='Topics', right_index=True, how='left')\n",
        "\n",
        "\n",
        "x_train_final = x_train_temp.drop([0,1,'nouns_verbs','Top_Topic_Terms','Label'], axis=1)\n",
        "x_test_final = x_test_temp.drop([0,1,'nouns_verbs','Top_Topic_Terms','Label'], axis=1)\n",
        "'''"
      ]
    },
    {
      "cell_type": "code",
      "execution_count": null,
      "metadata": {
        "id": "dV_DKarZyROW"
      },
      "outputs": [],
      "source": [
        "#x_train.head()"
      ]
    },
    {
      "cell_type": "code",
      "execution_count": null,
      "metadata": {
        "id": "y5kGu4FB9c91"
      },
      "outputs": [],
      "source": [
        "'''\n",
        "rfc = RandomForestClassifier(random_state=0)\n",
        "\n",
        "rf_with = RandomizedSearchCV(estimator=rfc, param_distributions=rf_grid, scoring=make_scorer(f1_score), \n",
        "                        n_iter=3, cv=5,random_state=0,verbose=2,return_train_score=True)\n",
        "\n",
        "rf_with.fit(x_train_final, y_train)\n",
        "\n",
        "# view the best parameters from random search\n",
        "print(rf_with.best_params_)\n",
        "print(rf_with.best_score_)\n",
        "print(rf_with.best_estimator_)\n",
        "'''"
      ]
    },
    {
      "cell_type": "code",
      "execution_count": null,
      "metadata": {
        "id": "HtRPY0Nm48G_"
      },
      "outputs": [],
      "source": [
        "# normalize\n",
        "'''\n",
        "column_mean = x_train['Topics'].mean()\n",
        "column_std = x_train['Topics'].std()\n",
        "column_min = min(x_train['Topics'])\n",
        "column_max = max(x_train['Topics'])\n",
        "\n",
        "x_train['Topics'] = (x_train['Topics'] - column_min) / (column_max - column_min)  \n",
        "'''"
      ]
    },
    {
      "cell_type": "code",
      "execution_count": null,
      "metadata": {
        "id": "ZeSiECFM54-W"
      },
      "outputs": [],
      "source": [
        "#x_train_final.head()"
      ]
    },
    {
      "cell_type": "code",
      "execution_count": null,
      "metadata": {
        "id": "L-9VbMJhq-vi"
      },
      "outputs": [],
      "source": [
        "'''\n",
        "# training ROC\n",
        "train_pred = rf_with.best_estimator_.predict_proba(x_train_final)\n",
        "evaluate_roc(train_pred, y_train)\n",
        "\n",
        "# test ROC\n",
        "test_pred = rf_with.best_estimator_.predict_proba(x_test_final)\n",
        "evaluate_roc(test_pred, y_test)\n",
        "\n",
        "# ROC curve: https://stats.stackexchange.com/questions/263121/why-are-the-roc-curves-not-smooth#:~:text=know%20the%20question,model%20as%20such%3A\n",
        "'''"
      ]
    },
    {
      "cell_type": "markdown",
      "metadata": {
        "id": "6z0aeyPO1NxD"
      },
      "source": [
        "To-DO: how to utilize the best threhold"
      ]
    },
    {
      "cell_type": "markdown",
      "metadata": {
        "id": "tQ5ZDCTjYcX8"
      },
      "source": [
        "https://stackoverflow.com/questions/62268459/accuracy-with-tf-idf-and-non-tf-idf-features\n",
        "\n",
        "https://towardsdatascience.com/how-to-combine-textual-and-numerical-features-for-machine-learning-in-python-dc1526ca94d9"
      ]
    },
    {
      "cell_type": "code",
      "execution_count": null,
      "metadata": {
        "id": "hpnAmkLE5rZD"
      },
      "outputs": [],
      "source": [
        "'''\n",
        "# https://github.com/WillKoehrsen/Machine-Learning-Projects/blob/master/random_forest_explained/Improving%20Random%20Forest%20Part%201.ipynb\n",
        "# Get numerical feature importances\n",
        "importances = list(rf_with.best_estimator_.feature_importances_)\n",
        "x_variable_rf_with = ['favorite_count', 'retweet_count', 'user_favourites_count',\n",
        "       'user_followers_count', 'user_friends_count', 'user_listed_count',\n",
        "       'user_statuses_count', 'user_verified', 'polarity', 'subjectivity', 'Topics of Tweets']\n",
        "\n",
        "# List of tuples with variable and importance\n",
        "feature_importances = [(feature, round(importance, 2)) for feature, importance in zip(x_variable_rf_with, importances)]\n",
        "\n",
        "# Sort the feature importances by most important first\n",
        "feature_importances = sorted(feature_importances, key = lambda x: x[1], reverse = True)\n",
        "\n",
        "# Print out the feature and importances \n",
        "[print('Variable: {:20} Importance: {}'.format(*pair)) for pair in feature_importances];\n",
        "'''"
      ]
    },
    {
      "cell_type": "code",
      "execution_count": null,
      "metadata": {
        "id": "o6AN-X3y8dDM"
      },
      "outputs": [],
      "source": [
        "'''\n",
        "# Reset style \n",
        "plt.style.use('fivethirtyeight')\n",
        "\n",
        "# list of x locations for plotting\n",
        "x_values = list(range(len(importances)))\n",
        "\n",
        "# List of features sorted from most to least important\n",
        "sorted_importances = [importance[1] for importance in feature_importances]\n",
        "sorted_features = [importance[0] for importance in feature_importances]\n",
        "\n",
        "# Cumulative importances\n",
        "cumulative_importances = np.cumsum(sorted_importances)\n",
        "\n",
        "# Make a line graph\n",
        "plt.plot(x_values, cumulative_importances, 'g-')\n",
        "\n",
        "# Draw line at 95% of importance retained\n",
        "plt.hlines(y = 0.95, xmin=0, xmax=len(sorted_importances), color = 'r', linestyles = 'dashed')\n",
        "\n",
        "# Format x ticks and labels\n",
        "plt.xticks(x_values, sorted_features, rotation = 'vertical')\n",
        "\n",
        "# Axis labels and title\n",
        "plt.xlabel('Variable'); plt.ylabel('Cumulative Importance'); plt.title('Cumulative Importances');\n",
        "'''"
      ]
    },
    {
      "cell_type": "code",
      "execution_count": null,
      "metadata": {
        "id": "hojfU8ku8btT"
      },
      "outputs": [],
      "source": [
        "#rf_with.best_estimator_"
      ]
    },
    {
      "cell_type": "markdown",
      "metadata": {
        "id": "zbNN_19Wr3uA"
      },
      "source": [
        "#### Without NMF"
      ]
    },
    {
      "cell_type": "code",
      "execution_count": null,
      "metadata": {
        "id": "UC_vstHDs_tK"
      },
      "outputs": [],
      "source": [
        "# Joining the original dataset with labels\n",
        "x_train_temp = pd.merge(x_train, x_train_rf_tfidf_text,left_index=True, right_index=True, how='inner')\n",
        "x_test_temp = pd.merge(x_test, x_test_rf_tfidf_text,left_index=True, right_index=True, how='inner')\n",
        "\n",
        "\n",
        "x_train_final = x_train_temp.drop([10,'nouns_verbs'], axis=1)\n",
        "x_test_final = x_test_temp.drop([10,'nouns_verbs'], axis=1)"
      ]
    },
    {
      "cell_type": "code",
      "execution_count": null,
      "metadata": {
        "colab": {
          "base_uri": "https://localhost:8080/",
          "height": 144
        },
        "id": "f111FMtVyBkg",
        "outputId": "b6f2c859-899c-4212-86b2-e86f61a2ccff"
      },
      "outputs": [
        {
          "data": {
            "text/html": [
              "\n",
              "  <div id=\"df-dd9042d3-90f6-4316-a2b5-81af25a7e92d\">\n",
              "    <div class=\"colab-df-container\">\n",
              "      <div>\n",
              "<style scoped>\n",
              "    .dataframe tbody tr th:only-of-type {\n",
              "        vertical-align: middle;\n",
              "    }\n",
              "\n",
              "    .dataframe tbody tr th {\n",
              "        vertical-align: top;\n",
              "    }\n",
              "\n",
              "    .dataframe thead th {\n",
              "        text-align: right;\n",
              "    }\n",
              "</style>\n",
              "<table border=\"1\" class=\"dataframe\">\n",
              "  <thead>\n",
              "    <tr style=\"text-align: right;\">\n",
              "      <th></th>\n",
              "      <th>COVID</th>\n",
              "      <th>Pfizer</th>\n",
              "      <th>Vaccine</th>\n",
              "      <th>amp</th>\n",
              "      <th>dose</th>\n",
              "      <th>http</th>\n",
              "      <th>people</th>\n",
              "      <th>shot</th>\n",
              "      <th>today</th>\n",
              "      <th>vaccine</th>\n",
              "    </tr>\n",
              "  </thead>\n",
              "  <tbody>\n",
              "    <tr>\n",
              "      <th>0</th>\n",
              "      <td>0.0</td>\n",
              "      <td>0.0</td>\n",
              "      <td>0.0</td>\n",
              "      <td>0.0</td>\n",
              "      <td>0.000000</td>\n",
              "      <td>0.0</td>\n",
              "      <td>0.0</td>\n",
              "      <td>0.0</td>\n",
              "      <td>0.00000</td>\n",
              "      <td>1.000000</td>\n",
              "    </tr>\n",
              "    <tr>\n",
              "      <th>1</th>\n",
              "      <td>0.0</td>\n",
              "      <td>0.0</td>\n",
              "      <td>0.0</td>\n",
              "      <td>0.0</td>\n",
              "      <td>0.921961</td>\n",
              "      <td>0.0</td>\n",
              "      <td>0.0</td>\n",
              "      <td>0.0</td>\n",
              "      <td>0.00000</td>\n",
              "      <td>0.387282</td>\n",
              "    </tr>\n",
              "    <tr>\n",
              "      <th>2</th>\n",
              "      <td>0.0</td>\n",
              "      <td>0.0</td>\n",
              "      <td>0.0</td>\n",
              "      <td>0.0</td>\n",
              "      <td>0.000000</td>\n",
              "      <td>0.0</td>\n",
              "      <td>0.0</td>\n",
              "      <td>0.0</td>\n",
              "      <td>0.93483</td>\n",
              "      <td>0.355097</td>\n",
              "    </tr>\n",
              "  </tbody>\n",
              "</table>\n",
              "</div>\n",
              "      <button class=\"colab-df-convert\" onclick=\"convertToInteractive('df-dd9042d3-90f6-4316-a2b5-81af25a7e92d')\"\n",
              "              title=\"Convert this dataframe to an interactive table.\"\n",
              "              style=\"display:none;\">\n",
              "        \n",
              "  <svg xmlns=\"http://www.w3.org/2000/svg\" height=\"24px\"viewBox=\"0 0 24 24\"\n",
              "       width=\"24px\">\n",
              "    <path d=\"M0 0h24v24H0V0z\" fill=\"none\"/>\n",
              "    <path d=\"M18.56 5.44l.94 2.06.94-2.06 2.06-.94-2.06-.94-.94-2.06-.94 2.06-2.06.94zm-11 1L8.5 8.5l.94-2.06 2.06-.94-2.06-.94L8.5 2.5l-.94 2.06-2.06.94zm10 10l.94 2.06.94-2.06 2.06-.94-2.06-.94-.94-2.06-.94 2.06-2.06.94z\"/><path d=\"M17.41 7.96l-1.37-1.37c-.4-.4-.92-.59-1.43-.59-.52 0-1.04.2-1.43.59L10.3 9.45l-7.72 7.72c-.78.78-.78 2.05 0 2.83L4 21.41c.39.39.9.59 1.41.59.51 0 1.02-.2 1.41-.59l7.78-7.78 2.81-2.81c.8-.78.8-2.07 0-2.86zM5.41 20L4 18.59l7.72-7.72 1.47 1.35L5.41 20z\"/>\n",
              "  </svg>\n",
              "      </button>\n",
              "      \n",
              "  <style>\n",
              "    .colab-df-container {\n",
              "      display:flex;\n",
              "      flex-wrap:wrap;\n",
              "      gap: 12px;\n",
              "    }\n",
              "\n",
              "    .colab-df-convert {\n",
              "      background-color: #E8F0FE;\n",
              "      border: none;\n",
              "      border-radius: 50%;\n",
              "      cursor: pointer;\n",
              "      display: none;\n",
              "      fill: #1967D2;\n",
              "      height: 32px;\n",
              "      padding: 0 0 0 0;\n",
              "      width: 32px;\n",
              "    }\n",
              "\n",
              "    .colab-df-convert:hover {\n",
              "      background-color: #E2EBFA;\n",
              "      box-shadow: 0px 1px 2px rgba(60, 64, 67, 0.3), 0px 1px 3px 1px rgba(60, 64, 67, 0.15);\n",
              "      fill: #174EA6;\n",
              "    }\n",
              "\n",
              "    [theme=dark] .colab-df-convert {\n",
              "      background-color: #3B4455;\n",
              "      fill: #D2E3FC;\n",
              "    }\n",
              "\n",
              "    [theme=dark] .colab-df-convert:hover {\n",
              "      background-color: #434B5C;\n",
              "      box-shadow: 0px 1px 3px 1px rgba(0, 0, 0, 0.15);\n",
              "      filter: drop-shadow(0px 1px 2px rgba(0, 0, 0, 0.3));\n",
              "      fill: #FFFFFF;\n",
              "    }\n",
              "  </style>\n",
              "\n",
              "      <script>\n",
              "        const buttonEl =\n",
              "          document.querySelector('#df-dd9042d3-90f6-4316-a2b5-81af25a7e92d button.colab-df-convert');\n",
              "        buttonEl.style.display =\n",
              "          google.colab.kernel.accessAllowed ? 'block' : 'none';\n",
              "\n",
              "        async function convertToInteractive(key) {\n",
              "          const element = document.querySelector('#df-dd9042d3-90f6-4316-a2b5-81af25a7e92d');\n",
              "          const dataTable =\n",
              "            await google.colab.kernel.invokeFunction('convertToInteractive',\n",
              "                                                     [key], {});\n",
              "          if (!dataTable) return;\n",
              "\n",
              "          const docLinkHtml = 'Like what you see? Visit the ' +\n",
              "            '<a target=\"_blank\" href=https://colab.research.google.com/notebooks/data_table.ipynb>data table notebook</a>'\n",
              "            + ' to learn more about interactive tables.';\n",
              "          element.innerHTML = '';\n",
              "          dataTable['output_type'] = 'display_data';\n",
              "          await google.colab.output.renderOutput(dataTable, element);\n",
              "          const docLink = document.createElement('div');\n",
              "          docLink.innerHTML = docLinkHtml;\n",
              "          element.appendChild(docLink);\n",
              "        }\n",
              "      </script>\n",
              "    </div>\n",
              "  </div>\n",
              "  "
            ],
            "text/plain": [
              "   COVID  Pfizer  Vaccine  amp      dose  http  people  shot    today  \\\n",
              "0    0.0     0.0      0.0  0.0  0.000000   0.0     0.0   0.0  0.00000   \n",
              "1    0.0     0.0      0.0  0.0  0.921961   0.0     0.0   0.0  0.00000   \n",
              "2    0.0     0.0      0.0  0.0  0.000000   0.0     0.0   0.0  0.93483   \n",
              "\n",
              "    vaccine  \n",
              "0  1.000000  \n",
              "1  0.387282  \n",
              "2  0.355097  "
            ]
          },
          "execution_count": 81,
          "metadata": {},
          "output_type": "execute_result"
        }
      ],
      "source": [
        "x_train_rf_tfidf_text.head(n=3)"
      ]
    },
    {
      "cell_type": "code",
      "execution_count": null,
      "metadata": {
        "colab": {
          "base_uri": "https://localhost:8080/",
          "height": 144
        },
        "id": "TzKycV0C1_Tq",
        "outputId": "9fcbf8e8-fc5d-4a1b-f0d0-a4d7cb44a3f2"
      },
      "outputs": [
        {
          "data": {
            "text/html": [
              "\n",
              "  <div id=\"df-a34a7683-f6c0-4c66-a460-04147e70473c\">\n",
              "    <div class=\"colab-df-container\">\n",
              "      <div>\n",
              "<style scoped>\n",
              "    .dataframe tbody tr th:only-of-type {\n",
              "        vertical-align: middle;\n",
              "    }\n",
              "\n",
              "    .dataframe tbody tr th {\n",
              "        vertical-align: top;\n",
              "    }\n",
              "\n",
              "    .dataframe thead th {\n",
              "        text-align: right;\n",
              "    }\n",
              "</style>\n",
              "<table border=\"1\" class=\"dataframe\">\n",
              "  <thead>\n",
              "    <tr style=\"text-align: right;\">\n",
              "      <th></th>\n",
              "      <th>0</th>\n",
              "      <th>1</th>\n",
              "      <th>2</th>\n",
              "      <th>3</th>\n",
              "      <th>4</th>\n",
              "      <th>5</th>\n",
              "      <th>6</th>\n",
              "      <th>7</th>\n",
              "      <th>8</th>\n",
              "      <th>9</th>\n",
              "      <th>COVID</th>\n",
              "      <th>Pfizer</th>\n",
              "      <th>Vaccine</th>\n",
              "      <th>amp</th>\n",
              "      <th>dose</th>\n",
              "      <th>http</th>\n",
              "      <th>people</th>\n",
              "      <th>shot</th>\n",
              "      <th>today</th>\n",
              "      <th>vaccine</th>\n",
              "    </tr>\n",
              "  </thead>\n",
              "  <tbody>\n",
              "    <tr>\n",
              "      <th>0</th>\n",
              "      <td>0.000018</td>\n",
              "      <td>0.0</td>\n",
              "      <td>0.001712</td>\n",
              "      <td>0.000001</td>\n",
              "      <td>0.000251</td>\n",
              "      <td>0.0</td>\n",
              "      <td>0.000175</td>\n",
              "      <td>0.0</td>\n",
              "      <td>0.5</td>\n",
              "      <td>0.0</td>\n",
              "      <td>0.0</td>\n",
              "      <td>0.0</td>\n",
              "      <td>0.0</td>\n",
              "      <td>0.0</td>\n",
              "      <td>0.000000</td>\n",
              "      <td>0.0</td>\n",
              "      <td>0.0</td>\n",
              "      <td>0.0</td>\n",
              "      <td>0.00000</td>\n",
              "      <td>1.000000</td>\n",
              "    </tr>\n",
              "    <tr>\n",
              "      <th>1</th>\n",
              "      <td>0.0</td>\n",
              "      <td>0.0</td>\n",
              "      <td>0.013296</td>\n",
              "      <td>0.0</td>\n",
              "      <td>0.000489</td>\n",
              "      <td>0.0</td>\n",
              "      <td>0.000203</td>\n",
              "      <td>0.0</td>\n",
              "      <td>0.5</td>\n",
              "      <td>0.0</td>\n",
              "      <td>0.0</td>\n",
              "      <td>0.0</td>\n",
              "      <td>0.0</td>\n",
              "      <td>0.0</td>\n",
              "      <td>0.921961</td>\n",
              "      <td>0.0</td>\n",
              "      <td>0.0</td>\n",
              "      <td>0.0</td>\n",
              "      <td>0.00000</td>\n",
              "      <td>0.387282</td>\n",
              "    </tr>\n",
              "    <tr>\n",
              "      <th>2</th>\n",
              "      <td>0.000205</td>\n",
              "      <td>0.0</td>\n",
              "      <td>0.042499</td>\n",
              "      <td>0.000018</td>\n",
              "      <td>0.000933</td>\n",
              "      <td>0.000037</td>\n",
              "      <td>0.001256</td>\n",
              "      <td>0.0</td>\n",
              "      <td>0.779167</td>\n",
              "      <td>0.75</td>\n",
              "      <td>0.0</td>\n",
              "      <td>0.0</td>\n",
              "      <td>0.0</td>\n",
              "      <td>0.0</td>\n",
              "      <td>0.000000</td>\n",
              "      <td>0.0</td>\n",
              "      <td>0.0</td>\n",
              "      <td>0.0</td>\n",
              "      <td>0.93483</td>\n",
              "      <td>0.355097</td>\n",
              "    </tr>\n",
              "  </tbody>\n",
              "</table>\n",
              "</div>\n",
              "      <button class=\"colab-df-convert\" onclick=\"convertToInteractive('df-a34a7683-f6c0-4c66-a460-04147e70473c')\"\n",
              "              title=\"Convert this dataframe to an interactive table.\"\n",
              "              style=\"display:none;\">\n",
              "        \n",
              "  <svg xmlns=\"http://www.w3.org/2000/svg\" height=\"24px\"viewBox=\"0 0 24 24\"\n",
              "       width=\"24px\">\n",
              "    <path d=\"M0 0h24v24H0V0z\" fill=\"none\"/>\n",
              "    <path d=\"M18.56 5.44l.94 2.06.94-2.06 2.06-.94-2.06-.94-.94-2.06-.94 2.06-2.06.94zm-11 1L8.5 8.5l.94-2.06 2.06-.94-2.06-.94L8.5 2.5l-.94 2.06-2.06.94zm10 10l.94 2.06.94-2.06 2.06-.94-2.06-.94-.94-2.06-.94 2.06-2.06.94z\"/><path d=\"M17.41 7.96l-1.37-1.37c-.4-.4-.92-.59-1.43-.59-.52 0-1.04.2-1.43.59L10.3 9.45l-7.72 7.72c-.78.78-.78 2.05 0 2.83L4 21.41c.39.39.9.59 1.41.59.51 0 1.02-.2 1.41-.59l7.78-7.78 2.81-2.81c.8-.78.8-2.07 0-2.86zM5.41 20L4 18.59l7.72-7.72 1.47 1.35L5.41 20z\"/>\n",
              "  </svg>\n",
              "      </button>\n",
              "      \n",
              "  <style>\n",
              "    .colab-df-container {\n",
              "      display:flex;\n",
              "      flex-wrap:wrap;\n",
              "      gap: 12px;\n",
              "    }\n",
              "\n",
              "    .colab-df-convert {\n",
              "      background-color: #E8F0FE;\n",
              "      border: none;\n",
              "      border-radius: 50%;\n",
              "      cursor: pointer;\n",
              "      display: none;\n",
              "      fill: #1967D2;\n",
              "      height: 32px;\n",
              "      padding: 0 0 0 0;\n",
              "      width: 32px;\n",
              "    }\n",
              "\n",
              "    .colab-df-convert:hover {\n",
              "      background-color: #E2EBFA;\n",
              "      box-shadow: 0px 1px 2px rgba(60, 64, 67, 0.3), 0px 1px 3px 1px rgba(60, 64, 67, 0.15);\n",
              "      fill: #174EA6;\n",
              "    }\n",
              "\n",
              "    [theme=dark] .colab-df-convert {\n",
              "      background-color: #3B4455;\n",
              "      fill: #D2E3FC;\n",
              "    }\n",
              "\n",
              "    [theme=dark] .colab-df-convert:hover {\n",
              "      background-color: #434B5C;\n",
              "      box-shadow: 0px 1px 3px 1px rgba(0, 0, 0, 0.15);\n",
              "      filter: drop-shadow(0px 1px 2px rgba(0, 0, 0, 0.3));\n",
              "      fill: #FFFFFF;\n",
              "    }\n",
              "  </style>\n",
              "\n",
              "      <script>\n",
              "        const buttonEl =\n",
              "          document.querySelector('#df-a34a7683-f6c0-4c66-a460-04147e70473c button.colab-df-convert');\n",
              "        buttonEl.style.display =\n",
              "          google.colab.kernel.accessAllowed ? 'block' : 'none';\n",
              "\n",
              "        async function convertToInteractive(key) {\n",
              "          const element = document.querySelector('#df-a34a7683-f6c0-4c66-a460-04147e70473c');\n",
              "          const dataTable =\n",
              "            await google.colab.kernel.invokeFunction('convertToInteractive',\n",
              "                                                     [key], {});\n",
              "          if (!dataTable) return;\n",
              "\n",
              "          const docLinkHtml = 'Like what you see? Visit the ' +\n",
              "            '<a target=\"_blank\" href=https://colab.research.google.com/notebooks/data_table.ipynb>data table notebook</a>'\n",
              "            + ' to learn more about interactive tables.';\n",
              "          element.innerHTML = '';\n",
              "          dataTable['output_type'] = 'display_data';\n",
              "          await google.colab.output.renderOutput(dataTable, element);\n",
              "          const docLink = document.createElement('div');\n",
              "          docLink.innerHTML = docLinkHtml;\n",
              "          element.appendChild(docLink);\n",
              "        }\n",
              "      </script>\n",
              "    </div>\n",
              "  </div>\n",
              "  "
            ],
            "text/plain": [
              "          0    1         2         3         4         5         6    7  \\\n",
              "0  0.000018  0.0  0.001712  0.000001  0.000251       0.0  0.000175  0.0   \n",
              "1       0.0  0.0  0.013296       0.0  0.000489       0.0  0.000203  0.0   \n",
              "2  0.000205  0.0  0.042499  0.000018  0.000933  0.000037  0.001256  0.0   \n",
              "\n",
              "          8     9  COVID  Pfizer  Vaccine  amp      dose  http  people  shot  \\\n",
              "0       0.5   0.0    0.0     0.0      0.0  0.0  0.000000   0.0     0.0   0.0   \n",
              "1       0.5   0.0    0.0     0.0      0.0  0.0  0.921961   0.0     0.0   0.0   \n",
              "2  0.779167  0.75    0.0     0.0      0.0  0.0  0.000000   0.0     0.0   0.0   \n",
              "\n",
              "     today   vaccine  \n",
              "0  0.00000  1.000000  \n",
              "1  0.00000  0.387282  \n",
              "2  0.93483  0.355097  "
            ]
          },
          "execution_count": 82,
          "metadata": {},
          "output_type": "execute_result"
        }
      ],
      "source": [
        "x_train_final.head(n=3)"
      ]
    },
    {
      "cell_type": "code",
      "execution_count": null,
      "metadata": {
        "colab": {
          "base_uri": "https://localhost:8080/",
          "height": 144
        },
        "id": "0ChYXjRY2CaK",
        "outputId": "629f1a3d-1745-4a8b-d442-f6cdef3030a5"
      },
      "outputs": [
        {
          "data": {
            "text/html": [
              "\n",
              "  <div id=\"df-a6b6ea80-e3e0-47c8-8a61-830a117d7399\">\n",
              "    <div class=\"colab-df-container\">\n",
              "      <div>\n",
              "<style scoped>\n",
              "    .dataframe tbody tr th:only-of-type {\n",
              "        vertical-align: middle;\n",
              "    }\n",
              "\n",
              "    .dataframe tbody tr th {\n",
              "        vertical-align: top;\n",
              "    }\n",
              "\n",
              "    .dataframe thead th {\n",
              "        text-align: right;\n",
              "    }\n",
              "</style>\n",
              "<table border=\"1\" class=\"dataframe\">\n",
              "  <thead>\n",
              "    <tr style=\"text-align: right;\">\n",
              "      <th></th>\n",
              "      <th>0_x</th>\n",
              "      <th>1_x</th>\n",
              "      <th>2_x</th>\n",
              "      <th>3_x</th>\n",
              "      <th>4_x</th>\n",
              "      <th>5_x</th>\n",
              "      <th>6_x</th>\n",
              "      <th>7_x</th>\n",
              "      <th>8_x</th>\n",
              "      <th>9_x</th>\n",
              "      <th>0_y</th>\n",
              "      <th>1_y</th>\n",
              "      <th>2_y</th>\n",
              "      <th>3_y</th>\n",
              "      <th>4_y</th>\n",
              "      <th>5_y</th>\n",
              "      <th>6_y</th>\n",
              "      <th>7_y</th>\n",
              "      <th>8_y</th>\n",
              "      <th>9_y</th>\n",
              "    </tr>\n",
              "  </thead>\n",
              "  <tbody>\n",
              "    <tr>\n",
              "      <th>0</th>\n",
              "      <td>0.000009</td>\n",
              "      <td>0.0</td>\n",
              "      <td>0.00209</td>\n",
              "      <td>0.0</td>\n",
              "      <td>0.000037</td>\n",
              "      <td>0.0</td>\n",
              "      <td>0.000124</td>\n",
              "      <td>0.0</td>\n",
              "      <td>0.5</td>\n",
              "      <td>0.65</td>\n",
              "      <td>0.0</td>\n",
              "      <td>0.0</td>\n",
              "      <td>0.0</td>\n",
              "      <td>0.0</td>\n",
              "      <td>0.000000</td>\n",
              "      <td>0.0</td>\n",
              "      <td>0.0</td>\n",
              "      <td>0.0</td>\n",
              "      <td>0.00000</td>\n",
              "      <td>1.000000</td>\n",
              "    </tr>\n",
              "    <tr>\n",
              "      <th>1</th>\n",
              "      <td>0.000018</td>\n",
              "      <td>0.0</td>\n",
              "      <td>0.001821</td>\n",
              "      <td>0.00004</td>\n",
              "      <td>0.000722</td>\n",
              "      <td>0.000065</td>\n",
              "      <td>0.000678</td>\n",
              "      <td>1.0</td>\n",
              "      <td>0.525</td>\n",
              "      <td>0.383333</td>\n",
              "      <td>0.0</td>\n",
              "      <td>0.0</td>\n",
              "      <td>0.0</td>\n",
              "      <td>0.0</td>\n",
              "      <td>0.921961</td>\n",
              "      <td>0.0</td>\n",
              "      <td>0.0</td>\n",
              "      <td>0.0</td>\n",
              "      <td>0.00000</td>\n",
              "      <td>0.387282</td>\n",
              "    </tr>\n",
              "    <tr>\n",
              "      <th>2</th>\n",
              "      <td>0.000027</td>\n",
              "      <td>0.0</td>\n",
              "      <td>0.004906</td>\n",
              "      <td>0.000027</td>\n",
              "      <td>0.002307</td>\n",
              "      <td>0.000241</td>\n",
              "      <td>0.001638</td>\n",
              "      <td>0.0</td>\n",
              "      <td>0.5</td>\n",
              "      <td>0.0</td>\n",
              "      <td>0.0</td>\n",
              "      <td>0.0</td>\n",
              "      <td>0.0</td>\n",
              "      <td>0.0</td>\n",
              "      <td>0.000000</td>\n",
              "      <td>0.0</td>\n",
              "      <td>0.0</td>\n",
              "      <td>0.0</td>\n",
              "      <td>0.93483</td>\n",
              "      <td>0.355097</td>\n",
              "    </tr>\n",
              "  </tbody>\n",
              "</table>\n",
              "</div>\n",
              "      <button class=\"colab-df-convert\" onclick=\"convertToInteractive('df-a6b6ea80-e3e0-47c8-8a61-830a117d7399')\"\n",
              "              title=\"Convert this dataframe to an interactive table.\"\n",
              "              style=\"display:none;\">\n",
              "        \n",
              "  <svg xmlns=\"http://www.w3.org/2000/svg\" height=\"24px\"viewBox=\"0 0 24 24\"\n",
              "       width=\"24px\">\n",
              "    <path d=\"M0 0h24v24H0V0z\" fill=\"none\"/>\n",
              "    <path d=\"M18.56 5.44l.94 2.06.94-2.06 2.06-.94-2.06-.94-.94-2.06-.94 2.06-2.06.94zm-11 1L8.5 8.5l.94-2.06 2.06-.94-2.06-.94L8.5 2.5l-.94 2.06-2.06.94zm10 10l.94 2.06.94-2.06 2.06-.94-2.06-.94-.94-2.06-.94 2.06-2.06.94z\"/><path d=\"M17.41 7.96l-1.37-1.37c-.4-.4-.92-.59-1.43-.59-.52 0-1.04.2-1.43.59L10.3 9.45l-7.72 7.72c-.78.78-.78 2.05 0 2.83L4 21.41c.39.39.9.59 1.41.59.51 0 1.02-.2 1.41-.59l7.78-7.78 2.81-2.81c.8-.78.8-2.07 0-2.86zM5.41 20L4 18.59l7.72-7.72 1.47 1.35L5.41 20z\"/>\n",
              "  </svg>\n",
              "      </button>\n",
              "      \n",
              "  <style>\n",
              "    .colab-df-container {\n",
              "      display:flex;\n",
              "      flex-wrap:wrap;\n",
              "      gap: 12px;\n",
              "    }\n",
              "\n",
              "    .colab-df-convert {\n",
              "      background-color: #E8F0FE;\n",
              "      border: none;\n",
              "      border-radius: 50%;\n",
              "      cursor: pointer;\n",
              "      display: none;\n",
              "      fill: #1967D2;\n",
              "      height: 32px;\n",
              "      padding: 0 0 0 0;\n",
              "      width: 32px;\n",
              "    }\n",
              "\n",
              "    .colab-df-convert:hover {\n",
              "      background-color: #E2EBFA;\n",
              "      box-shadow: 0px 1px 2px rgba(60, 64, 67, 0.3), 0px 1px 3px 1px rgba(60, 64, 67, 0.15);\n",
              "      fill: #174EA6;\n",
              "    }\n",
              "\n",
              "    [theme=dark] .colab-df-convert {\n",
              "      background-color: #3B4455;\n",
              "      fill: #D2E3FC;\n",
              "    }\n",
              "\n",
              "    [theme=dark] .colab-df-convert:hover {\n",
              "      background-color: #434B5C;\n",
              "      box-shadow: 0px 1px 3px 1px rgba(0, 0, 0, 0.15);\n",
              "      filter: drop-shadow(0px 1px 2px rgba(0, 0, 0, 0.3));\n",
              "      fill: #FFFFFF;\n",
              "    }\n",
              "  </style>\n",
              "\n",
              "      <script>\n",
              "        const buttonEl =\n",
              "          document.querySelector('#df-a6b6ea80-e3e0-47c8-8a61-830a117d7399 button.colab-df-convert');\n",
              "        buttonEl.style.display =\n",
              "          google.colab.kernel.accessAllowed ? 'block' : 'none';\n",
              "\n",
              "        async function convertToInteractive(key) {\n",
              "          const element = document.querySelector('#df-a6b6ea80-e3e0-47c8-8a61-830a117d7399');\n",
              "          const dataTable =\n",
              "            await google.colab.kernel.invokeFunction('convertToInteractive',\n",
              "                                                     [key], {});\n",
              "          if (!dataTable) return;\n",
              "\n",
              "          const docLinkHtml = 'Like what you see? Visit the ' +\n",
              "            '<a target=\"_blank\" href=https://colab.research.google.com/notebooks/data_table.ipynb>data table notebook</a>'\n",
              "            + ' to learn more about interactive tables.';\n",
              "          element.innerHTML = '';\n",
              "          dataTable['output_type'] = 'display_data';\n",
              "          await google.colab.output.renderOutput(dataTable, element);\n",
              "          const docLink = document.createElement('div');\n",
              "          docLink.innerHTML = docLinkHtml;\n",
              "          element.appendChild(docLink);\n",
              "        }\n",
              "      </script>\n",
              "    </div>\n",
              "  </div>\n",
              "  "
            ],
            "text/plain": [
              "        0_x  1_x       2_x       3_x       4_x       5_x       6_x  7_x  \\\n",
              "0  0.000009  0.0   0.00209       0.0  0.000037       0.0  0.000124  0.0   \n",
              "1  0.000018  0.0  0.001821   0.00004  0.000722  0.000065  0.000678  1.0   \n",
              "2  0.000027  0.0  0.004906  0.000027  0.002307  0.000241  0.001638  0.0   \n",
              "\n",
              "     8_x       9_x  0_y  1_y  2_y  3_y       4_y  5_y  6_y  7_y      8_y  \\\n",
              "0    0.5      0.65  0.0  0.0  0.0  0.0  0.000000  0.0  0.0  0.0  0.00000   \n",
              "1  0.525  0.383333  0.0  0.0  0.0  0.0  0.921961  0.0  0.0  0.0  0.00000   \n",
              "2    0.5       0.0  0.0  0.0  0.0  0.0  0.000000  0.0  0.0  0.0  0.93483   \n",
              "\n",
              "        9_y  \n",
              "0  1.000000  \n",
              "1  0.387282  \n",
              "2  0.355097  "
            ]
          },
          "execution_count": 83,
          "metadata": {},
          "output_type": "execute_result"
        }
      ],
      "source": [
        "x_test_final.head(n=3)"
      ]
    },
    {
      "cell_type": "code",
      "execution_count": null,
      "metadata": {
        "colab": {
          "base_uri": "https://localhost:8080/"
        },
        "id": "Tri_XqjJweK9",
        "outputId": "a6f80b39-8bf8-45da-a019-e50693bffd34"
      },
      "outputs": [
        {
          "name": "stdout",
          "output_type": "stream",
          "text": [
            "Fitting 5 folds for each of 3 candidates, totalling 15 fits\n",
            "[CV] END bootstrap=False, criterion=gini, max_depth=41, n_estimators=296; total time=   4.1s\n",
            "[CV] END bootstrap=False, criterion=gini, max_depth=41, n_estimators=296; total time=   4.0s\n",
            "[CV] END bootstrap=False, criterion=gini, max_depth=41, n_estimators=296; total time=   4.1s\n",
            "[CV] END bootstrap=False, criterion=gini, max_depth=41, n_estimators=296; total time=   4.1s\n",
            "[CV] END bootstrap=False, criterion=gini, max_depth=41, n_estimators=296; total time=   4.1s\n",
            "[CV] END bootstrap=False, criterion=gini, max_depth=36, n_estimators=221; total time=   3.0s\n",
            "[CV] END bootstrap=False, criterion=gini, max_depth=36, n_estimators=221; total time=   3.0s\n",
            "[CV] END bootstrap=False, criterion=gini, max_depth=36, n_estimators=221; total time=   3.0s\n",
            "[CV] END bootstrap=False, criterion=gini, max_depth=36, n_estimators=221; total time=   3.1s\n",
            "[CV] END bootstrap=False, criterion=gini, max_depth=36, n_estimators=221; total time=   3.0s\n",
            "[CV] END bootstrap=True, criterion=entropy, max_depth=36, n_estimators=360; total time=   5.0s\n",
            "[CV] END bootstrap=True, criterion=entropy, max_depth=36, n_estimators=360; total time=   5.3s\n",
            "[CV] END bootstrap=True, criterion=entropy, max_depth=36, n_estimators=360; total time=   5.0s\n",
            "[CV] END bootstrap=True, criterion=entropy, max_depth=36, n_estimators=360; total time=   5.0s\n",
            "[CV] END bootstrap=True, criterion=entropy, max_depth=36, n_estimators=360; total time=   5.0s\n",
            "{'n_estimators': 360, 'max_depth': 36, 'criterion': 'entropy', 'bootstrap': True}\n",
            "0.7468988055348756\n",
            "RandomForestClassifier(criterion='entropy', max_depth=36, n_estimators=360,\n",
            "                       random_state=0)\n"
          ]
        }
      ],
      "source": [
        "rfc = RandomForestClassifier(random_state=0)\n",
        "\n",
        "rf_with = RandomizedSearchCV(estimator=rfc, param_distributions=rf_grid, scoring=make_scorer(f1_score), \n",
        "                        n_iter=3, cv=5,random_state=0,verbose=2,return_train_score=True)\n",
        "\n",
        "rf_with.fit(x_train_final, y_train)\n",
        "\n",
        "# view the best parameters from random search\n",
        "print(rf_with.best_params_)\n",
        "print(rf_with.best_score_)\n",
        "print(rf_with.best_estimator_)"
      ]
    },
    {
      "cell_type": "code",
      "execution_count": null,
      "metadata": {
        "colab": {
          "base_uri": "https://localhost:8080/"
        },
        "id": "pBg0KPOH1StG",
        "outputId": "b4cb34be-0e7f-4d6c-cd0d-d69f2dd4cbec"
      },
      "outputs": [
        {
          "data": {
            "text/plain": [
              "numpy.ndarray"
            ]
          },
          "execution_count": 85,
          "metadata": {},
          "output_type": "execute_result"
        }
      ],
      "source": [
        "type(y_test)"
      ]
    },
    {
      "cell_type": "code",
      "execution_count": null,
      "metadata": {
        "colab": {
          "base_uri": "https://localhost:8080/",
          "height": 737
        },
        "id": "-5UH3nrwwn9b",
        "outputId": "9ac7ccd5-c58f-4eaa-80fe-575f3c54c4d2"
      },
      "outputs": [
        {
          "name": "stdout",
          "output_type": "stream",
          "text": [
            "AUC: 1.0000\n",
            "Accuracy at threshold of 0.5: 99.99%\n",
            "The optimal threshold value is: 0.46984126984126984\n"
          ]
        },
        {
          "data": {
            "image/png": "[encoded data removed]",
            "text/plain": [
              "<Figure size 432x288 with 1 Axes>"
            ]
          },
          "metadata": {},
          "output_type": "display_data"
        },
        {
          "name": "stdout",
          "output_type": "stream",
          "text": [
            "AUC: 0.7357\n",
            "Accuracy at threshold of 0.5: 72.26%\n",
            "The optimal threshold value is: 0.3780769230769231\n"
          ]
        },
        {
          "data": {
            "image/png": "[encoded data removed]",
            "text/plain": [
              "<Figure size 432x288 with 1 Axes>"
            ]
          },
          "metadata": {},
          "output_type": "display_data"
        }
      ],
      "source": [
        "# training ROC\n",
        "train_pred = rf_with.best_estimator_.predict_proba(x_train_final)\n",
        "evaluate_roc(train_pred, y_train)\n",
        "\n",
        "# test ROC\n",
        "test_pred = rf_with.best_estimator_.predict_proba(x_test_final)\n",
        "evaluate_roc(test_pred, y_test)\n",
        "\n",
        "# ROC curve: https://stats.stackexchange.com/questions/263121/why-are-the-roc-curves-not-smooth#:~:text=know%20the%20question,model%20as%20such%3A"
      ]
    },
    {
      "cell_type": "code",
      "execution_count": null,
      "metadata": {
        "colab": {
          "base_uri": "https://localhost:8080/"
        },
        "id": "496mML53woqv",
        "outputId": "3cad19a2-299d-40bb-aa67-eccb137b993e"
      },
      "outputs": [
        {
          "name": "stdout",
          "output_type": "stream",
          "text": [
            "Variable: favorite_count       Importance: 0.1\n",
            "Variable: user_statuses_count  Importance: 0.1\n",
            "Variable: user_favourites_count Importance: 0.09\n",
            "Variable: user_followers_count Importance: 0.09\n",
            "Variable: user_friends_count   Importance: 0.09\n",
            "Variable: polarity             Importance: 0.09\n",
            "Variable: subjectivity         Importance: 0.08\n",
            "Variable: user_listed_count    Importance: 0.07\n",
            "Variable: TF-IDF Top5          Importance: 0.05\n",
            "Variable: TF-IDF Top6          Importance: 0.05\n",
            "Variable: retweet_count        Importance: 0.04\n",
            "Variable: TF-IDF Top9          Importance: 0.03\n",
            "Variable: TF-IDF Top10         Importance: 0.03\n",
            "Variable: TF-IDF Top3          Importance: 0.02\n",
            "Variable: TF-IDF Top7          Importance: 0.02\n",
            "Variable: user_verified        Importance: 0.01\n",
            "Variable: TF-IDF Top1          Importance: 0.01\n",
            "Variable: TF-IDF Top2          Importance: 0.01\n",
            "Variable: TF-IDF Top4          Importance: 0.01\n",
            "Variable: TF-IDF Top8          Importance: 0.01\n"
          ]
        }
      ],
      "source": [
        "# https://github.com/WillKoehrsen/Machine-Learning-Projects/blob/master/random_forest_explained/Improving%20Random%20Forest%20Part%201.ipynb\n",
        "# Get numerical feature importances\n",
        "importances = list(rf_with.best_estimator_.feature_importances_)\n",
        "x_variable_rf_with = ['favorite_count', 'retweet_count', 'user_favourites_count',\n",
        "       'user_followers_count', 'user_friends_count', 'user_listed_count',\n",
        "       'user_statuses_count', 'user_verified', 'polarity', 'subjectivity', 'TF-IDF Top1', \n",
        "       'TF-IDF Top2', 'TF-IDF Top3','TF-IDF Top4','TF-IDF Top5','TF-IDF Top6',\n",
        "       'TF-IDF Top7','TF-IDF Top8','TF-IDF Top9', 'TF-IDF Top10']\n",
        "\n",
        "# List of tuples with variable and importance\n",
        "feature_importances = [(feature, round(importance, 2)) for feature, importance in zip(x_variable_rf_with, importances)]\n",
        "\n",
        "# Sort the feature importances by most important first\n",
        "feature_importances = sorted(feature_importances, key = lambda x: x[1], reverse = True)\n",
        "\n",
        "# Print out the feature and importances \n",
        "[print('Variable: {:20} Importance: {}'.format(*pair)) for pair in feature_importances];"
      ]
    },
    {
      "cell_type": "code",
      "execution_count": null,
      "metadata": {
        "colab": {
          "base_uri": "https://localhost:8080/",
          "height": 466
        },
        "id": "FJL2hDwOxHy8",
        "outputId": "cd12f58e-3c2b-4e21-b802-a81f4fa6449a"
      },
      "outputs": [
        {
          "data": {
            "image/png": "[encoded data removed]",
            "text/plain": [
              "<Figure size 432x288 with 1 Axes>"
            ]
          },
          "metadata": {},
          "output_type": "display_data"
        }
      ],
      "source": [
        "# Reset style \n",
        "plt.style.use('fivethirtyeight')\n",
        "\n",
        "# list of x locations for plotting\n",
        "x_values = list(range(len(importances)))\n",
        "\n",
        "# List of features sorted from most to least important\n",
        "sorted_importances = [importance[1] for importance in feature_importances]\n",
        "sorted_features = [importance[0] for importance in feature_importances]\n",
        "\n",
        "# Cumulative importances\n",
        "cumulative_importances = np.cumsum(sorted_importances)\n",
        "\n",
        "# Make a line graph\n",
        "plt.plot(x_values, cumulative_importances, 'g-')\n",
        "\n",
        "# Draw line at 95% of importance retained\n",
        "plt.hlines(y = 0.95, xmin=0, xmax=len(sorted_importances), color = 'r', linestyles = 'dashed')\n",
        "\n",
        "# Format x ticks and labels\n",
        "plt.xticks(x_values, sorted_features, rotation = 'vertical')\n",
        "\n",
        "# Axis labels and title\n",
        "plt.xlabel('Variable'); plt.ylabel('Cumulative Importance'); plt.title('Cumulative Importances');"
      ]
    },
    {
      "cell_type": "markdown",
      "metadata": {
        "id": "SO4ll3Yt5kYt"
      },
      "source": [
        "### LSTM model with Glove embedding\n",
        "TO-DO: for deep learning model, those preprocessing shouldn't apply"
      ]
    },
    {
      "cell_type": "markdown",
      "metadata": {
        "id": "FihbL5WV5lij"
      },
      "source": [
        "### Transformer model using BERT\n",
        "DistillBERT https://www.kaggle.com/code/georgesaavedra/best-sentiment-classifier-transformers/notebook https://towardsdatascience.com/hugging-face-transformers-fine-tuning-distilbert-for-binary-classification-tasks-490f1d192379\n",
        "https://skimai.com/fine-tuning-bert-for-sentiment-analysis/"
      ]
    },
    {
      "cell_type": "code",
      "execution_count": null,
      "metadata": {
        "colab": {
          "base_uri": "https://localhost:8080/"
        },
        "id": "1PSxEyXEsKn4",
        "outputId": "fd2a3177-c203-4524-c9bc-6d1862f39331"
      },
      "outputs": [
        {
          "name": "stdout",
          "output_type": "stream",
          "text": [
            "Looking in indexes: https://pypi.org/simple, https://us-python.pkg.dev/colab-wheels/public/simple/\n",
            "Collecting transformers\n",
            "  Downloading transformers-4.21.1-py3-none-any.whl (4.7 MB)\n",
            "\u001b[K     |████████████████████████████████| 4.7 MB 7.7 MB/s \n",
            "\u001b[?25hRequirement already satisfied: regex!=2019.12.17 in /usr/local/lib/python3.7/dist-packages (from transformers) (2022.6.2)\n",
            "Requirement already satisfied: requests in /usr/local/lib/python3.7/dist-packages (from transformers) (2.23.0)\n",
            "Requirement already satisfied: tqdm>=4.27 in /usr/local/lib/python3.7/dist-packages (from transformers) (4.64.0)\n",
            "Collecting tokenizers!=0.11.3,<0.13,>=0.11.1\n",
            "  Downloading tokenizers-0.12.1-cp37-cp37m-manylinux_2_12_x86_64.manylinux2010_x86_64.whl (6.6 MB)\n",
            "\u001b[K     |████████████████████████████████| 6.6 MB 48.9 MB/s \n",
            "\u001b[?25hRequirement already satisfied: numpy>=1.17 in /usr/local/lib/python3.7/dist-packages (from transformers) (1.21.6)\n",
            "Collecting pyyaml>=5.1\n",
            "  Downloading PyYAML-6.0-cp37-cp37m-manylinux_2_5_x86_64.manylinux1_x86_64.manylinux_2_12_x86_64.manylinux2010_x86_64.whl (596 kB)\n",
            "\u001b[K     |████████████████████████████████| 596 kB 55.0 MB/s \n",
            "\u001b[?25hCollecting huggingface-hub<1.0,>=0.1.0\n",
            "  Downloading huggingface_hub-0.8.1-py3-none-any.whl (101 kB)\n",
            "\u001b[K     |████████████████████████████████| 101 kB 10.7 MB/s \n",
            "\u001b[?25hRequirement already satisfied: importlib-metadata in /usr/local/lib/python3.7/dist-packages (from transformers) (4.12.0)\n",
            "Requirement already satisfied: filelock in /usr/local/lib/python3.7/dist-packages (from transformers) (3.8.0)\n",
            "Requirement already satisfied: packaging>=20.0 in /usr/local/lib/python3.7/dist-packages (from transformers) (21.3)\n",
            "Requirement already satisfied: typing-extensions>=3.7.4.3 in /usr/local/lib/python3.7/dist-packages (from huggingface-hub<1.0,>=0.1.0->transformers) (4.1.1)\n",
            "Requirement already satisfied: pyparsing!=3.0.5,>=2.0.2 in /usr/local/lib/python3.7/dist-packages (from packaging>=20.0->transformers) (3.0.9)\n",
            "Requirement already satisfied: zipp>=0.5 in /usr/local/lib/python3.7/dist-packages (from importlib-metadata->transformers) (3.8.1)\n",
            "Requirement already satisfied: certifi>=2017.4.17 in /usr/local/lib/python3.7/dist-packages (from requests->transformers) (2022.6.15)\n",
            "Requirement already satisfied: urllib3!=1.25.0,!=1.25.1,<1.26,>=1.21.1 in /usr/local/lib/python3.7/dist-packages (from requests->transformers) (1.24.3)\n",
            "Requirement already satisfied: idna<3,>=2.5 in /usr/local/lib/python3.7/dist-packages (from requests->transformers) (2.10)\n",
            "Requirement already satisfied: chardet<4,>=3.0.2 in /usr/local/lib/python3.7/dist-packages (from requests->transformers) (3.0.4)\n",
            "Installing collected packages: pyyaml, tokenizers, huggingface-hub, transformers\n",
            "  Attempting uninstall: pyyaml\n",
            "    Found existing installation: PyYAML 3.13\n",
            "    Uninstalling PyYAML-3.13:\n",
            "      Successfully uninstalled PyYAML-3.13\n",
            "Successfully installed huggingface-hub-0.8.1 pyyaml-6.0 tokenizers-0.12.1 transformers-4.21.1\n"
          ]
        }
      ],
      "source": [
        "!pip install transformers"
      ]
    },
    {
      "cell_type": "code",
      "execution_count": null,
      "metadata": {
        "id": "xniqkTHdtPwV"
      },
      "outputs": [],
      "source": [
        "from transformers import BertTokenizer\n",
        "import torch"
      ]
    },
    {
      "cell_type": "code",
      "execution_count": null,
      "metadata": {
        "colab": {
          "base_uri": "https://localhost:8080/",
          "height": 144
        },
        "id": "phJ5M7uihQkW",
        "outputId": "22a5090a-cc5d-4054-a4b9-9df6f44261b7"
      },
      "outputs": [
        {
          "data": {
            "text/html": [
              "\n",
              "  <div id=\"df-e93e3ee2-aa32-4b61-bb9c-a3eb52d9b3a7\">\n",
              "    <div class=\"colab-df-container\">\n",
              "      <div>\n",
              "<style scoped>\n",
              "    .dataframe tbody tr th:only-of-type {\n",
              "        vertical-align: middle;\n",
              "    }\n",
              "\n",
              "    .dataframe tbody tr th {\n",
              "        vertical-align: top;\n",
              "    }\n",
              "\n",
              "    .dataframe thead th {\n",
              "        text-align: right;\n",
              "    }\n",
              "</style>\n",
              "<table border=\"1\" class=\"dataframe\">\n",
              "  <thead>\n",
              "    <tr style=\"text-align: right;\">\n",
              "      <th></th>\n",
              "      <th>0</th>\n",
              "      <th>1</th>\n",
              "      <th>2</th>\n",
              "      <th>3</th>\n",
              "      <th>4</th>\n",
              "      <th>5</th>\n",
              "      <th>6</th>\n",
              "      <th>7</th>\n",
              "      <th>8</th>\n",
              "      <th>9</th>\n",
              "      <th>10</th>\n",
              "      <th>nouns_verbs</th>\n",
              "    </tr>\n",
              "  </thead>\n",
              "  <tbody>\n",
              "    <tr>\n",
              "      <th>0</th>\n",
              "      <td>0.000018</td>\n",
              "      <td>0.0</td>\n",
              "      <td>0.001712</td>\n",
              "      <td>0.000001</td>\n",
              "      <td>0.000251</td>\n",
              "      <td>0.0</td>\n",
              "      <td>0.000175</td>\n",
              "      <td>0.0</td>\n",
              "      <td>0.5</td>\n",
              "      <td>0.0</td>\n",
              "      <td>if you’re doing an engineering degree, don’t w...</td>\n",
              "      <td>engineering degree don ’ t worry ’ s vaccine</td>\n",
              "    </tr>\n",
              "    <tr>\n",
              "      <th>1</th>\n",
              "      <td>0.0</td>\n",
              "      <td>0.0</td>\n",
              "      <td>0.013296</td>\n",
              "      <td>0.0</td>\n",
              "      <td>0.000489</td>\n",
              "      <td>0.0</td>\n",
              "      <td>0.000203</td>\n",
              "      <td>0.0</td>\n",
              "      <td>0.5</td>\n",
              "      <td>0.0</td>\n",
              "      <td>this 2nd vaccine dose will have u struggling f...</td>\n",
              "      <td>vaccine dose life dude</td>\n",
              "    </tr>\n",
              "    <tr>\n",
              "      <th>2</th>\n",
              "      <td>0.000205</td>\n",
              "      <td>0.0</td>\n",
              "      <td>0.042499</td>\n",
              "      <td>0.000018</td>\n",
              "      <td>0.000933</td>\n",
              "      <td>0.000037</td>\n",
              "      <td>0.001256</td>\n",
              "      <td>0.0</td>\n",
              "      <td>0.779167</td>\n",
              "      <td>0.75</td>\n",
              "      <td>My aunt got the covid vaccine today because sh...</td>\n",
              "      <td>aunt covid vaccine today healthcare worker t h...</td>\n",
              "    </tr>\n",
              "  </tbody>\n",
              "</table>\n",
              "</div>\n",
              "      <button class=\"colab-df-convert\" onclick=\"convertToInteractive('df-e93e3ee2-aa32-4b61-bb9c-a3eb52d9b3a7')\"\n",
              "              title=\"Convert this dataframe to an interactive table.\"\n",
              "              style=\"display:none;\">\n",
              "        \n",
              "  <svg xmlns=\"http://www.w3.org/2000/svg\" height=\"24px\"viewBox=\"0 0 24 24\"\n",
              "       width=\"24px\">\n",
              "    <path d=\"M0 0h24v24H0V0z\" fill=\"none\"/>\n",
              "    <path d=\"M18.56 5.44l.94 2.06.94-2.06 2.06-.94-2.06-.94-.94-2.06-.94 2.06-2.06.94zm-11 1L8.5 8.5l.94-2.06 2.06-.94-2.06-.94L8.5 2.5l-.94 2.06-2.06.94zm10 10l.94 2.06.94-2.06 2.06-.94-2.06-.94-.94-2.06-.94 2.06-2.06.94z\"/><path d=\"M17.41 7.96l-1.37-1.37c-.4-.4-.92-.59-1.43-.59-.52 0-1.04.2-1.43.59L10.3 9.45l-7.72 7.72c-.78.78-.78 2.05 0 2.83L4 21.41c.39.39.9.59 1.41.59.51 0 1.02-.2 1.41-.59l7.78-7.78 2.81-2.81c.8-.78.8-2.07 0-2.86zM5.41 20L4 18.59l7.72-7.72 1.47 1.35L5.41 20z\"/>\n",
              "  </svg>\n",
              "      </button>\n",
              "      \n",
              "  <style>\n",
              "    .colab-df-container {\n",
              "      display:flex;\n",
              "      flex-wrap:wrap;\n",
              "      gap: 12px;\n",
              "    }\n",
              "\n",
              "    .colab-df-convert {\n",
              "      background-color: #E8F0FE;\n",
              "      border: none;\n",
              "      border-radius: 50%;\n",
              "      cursor: pointer;\n",
              "      display: none;\n",
              "      fill: #1967D2;\n",
              "      height: 32px;\n",
              "      padding: 0 0 0 0;\n",
              "      width: 32px;\n",
              "    }\n",
              "\n",
              "    .colab-df-convert:hover {\n",
              "      background-color: #E2EBFA;\n",
              "      box-shadow: 0px 1px 2px rgba(60, 64, 67, 0.3), 0px 1px 3px 1px rgba(60, 64, 67, 0.15);\n",
              "      fill: #174EA6;\n",
              "    }\n",
              "\n",
              "    [theme=dark] .colab-df-convert {\n",
              "      background-color: #3B4455;\n",
              "      fill: #D2E3FC;\n",
              "    }\n",
              "\n",
              "    [theme=dark] .colab-df-convert:hover {\n",
              "      background-color: #434B5C;\n",
              "      box-shadow: 0px 1px 3px 1px rgba(0, 0, 0, 0.15);\n",
              "      filter: drop-shadow(0px 1px 2px rgba(0, 0, 0, 0.3));\n",
              "      fill: #FFFFFF;\n",
              "    }\n",
              "  </style>\n",
              "\n",
              "      <script>\n",
              "        const buttonEl =\n",
              "          document.querySelector('#df-e93e3ee2-aa32-4b61-bb9c-a3eb52d9b3a7 button.colab-df-convert');\n",
              "        buttonEl.style.display =\n",
              "          google.colab.kernel.accessAllowed ? 'block' : 'none';\n",
              "\n",
              "        async function convertToInteractive(key) {\n",
              "          const element = document.querySelector('#df-e93e3ee2-aa32-4b61-bb9c-a3eb52d9b3a7');\n",
              "          const dataTable =\n",
              "            await google.colab.kernel.invokeFunction('convertToInteractive',\n",
              "                                                     [key], {});\n",
              "          if (!dataTable) return;\n",
              "\n",
              "          const docLinkHtml = 'Like what you see? Visit the ' +\n",
              "            '<a target=\"_blank\" href=https://colab.research.google.com/notebooks/data_table.ipynb>data table notebook</a>'\n",
              "            + ' to learn more about interactive tables.';\n",
              "          element.innerHTML = '';\n",
              "          dataTable['output_type'] = 'display_data';\n",
              "          await google.colab.output.renderOutput(dataTable, element);\n",
              "          const docLink = document.createElement('div');\n",
              "          docLink.innerHTML = docLinkHtml;\n",
              "          element.appendChild(docLink);\n",
              "        }\n",
              "      </script>\n",
              "    </div>\n",
              "  </div>\n",
              "  "
            ],
            "text/plain": [
              "          0    1         2         3         4         5         6    7  \\\n",
              "0  0.000018  0.0  0.001712  0.000001  0.000251       0.0  0.000175  0.0   \n",
              "1       0.0  0.0  0.013296       0.0  0.000489       0.0  0.000203  0.0   \n",
              "2  0.000205  0.0  0.042499  0.000018  0.000933  0.000037  0.001256  0.0   \n",
              "\n",
              "          8     9                                                 10  \\\n",
              "0       0.5   0.0  if you’re doing an engineering degree, don’t w...   \n",
              "1       0.5   0.0  this 2nd vaccine dose will have u struggling f...   \n",
              "2  0.779167  0.75  My aunt got the covid vaccine today because sh...   \n",
              "\n",
              "                                         nouns_verbs  \n",
              "0       engineering degree don ’ t worry ’ s vaccine  \n",
              "1                             vaccine dose life dude  \n",
              "2  aunt covid vaccine today healthcare worker t h...  "
            ]
          },
          "execution_count": 26,
          "metadata": {},
          "output_type": "execute_result"
        }
      ],
      "source": [
        "x_train.head(n=3)"
      ]
    },
    {
      "cell_type": "code",
      "execution_count": null,
      "metadata": {
        "colab": {
          "base_uri": "https://localhost:8080/",
          "height": 424
        },
        "id": "2mipm7DAhX7V",
        "outputId": "b2504d0d-d55d-4b80-9c2a-43d061b73bb2"
      },
      "outputs": [
        {
          "data": {
            "text/html": [
              "\n",
              "  <div id=\"df-bf3f6e96-cf6d-4d5f-9598-dc1ebe97133d\">\n",
              "    <div class=\"colab-df-container\">\n",
              "      <div>\n",
              "<style scoped>\n",
              "    .dataframe tbody tr th:only-of-type {\n",
              "        vertical-align: middle;\n",
              "    }\n",
              "\n",
              "    .dataframe tbody tr th {\n",
              "        vertical-align: top;\n",
              "    }\n",
              "\n",
              "    .dataframe thead th {\n",
              "        text-align: right;\n",
              "    }\n",
              "</style>\n",
              "<table border=\"1\" class=\"dataframe\">\n",
              "  <thead>\n",
              "    <tr style=\"text-align: right;\">\n",
              "      <th></th>\n",
              "      <th>0</th>\n",
              "      <th>1</th>\n",
              "      <th>2</th>\n",
              "      <th>3</th>\n",
              "      <th>4</th>\n",
              "      <th>5</th>\n",
              "      <th>6</th>\n",
              "      <th>7</th>\n",
              "      <th>8</th>\n",
              "      <th>9</th>\n",
              "      <th>10</th>\n",
              "    </tr>\n",
              "  </thead>\n",
              "  <tbody>\n",
              "    <tr>\n",
              "      <th>0</th>\n",
              "      <td>0.000018</td>\n",
              "      <td>0.0</td>\n",
              "      <td>0.001712</td>\n",
              "      <td>0.000001</td>\n",
              "      <td>0.000251</td>\n",
              "      <td>0.0</td>\n",
              "      <td>0.000175</td>\n",
              "      <td>0.0</td>\n",
              "      <td>0.5</td>\n",
              "      <td>0.0</td>\n",
              "      <td>if you’re doing an engineering degree, don’t w...</td>\n",
              "    </tr>\n",
              "    <tr>\n",
              "      <th>1</th>\n",
              "      <td>0.0</td>\n",
              "      <td>0.0</td>\n",
              "      <td>0.013296</td>\n",
              "      <td>0.0</td>\n",
              "      <td>0.000489</td>\n",
              "      <td>0.0</td>\n",
              "      <td>0.000203</td>\n",
              "      <td>0.0</td>\n",
              "      <td>0.5</td>\n",
              "      <td>0.0</td>\n",
              "      <td>this 2nd vaccine dose will have u struggling f...</td>\n",
              "    </tr>\n",
              "    <tr>\n",
              "      <th>2</th>\n",
              "      <td>0.000205</td>\n",
              "      <td>0.0</td>\n",
              "      <td>0.042499</td>\n",
              "      <td>0.000018</td>\n",
              "      <td>0.000933</td>\n",
              "      <td>0.000037</td>\n",
              "      <td>0.001256</td>\n",
              "      <td>0.0</td>\n",
              "      <td>0.779167</td>\n",
              "      <td>0.75</td>\n",
              "      <td>My aunt got the covid vaccine today because sh...</td>\n",
              "    </tr>\n",
              "    <tr>\n",
              "      <th>3</th>\n",
              "      <td>0.003026</td>\n",
              "      <td>0.006414</td>\n",
              "      <td>0.001425</td>\n",
              "      <td>0.003013</td>\n",
              "      <td>0.000025</td>\n",
              "      <td>0.000181</td>\n",
              "      <td>0.0025</td>\n",
              "      <td>0.0</td>\n",
              "      <td>0.5</td>\n",
              "      <td>0.0</td>\n",
              "      <td>If you date men do not worry about what’s in t...</td>\n",
              "    </tr>\n",
              "    <tr>\n",
              "      <th>4</th>\n",
              "      <td>0.000116</td>\n",
              "      <td>0.0</td>\n",
              "      <td>0.004291</td>\n",
              "      <td>0.000097</td>\n",
              "      <td>0.001326</td>\n",
              "      <td>0.000644</td>\n",
              "      <td>0.001208</td>\n",
              "      <td>0.0</td>\n",
              "      <td>0.5</td>\n",
              "      <td>0.0</td>\n",
              "      <td>Hello vaccine day ❤️🇪🇺</td>\n",
              "    </tr>\n",
              "    <tr>\n",
              "      <th>...</th>\n",
              "      <td>...</td>\n",
              "      <td>...</td>\n",
              "      <td>...</td>\n",
              "      <td>...</td>\n",
              "      <td>...</td>\n",
              "      <td>...</td>\n",
              "      <td>...</td>\n",
              "      <td>...</td>\n",
              "      <td>...</td>\n",
              "      <td>...</td>\n",
              "      <td>...</td>\n",
              "    </tr>\n",
              "    <tr>\n",
              "      <th>7414</th>\n",
              "      <td>0.000018</td>\n",
              "      <td>0.0</td>\n",
              "      <td>0.004711</td>\n",
              "      <td>0.000014</td>\n",
              "      <td>0.002791</td>\n",
              "      <td>0.000125</td>\n",
              "      <td>0.000701</td>\n",
              "      <td>0.0</td>\n",
              "      <td>0.725</td>\n",
              "      <td>0.7</td>\n",
              "      <td>My dad got the Moderna vaccine this morning an...</td>\n",
              "    </tr>\n",
              "    <tr>\n",
              "      <th>7415</th>\n",
              "      <td>0.000152</td>\n",
              "      <td>0.000128</td>\n",
              "      <td>0.061789</td>\n",
              "      <td>0.000033</td>\n",
              "      <td>0.001849</td>\n",
              "      <td>0.000014</td>\n",
              "      <td>0.002452</td>\n",
              "      <td>0.0</td>\n",
              "      <td>0.5</td>\n",
              "      <td>0.0</td>\n",
              "      <td>just got the second dose of the mdrna vaccine....</td>\n",
              "    </tr>\n",
              "    <tr>\n",
              "      <th>7416</th>\n",
              "      <td>0.000009</td>\n",
              "      <td>0.000128</td>\n",
              "      <td>0.000092</td>\n",
              "      <td>0.000001</td>\n",
              "      <td>0.000743</td>\n",
              "      <td>0.0</td>\n",
              "      <td>0.000648</td>\n",
              "      <td>0.0</td>\n",
              "      <td>0.5</td>\n",
              "      <td>0.0</td>\n",
              "      <td>A comprehensive assessment of the #COVID19 #pa...</td>\n",
              "    </tr>\n",
              "    <tr>\n",
              "      <th>7417</th>\n",
              "      <td>0.0</td>\n",
              "      <td>0.0</td>\n",
              "      <td>0.651637</td>\n",
              "      <td>0.000104</td>\n",
              "      <td>0.01196</td>\n",
              "      <td>0.001084</td>\n",
              "      <td>0.169258</td>\n",
              "      <td>0.0</td>\n",
              "      <td>0.698864</td>\n",
              "      <td>0.477273</td>\n",
              "      <td>#vaccinated #GetVaccinated #VaccinesWork \\n\\nN...</td>\n",
              "    </tr>\n",
              "    <tr>\n",
              "      <th>7418</th>\n",
              "      <td>0.000018</td>\n",
              "      <td>0.000128</td>\n",
              "      <td>0.000572</td>\n",
              "      <td>0.000034</td>\n",
              "      <td>0.001068</td>\n",
              "      <td>0.00013</td>\n",
              "      <td>0.074326</td>\n",
              "      <td>0.0</td>\n",
              "      <td>0.408333</td>\n",
              "      <td>0.644444</td>\n",
              "      <td>I get my first dose of the vaccine today. Can’...</td>\n",
              "    </tr>\n",
              "  </tbody>\n",
              "</table>\n",
              "<p>7419 rows × 11 columns</p>\n",
              "</div>\n",
              "      <button class=\"colab-df-convert\" onclick=\"convertToInteractive('df-bf3f6e96-cf6d-4d5f-9598-dc1ebe97133d')\"\n",
              "              title=\"Convert this dataframe to an interactive table.\"\n",
              "              style=\"display:none;\">\n",
              "        \n",
              "  <svg xmlns=\"http://www.w3.org/2000/svg\" height=\"24px\"viewBox=\"0 0 24 24\"\n",
              "       width=\"24px\">\n",
              "    <path d=\"M0 0h24v24H0V0z\" fill=\"none\"/>\n",
              "    <path d=\"M18.56 5.44l.94 2.06.94-2.06 2.06-.94-2.06-.94-.94-2.06-.94 2.06-2.06.94zm-11 1L8.5 8.5l.94-2.06 2.06-.94-2.06-.94L8.5 2.5l-.94 2.06-2.06.94zm10 10l.94 2.06.94-2.06 2.06-.94-2.06-.94-.94-2.06-.94 2.06-2.06.94z\"/><path d=\"M17.41 7.96l-1.37-1.37c-.4-.4-.92-.59-1.43-.59-.52 0-1.04.2-1.43.59L10.3 9.45l-7.72 7.72c-.78.78-.78 2.05 0 2.83L4 21.41c.39.39.9.59 1.41.59.51 0 1.02-.2 1.41-.59l7.78-7.78 2.81-2.81c.8-.78.8-2.07 0-2.86zM5.41 20L4 18.59l7.72-7.72 1.47 1.35L5.41 20z\"/>\n",
              "  </svg>\n",
              "      </button>\n",
              "      \n",
              "  <style>\n",
              "    .colab-df-container {\n",
              "      display:flex;\n",
              "      flex-wrap:wrap;\n",
              "      gap: 12px;\n",
              "    }\n",
              "\n",
              "    .colab-df-convert {\n",
              "      background-color: #E8F0FE;\n",
              "      border: none;\n",
              "      border-radius: 50%;\n",
              "      cursor: pointer;\n",
              "      display: none;\n",
              "      fill: #1967D2;\n",
              "      height: 32px;\n",
              "      padding: 0 0 0 0;\n",
              "      width: 32px;\n",
              "    }\n",
              "\n",
              "    .colab-df-convert:hover {\n",
              "      background-color: #E2EBFA;\n",
              "      box-shadow: 0px 1px 2px rgba(60, 64, 67, 0.3), 0px 1px 3px 1px rgba(60, 64, 67, 0.15);\n",
              "      fill: #174EA6;\n",
              "    }\n",
              "\n",
              "    [theme=dark] .colab-df-convert {\n",
              "      background-color: #3B4455;\n",
              "      fill: #D2E3FC;\n",
              "    }\n",
              "\n",
              "    [theme=dark] .colab-df-convert:hover {\n",
              "      background-color: #434B5C;\n",
              "      box-shadow: 0px 1px 3px 1px rgba(0, 0, 0, 0.15);\n",
              "      filter: drop-shadow(0px 1px 2px rgba(0, 0, 0, 0.3));\n",
              "      fill: #FFFFFF;\n",
              "    }\n",
              "  </style>\n",
              "\n",
              "      <script>\n",
              "        const buttonEl =\n",
              "          document.querySelector('#df-bf3f6e96-cf6d-4d5f-9598-dc1ebe97133d button.colab-df-convert');\n",
              "        buttonEl.style.display =\n",
              "          google.colab.kernel.accessAllowed ? 'block' : 'none';\n",
              "\n",
              "        async function convertToInteractive(key) {\n",
              "          const element = document.querySelector('#df-bf3f6e96-cf6d-4d5f-9598-dc1ebe97133d');\n",
              "          const dataTable =\n",
              "            await google.colab.kernel.invokeFunction('convertToInteractive',\n",
              "                                                     [key], {});\n",
              "          if (!dataTable) return;\n",
              "\n",
              "          const docLinkHtml = 'Like what you see? Visit the ' +\n",
              "            '<a target=\"_blank\" href=https://colab.research.google.com/notebooks/data_table.ipynb>data table notebook</a>'\n",
              "            + ' to learn more about interactive tables.';\n",
              "          element.innerHTML = '';\n",
              "          dataTable['output_type'] = 'display_data';\n",
              "          await google.colab.output.renderOutput(dataTable, element);\n",
              "          const docLink = document.createElement('div');\n",
              "          docLink.innerHTML = docLinkHtml;\n",
              "          element.appendChild(docLink);\n",
              "        }\n",
              "      </script>\n",
              "    </div>\n",
              "  </div>\n",
              "  "
            ],
            "text/plain": [
              "             0         1         2         3         4         5         6  \\\n",
              "0     0.000018       0.0  0.001712  0.000001  0.000251       0.0  0.000175   \n",
              "1          0.0       0.0  0.013296       0.0  0.000489       0.0  0.000203   \n",
              "2     0.000205       0.0  0.042499  0.000018  0.000933  0.000037  0.001256   \n",
              "3     0.003026  0.006414  0.001425  0.003013  0.000025  0.000181    0.0025   \n",
              "4     0.000116       0.0  0.004291  0.000097  0.001326  0.000644  0.001208   \n",
              "...        ...       ...       ...       ...       ...       ...       ...   \n",
              "7414  0.000018       0.0  0.004711  0.000014  0.002791  0.000125  0.000701   \n",
              "7415  0.000152  0.000128  0.061789  0.000033  0.001849  0.000014  0.002452   \n",
              "7416  0.000009  0.000128  0.000092  0.000001  0.000743       0.0  0.000648   \n",
              "7417       0.0       0.0  0.651637  0.000104   0.01196  0.001084  0.169258   \n",
              "7418  0.000018  0.000128  0.000572  0.000034  0.001068   0.00013  0.074326   \n",
              "\n",
              "        7         8         9  \\\n",
              "0     0.0       0.5       0.0   \n",
              "1     0.0       0.5       0.0   \n",
              "2     0.0  0.779167      0.75   \n",
              "3     0.0       0.5       0.0   \n",
              "4     0.0       0.5       0.0   \n",
              "...   ...       ...       ...   \n",
              "7414  0.0     0.725       0.7   \n",
              "7415  0.0       0.5       0.0   \n",
              "7416  0.0       0.5       0.0   \n",
              "7417  0.0  0.698864  0.477273   \n",
              "7418  0.0  0.408333  0.644444   \n",
              "\n",
              "                                                     10  \n",
              "0     if you’re doing an engineering degree, don’t w...  \n",
              "1     this 2nd vaccine dose will have u struggling f...  \n",
              "2     My aunt got the covid vaccine today because sh...  \n",
              "3     If you date men do not worry about what’s in t...  \n",
              "4                                Hello vaccine day ❤️🇪🇺  \n",
              "...                                                 ...  \n",
              "7414  My dad got the Moderna vaccine this morning an...  \n",
              "7415  just got the second dose of the mdrna vaccine....  \n",
              "7416  A comprehensive assessment of the #COVID19 #pa...  \n",
              "7417  #vaccinated #GetVaccinated #VaccinesWork \\n\\nN...  \n",
              "7418  I get my first dose of the vaccine today. Can’...  \n",
              "\n",
              "[7419 rows x 11 columns]"
            ]
          },
          "execution_count": 27,
          "metadata": {},
          "output_type": "execute_result"
        }
      ],
      "source": [
        "x_train.drop(['nouns_verbs'], axis=1)"
      ]
    },
    {
      "cell_type": "markdown",
      "metadata": {
        "id": "Oi73_n0a7dAQ"
      },
      "source": [
        "TO-DO: only use text dataset, need to coperate them\n"
      ]
    },
    {
      "cell_type": "code",
      "execution_count": null,
      "metadata": {
        "colab": {
          "base_uri": "https://localhost:8080/",
          "height": 130,
          "referenced_widgets": [
            "8807fb6dc217465485efb240dff23e3d",
            "e04b5519897b4ec785d5d3f16fe89bda",
            "32ceb48f65d542e9b8beda941b997251",
            "0d9d0b41d14b4ee9b46f109489527a33",
            "a39c3c6d11b74a41b5c9e84825469728",
            "0d459ecd3a6c45fa8abab873fff8e019",
            "a9ae8662573c47e891dca317343a150d",
            "2eee7ac3bd274029be0af5a584de06b9",
            "ea733ee5b9124ee78c76fc318bf616c7",
            "224d3a23855942aea05471c0ae199ec7",
            "d9a6629dc9274fa398665af3bb14e98b",
            "7c5c8a9000d643d4aeb77b52c193e389",
            "5dfcf8c52b13426db6cd94456901a6bd",
            "9982af7a5f9c4cb29cc4e7d6b0f75443",
            "22ce10a8eec14c7eacf8c6410eff66fa",
            "13b63ec891db4f0c94ca65502af90e01",
            "9d474e05db4e4cc68d0dc18753f621bc",
            "f406f0db3a2f4a1797f59c88ee3f9ce4",
            "bf425d0a84f94b36b4b2b97e57d4fab9",
            "86a85c7331ad485e923bdb3ff7c11c81",
            "d6a42a543ca642e69b29093783b5ee8f",
            "45b17ff9ab604176aa39fb52040fa1ba",
            "f432a381d7374011b91cc3ffa52d8fb3",
            "fbc37cba458449ad86378be09e66028a",
            "bd9b39d1715942f2811d3a31aaeb8cf6",
            "346d5f3b1650415d9f5d77374879d117",
            "98d818725f1a4d0f84ba84eb1a692fb6",
            "e90d2fea5ae046dfbe024d96576cd4dc",
            "34417f8fc3404585af48a5c9fd42c4e9",
            "d80ac6afd93e48e297a599b6083ffda1",
            "e67f1d644d9943d1b672e0696e2a5110",
            "c8c3ca6997d94193803fd7ba1584c59c",
            "93757df51fff492eae8b059f3845cc19"
          ]
        },
        "id": "xB5rIEtKtX0e",
        "outputId": "299796d5-7663-4bad-cd25-692499554217"
      },
      "outputs": [
        {
          "data": {
            "application/vnd.jupyter.widget-view+json": {
              "model_id": "8807fb6dc217465485efb240dff23e3d",
              "version_major": 2,
              "version_minor": 0
            },
            "text/plain": [
              "Downloading vocab.txt:   0%|          | 0.00/226k [00:00<?, ?B/s]"
            ]
          },
          "metadata": {},
          "output_type": "display_data"
        },
        {
          "data": {
            "application/vnd.jupyter.widget-view+json": {
              "model_id": "7c5c8a9000d643d4aeb77b52c193e389",
              "version_major": 2,
              "version_minor": 0
            },
            "text/plain": [
              "Downloading tokenizer_config.json:   0%|          | 0.00/28.0 [00:00<?, ?B/s]"
            ]
          },
          "metadata": {},
          "output_type": "display_data"
        },
        {
          "data": {
            "application/vnd.jupyter.widget-view+json": {
              "model_id": "f432a381d7374011b91cc3ffa52d8fb3",
              "version_major": 2,
              "version_minor": 0
            },
            "text/plain": [
              "Downloading config.json:   0%|          | 0.00/570 [00:00<?, ?B/s]"
            ]
          },
          "metadata": {},
          "output_type": "display_data"
        },
        {
          "name": "stdout",
          "output_type": "stream",
          "text": [
            "Max length:  118\n"
          ]
        }
      ],
      "source": [
        "### --------- Setup DistilBERT ---------- ###\n",
        "\n",
        "# Instantiate Distilbert tokenizer\n",
        "tokenizer = BertTokenizer.from_pretrained('bert-base-uncased')\n",
        "\n",
        "# Create a function to tokenize a set of texts\n",
        "def preprocessing_for_bert(data):\n",
        "    \"\"\"Perform required preprocessing steps for pretrained BERT.\n",
        "    @param    data (np.array): Array of texts to be processed.\n",
        "    @return   input_ids (torch.Tensor): Tensor of token ids to be fed to a model.\n",
        "    @return   attention_masks (torch.Tensor): Tensor of indices specifying which\n",
        "                  tokens should be attended to by the model.\n",
        "    \"\"\"\n",
        "    # Create empty lists to store outputs\n",
        "    input_ids = []\n",
        "    attention_masks = []\n",
        "\n",
        "    # For every sentence...\n",
        "    for sent in data.values:\n",
        "        # `encode_plus` will:\n",
        "        #    (1) Tokenize the sentence\n",
        "        #    (2) Add the `[CLS]` and `[SEP]` token to the start and end\n",
        "        #    (3) Truncate/Pad sentence to max length\n",
        "        #    (4) Map tokens to their IDs\n",
        "        #    (5) Create attention mask\n",
        "        #    (6) Return a dictionary of outputs\n",
        "        encoded_sent = tokenizer.encode_plus(\n",
        "            text = sent,\n",
        "            add_special_tokens=True,        # Add `[CLS]` and `[SEP]`\n",
        "            max_length=MAX_LEN,                  # Max length to truncate/pad\n",
        "            pad_to_max_length=True,         # Pad sentence to max length\n",
        "            #return_tensors='pt',           # Return PyTorch tensor\n",
        "            return_attention_mask=True      # Return attention mask\n",
        "            )\n",
        "        \n",
        "        # Add the outputs to the lists\n",
        "        input_ids.append(encoded_sent.get('input_ids'))\n",
        "        attention_masks.append(encoded_sent.get('attention_mask'))\n",
        "\n",
        "    # Convert lists to tensors\n",
        "    input_ids = torch.tensor(input_ids)\n",
        "    attention_masks = torch.tensor(attention_masks)\n",
        "\n",
        "    return input_ids, attention_masks\n",
        "\n",
        "# before tokenizing, we need to specify the maximum length of sentences\n",
        "# Encode our concatenated data\n",
        "encoded_tweets = [tokenizer.encode(sent, add_special_tokens=True) for sent in x_train[10]]\n",
        "# Find the maximum length\n",
        "max_len = max([len(sent) for sent in encoded_tweets])\n",
        "print('Max length: ', max_len)"
      ]
    },
    {
      "cell_type": "code",
      "execution_count": null,
      "metadata": {
        "colab": {
          "base_uri": "https://localhost:8080/"
        },
        "id": "FfWD8hJqBKAp",
        "outputId": "10e6f11e-4452-4365-dc34-f610afb35069"
      },
      "outputs": [
        {
          "name": "stderr",
          "output_type": "stream",
          "text": [
            "Truncation was not explicitly activated but `max_length` is provided a specific value, please use `truncation=True` to explicitly truncate examples to max length. Defaulting to 'longest_first' truncation strategy. If you encode pairs of sequences (GLUE-style) with the tokenizer you can select this strategy more precisely by providing a specific strategy to `truncation`.\n"
          ]
        },
        {
          "name": "stdout",
          "output_type": "stream",
          "text": [
            "Original:  0            0.0\n",
            "1            0.0\n",
            "2            0.0\n",
            "3       0.006414\n",
            "4            0.0\n",
            "          ...   \n",
            "7414         0.0\n",
            "7415    0.000128\n",
            "7416    0.000128\n",
            "7417         0.0\n",
            "7418    0.000128\n",
            "Name: 1, Length: 7419, dtype: object\n",
            "Token IDs:  [tensor([[  101,  2065,  2017,  ...,     0,     0,     0],\n",
            "        [  101,  2023,  3416,  ...,     0,     0,     0],\n",
            "        [  101,  2026,  5916,  ...,     0,     0,     0],\n",
            "        ...,\n",
            "        [  101,  1037,  7721,  ...,     0,     0,     0],\n",
            "        [  101,  1001, 12436,  ...,     0,     0,     0],\n",
            "        [  101,  1045,  2131,  ...,     0,     0,     0]]), tensor([[1, 1, 1,  ..., 0, 0, 0],\n",
            "        [1, 1, 1,  ..., 0, 0, 0],\n",
            "        [1, 1, 1,  ..., 0, 0, 0],\n",
            "        ...,\n",
            "        [1, 1, 1,  ..., 0, 0, 0],\n",
            "        [1, 1, 1,  ..., 0, 0, 0],\n",
            "        [1, 1, 1,  ..., 0, 0, 0]])]\n",
            "Tokenizing data...\n"
          ]
        }
      ],
      "source": [
        "# Apply tokenizer to dataset\n",
        "MAX_LEN = 80\n",
        "\n",
        "# Print sentence 0 and its encoded token ids\n",
        "token_ids = list(preprocessing_for_bert(x_train[10]))\n",
        "print('Original: ', x_train[1])\n",
        "print('Token IDs: ', token_ids)\n",
        "\n",
        "# Run function `preprocessing_for_bert` on the train set and the validation set\n",
        "print('Tokenizing data...')\n",
        "train_inputs, train_masks = preprocessing_for_bert(x_train[10])\n",
        "test_inputs, test_masks = preprocessing_for_bert(x_test[10])\n",
        "\n",
        "# DATA SET CHANGE TO DATAFRAME"
      ]
    },
    {
      "cell_type": "code",
      "execution_count": null,
      "metadata": {
        "id": "fwrvkGERtbcx"
      },
      "outputs": [],
      "source": [
        "# create PyTorch DataLoader\n",
        "from torch.utils.data import TensorDataset, DataLoader, RandomSampler, SequentialSampler\n",
        "\n",
        "# Convert other data types to torch.Tensor\n",
        "train_labels = torch.tensor(y_train).type(torch.LongTensor)\n",
        "test_labels = torch.tensor(y_test).type(torch.LongTensor)\n",
        "\n",
        "# For fine-tuning BERT, the authors recommend a batch size of 16 or 32.\n",
        "batch_size = 32\n",
        "\n",
        "# Create the DataLoader for our training set\n",
        "train_data = TensorDataset(train_inputs, train_masks, train_labels)\n",
        "train_sampler = RandomSampler(train_data)\n",
        "train_dataloader = DataLoader(train_data, sampler=train_sampler, batch_size=batch_size)\n",
        "\n",
        "# Create the DataLoader for our test set\n",
        "test_data = TensorDataset(test_inputs, test_masks, test_labels)\n",
        "test_sampler = SequentialSampler(test_data)\n",
        "test_dataloader = DataLoader(test_data, sampler=test_sampler, batch_size=batch_size)"
      ]
    },
    {
      "cell_type": "code",
      "execution_count": null,
      "metadata": {
        "colab": {
          "base_uri": "https://localhost:8080/"
        },
        "id": "bkDHRA5gC79U",
        "outputId": "1cb8c1b8-2797-432b-ce55-a05d88a581be"
      },
      "outputs": [
        {
          "name": "stdout",
          "output_type": "stream",
          "text": [
            "CPU times: user 32.5 ms, sys: 7 µs, total: 32.5 ms\n",
            "Wall time: 33.8 ms\n"
          ]
        }
      ],
      "source": [
        "# create BERT classifier\n",
        "%%time\n",
        "import torch\n",
        "import torch.nn as nn\n",
        "from transformers import BertModel\n",
        "\n",
        "# Create the BertClassfier class\n",
        "class BertClassifier(nn.Module):\n",
        "    \"\"\"Bert Model for Classification Tasks.\n",
        "    \"\"\"\n",
        "    def __init__(self, freeze_bert=False):\n",
        "        \"\"\"\n",
        "        @param    bert: a BertModel object\n",
        "        @param    classifier: a torch.nn.Module classifier\n",
        "        @param    freeze_bert (bool): Set `False` to fine-tune the BERT model\n",
        "        \"\"\"\n",
        "        super(BertClassifier, self).__init__()\n",
        "        # Specify hidden size of BERT, hidden size of our classifier, and number of labels\n",
        "        D_in, H, D_out = 768, 50, 2\n",
        "\n",
        "        # Instantiate BERT model\n",
        "        self.bert = BertModel.from_pretrained('bert-base-uncased')\n",
        "\n",
        "        # Instantiate an one-layer feed-forward classifier\n",
        "        self.classifier = nn.Sequential(\n",
        "            nn.Linear(D_in, H),\n",
        "            nn.ReLU(),\n",
        "            #nn.Dropout(0.5),\n",
        "            nn.Linear(H, D_out)\n",
        "        )\n",
        "\n",
        "        # Freeze the BERT model\n",
        "        if freeze_bert:\n",
        "            for param in self.bert.parameters():\n",
        "                param.requires_grad = False\n",
        "        \n",
        "    def forward(self, input_ids, attention_mask):\n",
        "        \"\"\"\n",
        "        Feed input to BERT and the classifier to compute logits.\n",
        "        @param    input_ids (torch.Tensor): an input tensor with shape (batch_size,\n",
        "                      max_length)\n",
        "        @param    attention_mask (torch.Tensor): a tensor that hold attention mask\n",
        "                      information with shape (batch_size, max_length)\n",
        "        @return   logits (torch.Tensor): an output tensor with shape (batch_size,\n",
        "                      num_labels)\n",
        "        \"\"\"\n",
        "        # Feed input to BERT\n",
        "        outputs = self.bert(input_ids=input_ids,\n",
        "                            attention_mask=attention_mask)\n",
        "        \n",
        "        # Extract the last hidden state of the token `[CLS]` for classification task\n",
        "        last_hidden_state_cls = outputs[0][:, 0, :]\n",
        "\n",
        "        # Feed input to classifier to compute logits\n",
        "        logits = self.classifier(last_hidden_state_cls)\n",
        "\n",
        "        return logits"
      ]
    },
    {
      "cell_type": "code",
      "execution_count": null,
      "metadata": {
        "id": "yFmkG0YaDMpr"
      },
      "outputs": [],
      "source": [
        "# optimizer & learning rate scheduler\n",
        "from transformers import AdamW, get_linear_schedule_with_warmup\n",
        "\n",
        "def initialize_model(epochs=4):\n",
        "  \"\"\"Initialize the Bert Classifier, the optimizer and the learning rate scheduler.\n",
        "  \"\"\"\n",
        "  # Instantiate Bert Classifier\n",
        "  bert_classifier = BertClassifier(freeze_bert=False)\n",
        "\n",
        "  # Tell PyTorch to run the model on GPU\n",
        "  bert_classifier.to(device)\n",
        "\n",
        "  # Create the optimizer\n",
        "  optimizer = AdamW(bert_classifier.parameters(),\n",
        "                      lr=5e-5,    # Default learning rate\n",
        "                      eps=1e-8    # Default epsilon value\n",
        "                    )\n",
        "    \n",
        "  #y_pred = np.where(preds >= 0.5, 1, 0)\n",
        "  # Total number of training steps\n",
        "  total_steps = len(train_dataloader) * epochs\n",
        "\n",
        "  # Set up the learning rate scheduler\n",
        "  scheduler = get_linear_schedule_with_warmup(optimizer,num_warmup_steps=0, # Default value\n",
        "                                                num_training_steps=total_steps)\n",
        "  return bert_classifier, optimizer, scheduler"
      ]
    },
    {
      "cell_type": "code",
      "execution_count": null,
      "metadata": {
        "colab": {
          "base_uri": "https://localhost:8080/"
        },
        "id": "Z-Zv1Yu2E1Wq",
        "outputId": "44ed6a91-3635-4d2c-afd7-3716b6ce3fb4"
      },
      "outputs": [
        {
          "name": "stdout",
          "output_type": "stream",
          "text": [
            "There are 1 GPU(s) available.\n",
            "Device name: Tesla P100-PCIE-16GB\n"
          ]
        }
      ],
      "source": [
        "if torch.cuda.is_available():       \n",
        "    device = torch.device(\"cuda\")\n",
        "    print(f'There are {torch.cuda.device_count()} GPU(s) available.')\n",
        "    print('Device name:', torch.cuda.get_device_name(0))\n",
        "\n",
        "else:\n",
        "    print('No GPU available, using the CPU instead.')\n",
        "    device = torch.device(\"cpu\")"
      ]
    },
    {
      "cell_type": "code",
      "execution_count": null,
      "metadata": {
        "id": "amRok-P8ESO9"
      },
      "outputs": [],
      "source": [
        "# Train the model\n",
        "import random\n",
        "import time\n",
        "\n",
        "# Specify loss function\n",
        "loss_fn = nn.CrossEntropyLoss()\n",
        "\n",
        "def set_seed(seed_value=42):\n",
        "    \"\"\"Set seed for reproducibility.\n",
        "    \"\"\"\n",
        "    random.seed(seed_value)\n",
        "    np.random.seed(seed_value)\n",
        "    torch.manual_seed(seed_value)\n",
        "    torch.cuda.manual_seed_all(seed_value)\n",
        "\n",
        "def train(model, train_dataloader, test_dataloader=None, epochs=4, evaluation=False):\n",
        "    \"\"\"Train the BertClassifier model.\n",
        "    \"\"\"\n",
        "    # Start training loop\n",
        "    print(\"Start training...\\n\")\n",
        "    for epoch_i in range(epochs):\n",
        "        # =======================================\n",
        "        #               Training\n",
        "        # =======================================\n",
        "        # Print the header of the result table\n",
        "        print(f\"{'Epoch':^7} | {'Batch':^7} | {'Train Loss':^12} | {'Val Loss':^10} | {'Val Acc':^9} | {'Elapsed':^9}\")\n",
        "        print(\"-\"*70)\n",
        "\n",
        "        # Measure the elapsed time of each epoch\n",
        "        t0_epoch, t0_batch = time.time(), time.time()\n",
        "\n",
        "        # Reset tracking variables at the beginning of each epoch\n",
        "        total_loss, batch_loss, batch_counts = 0, 0, 0\n",
        "\n",
        "        # Put the model into the training mode\n",
        "        model.train()\n",
        "\n",
        "        # For each batch of training data...\n",
        "        for step, batch in enumerate(train_dataloader):\n",
        "            batch_counts +=1\n",
        "            # Load batch to GPU\n",
        "            b_input_ids, b_attn_mask, b_labels = tuple(t.to(device) for t in batch)\n",
        "\n",
        "            # Zero out any previously calculated gradients\n",
        "            model.zero_grad()\n",
        "\n",
        "            # Perform a forward pass. This will return logits.\n",
        "            logits = model(b_input_ids, b_attn_mask)\n",
        "\n",
        "            # Compute loss and accumulate the loss values\n",
        "            loss = loss_fn(logits, b_labels)\n",
        "            batch_loss += loss.item()\n",
        "            total_loss += loss.item()\n",
        "\n",
        "            # Perform a backward pass to calculate gradients\n",
        "            loss.backward()\n",
        "\n",
        "            # Clip the norm of the gradients to 1.0 to prevent \"exploding gradients\"\n",
        "            torch.nn.utils.clip_grad_norm_(model.parameters(), 1.0)\n",
        "\n",
        "            # Update parameters and the learning rate\n",
        "            optimizer.step()\n",
        "            scheduler.step()\n",
        "\n",
        "            # Print the loss values and time elapsed for every 20 batches\n",
        "            if (step % 20 == 0 and step != 0) or (step == len(train_dataloader) - 1):\n",
        "                # Calculate time elapsed for 20 batches\n",
        "                time_elapsed = time.time() - t0_batch\n",
        "\n",
        "                # Print training results\n",
        "                print(f\"{epoch_i + 1:^7} | {step:^7} | {batch_loss / batch_counts:^12.6f} | {'-':^10} | {'-':^9} | {time_elapsed:^9.2f}\")\n",
        "\n",
        "                # Reset batch tracking variables\n",
        "                batch_loss, batch_counts = 0, 0\n",
        "                t0_batch = time.time()\n",
        "\n",
        "        # Calculate the average loss over the entire training data\n",
        "        avg_train_loss = total_loss / len(train_dataloader)\n",
        "\n",
        "        print(\"-\"*70)\n",
        "        # =======================================\n",
        "        #               Evaluation\n",
        "        # =======================================\n",
        "        if evaluation == True:\n",
        "            # After the completion of each training epoch, measure the model's performance\n",
        "            # on our testation set.\n",
        "            test_loss, test_accuracy = evaluate(model, test_dataloader)\n",
        "\n",
        "            # Print performance over the entire training data\n",
        "            time_elapsed = time.time() - t0_epoch\n",
        "            \n",
        "            print(f\"{epoch_i + 1:^7} | {'-':^7} | {avg_train_loss:^12.6f} | {test_loss:^10.6f} | {test_accuracy:^9.2f} | {time_elapsed:^9.2f}\")\n",
        "            print(\"-\"*70)\n",
        "        print(\"\\n\")\n",
        "    \n",
        "    print(\"Training complete!\")\n",
        "\n",
        "\n",
        "def evaluate(model, test_dataloader):\n",
        "    \"\"\"After the completion of each training epoch, measure the model's performance\n",
        "    on our testation set.\n",
        "    \"\"\"\n",
        "    # Put the model into the evaluation mode. The dropout layers are disabled during\n",
        "    # the test time.\n",
        "    model.eval()\n",
        "\n",
        "    # Tracking variables\n",
        "    test_accuracy = []\n",
        "    test_loss = []\n",
        "\n",
        "    # For each batch in our testation set...\n",
        "    for batch in test_dataloader:\n",
        "        # Load batch to GPU\n",
        "        b_input_ids, b_attn_mask, b_labels = tuple(t.to(device) for t in batch)\n",
        "        # Compute logits\n",
        "        with torch.no_grad():\n",
        "            logits = model(b_input_ids, b_attn_mask)\n",
        "\n",
        "        # Compute loss\n",
        "        loss = loss_fn(logits, b_labels)\n",
        "        test_loss.append(loss.item())\n",
        "\n",
        "        # Get the predictions\n",
        "        preds = torch.argmax(logits, dim=1).flatten()\n",
        "\n",
        "        # Calculate the accuracy rate\n",
        "        accuracy = (preds == b_labels).cpu().numpy().mean() * 100\n",
        "        test_accuracy.append(accuracy)\n",
        "\n",
        "    # Compute the average accuracy and loss over the testation set.\n",
        "    test_loss = np.mean(test_loss)\n",
        "    test_accuracy = np.mean(test_accuracy)\n",
        "\n",
        "    return test_loss, test_accuracy"
      ]
    },
    {
      "cell_type": "code",
      "execution_count": null,
      "metadata": {
        "colab": {
          "base_uri": "https://localhost:8080/",
          "height": 833,
          "referenced_widgets": [
            "d29fab67108046b5a984cf6a4dbce150",
            "72f99a3639054904b68f8103fb26c1c5",
            "1be13e0c2f724e6b8d467e9a4bd9e3b3",
            "a65250f1b7ee493c9b74228b4733dbc0",
            "1f490de26b2041f385a4918d4eb14773",
            "7b1bd046c64549bdb8d1984ed11b2064",
            "35ce7bd7f42b4f92a9897b1444162d2f",
            "a1f3e51048f34907b42deee0f4f80314",
            "447e5e494ed047d48e222194547ffeb9",
            "ddd8558223b94ca0980b257cda77c8b1",
            "04e3aba64cc148e3a96dce48e5fd9b89"
          ]
        },
        "id": "jqbL29jmEkl1",
        "outputId": "9ca53ae0-43f9-4c2c-b7a3-f4a362e7670d"
      },
      "outputs": [
        {
          "data": {
            "application/vnd.jupyter.widget-view+json": {
              "model_id": "d29fab67108046b5a984cf6a4dbce150",
              "version_major": 2,
              "version_minor": 0
            },
            "text/plain": [
              "Downloading pytorch_model.bin:   0%|          | 0.00/420M [00:00<?, ?B/s]"
            ]
          },
          "metadata": {},
          "output_type": "display_data"
        },
        {
          "name": "stderr",
          "output_type": "stream",
          "text": [
            "Some weights of the model checkpoint at bert-base-uncased were not used when initializing BertModel: ['cls.predictions.transform.dense.bias', 'cls.predictions.bias', 'cls.predictions.transform.LayerNorm.bias', 'cls.seq_relationship.bias', 'cls.predictions.transform.LayerNorm.weight', 'cls.seq_relationship.weight', 'cls.predictions.decoder.weight', 'cls.predictions.transform.dense.weight']\n",
            "- This IS expected if you are initializing BertModel from the checkpoint of a model trained on another task or with another architecture (e.g. initializing a BertForSequenceClassification model from a BertForPreTraining model).\n",
            "- This IS NOT expected if you are initializing BertModel from the checkpoint of a model that you expect to be exactly identical (initializing a BertForSequenceClassification model from a BertForSequenceClassification model).\n"
          ]
        },
        {
          "name": "stdout",
          "output_type": "stream",
          "text": [
            "Start training...\n",
            "\n",
            " Epoch  |  Batch  |  Train Loss  |  Val Loss  |  Val Acc  |  Elapsed \n",
            "----------------------------------------------------------------------\n",
            "   1    |   20    |   0.444114   |     -      |     -     |   8.09   \n",
            "   1    |   40    |   0.143546   |     -      |     -     |   5.35   \n",
            "   1    |   60    |   0.142641   |     -      |     -     |   5.35   \n",
            "   1    |   80    |   0.083589   |     -      |     -     |   5.35   \n",
            "   1    |   100   |   0.089372   |     -      |     -     |   5.35   \n",
            "   1    |   120   |   0.112175   |     -      |     -     |   5.35   \n",
            "   1    |   140   |   0.103605   |     -      |     -     |   5.35   \n",
            "   1    |   160   |   0.070613   |     -      |     -     |   5.35   \n",
            "   1    |   180   |   0.075100   |     -      |     -     |   5.35   \n",
            "   1    |   200   |   0.066081   |     -      |     -     |   5.35   \n",
            "   1    |   220   |   0.053345   |     -      |     -     |   5.35   \n",
            "   1    |   231   |   0.052262   |     -      |     -     |   2.89   \n",
            "----------------------------------------------------------------------\n",
            "   1    |    -    |   0.123718   |  0.059459  |   98.56   |   71.04  \n",
            "----------------------------------------------------------------------\n",
            "\n",
            "\n",
            " Epoch  |  Batch  |  Train Loss  |  Val Loss  |  Val Acc  |  Elapsed \n",
            "----------------------------------------------------------------------\n",
            "   2    |   20    |   0.010921   |     -      |     -     |   5.61   \n",
            "   2    |   40    |   0.051844   |     -      |     -     |   5.35   \n",
            "   2    |   60    |   0.028467   |     -      |     -     |   5.35   \n",
            "   2    |   80    |   0.043608   |     -      |     -     |   5.34   \n",
            "   2    |   100   |   0.047540   |     -      |     -     |   5.34   \n",
            "   2    |   120   |   0.042101   |     -      |     -     |   5.35   \n",
            "   2    |   140   |   0.045451   |     -      |     -     |   5.34   \n",
            "   2    |   160   |   0.027342   |     -      |     -     |   5.35   \n",
            "   2    |   180   |   0.015838   |     -      |     -     |   5.35   \n",
            "   2    |   200   |   0.012533   |     -      |     -     |   5.34   \n",
            "   2    |   220   |   0.039589   |     -      |     -     |   5.35   \n",
            "   2    |   231   |   0.035167   |     -      |     -     |   2.88   \n",
            "----------------------------------------------------------------------\n",
            "   2    |    -    |   0.033200   |  0.070975  |   98.40   |   68.53  \n",
            "----------------------------------------------------------------------\n",
            "\n",
            "\n",
            "Training complete!\n"
          ]
        }
      ],
      "source": [
        "set_seed(0)\n",
        "bert_classifier, optimizer, scheduler = initialize_model(epochs=2)\n",
        "train(bert_classifier, train_dataloader, test_dataloader, epochs=2, evaluation=True)"
      ]
    },
    {
      "cell_type": "code",
      "execution_count": null,
      "metadata": {
        "id": "2JBjil2PjMAg"
      },
      "outputs": [],
      "source": [
        "torch.save(bert_classifier.state_dict(),'/content/bert_classifer0817.pth') "
      ]
    },
    {
      "cell_type": "code",
      "execution_count": null,
      "metadata": {
        "id": "70Z9PW1FI8OT"
      },
      "outputs": [],
      "source": [
        "# Evaluate on validation set\n",
        "import torch.nn.functional as F\n",
        "\n",
        "def bert_predict(model, test_dataloader):\n",
        "    \"\"\"Perform a forward pass on the trained BERT model to predict probabilities\n",
        "    on the test set.\n",
        "    \"\"\"\n",
        "    # Put the model into the evaluation mode. The dropout layers are disabled during\n",
        "    # the test time.\n",
        "    model.eval()\n",
        "\n",
        "    all_logits = []\n",
        "\n",
        "    # For each batch in our test set...\n",
        "    for batch in test_dataloader:\n",
        "        # Load batch to GPU\n",
        "        b_input_ids, b_attn_mask = tuple(t.to(device) for t in batch)[:2]\n",
        "\n",
        "        # Compute logits\n",
        "        with torch.no_grad():\n",
        "            logits = model(b_input_ids, b_attn_mask)\n",
        "        all_logits.append(logits)\n",
        "    \n",
        "    # Concatenate logits from each batch\n",
        "    all_logits = torch.cat(all_logits, dim=0)\n",
        "\n",
        "    # Apply softmax to calculate probabilities\n",
        "    probs = F.softmax(all_logits, dim=1).cpu().numpy()\n",
        "\n",
        "    return probs"
      ]
    },
    {
      "cell_type": "code",
      "execution_count": null,
      "metadata": {
        "colab": {
          "base_uri": "https://localhost:8080/",
          "height": 394
        },
        "id": "MD24nBG8JC1v",
        "outputId": "4a402ef5-98c0-44f8-f76a-951c2b8e8e73"
      },
      "outputs": [
        {
          "name": "stdout",
          "output_type": "stream",
          "text": [
            "AUC: 0.9975\n",
            "Accuracy at threshold of 0.5: 98.38%\n",
            "The optimal threshold value is: 0.018117584\n"
          ]
        },
        {
          "data": {
            "image/png": "[encoded data removed]",
            "text/plain": [
              "<Figure size 432x288 with 1 Axes>"
            ]
          },
          "metadata": {},
          "output_type": "display_data"
        },
        {
          "data": {
            "text/plain": [
              "0.9759615384615385"
            ]
          },
          "execution_count": 113,
          "metadata": {},
          "output_type": "execute_result"
        }
      ],
      "source": [
        "# Compute predicted probabilities on the test set\n",
        "probs = bert_predict(bert_classifier, test_dataloader)\n",
        "\n",
        "# Evaluate the Bert classifier\n",
        "evaluate_roc(probs, y_test)\n",
        "\n",
        "probs[:,1][probs[:,1]>=0.5] = 1\n",
        "probs[:,1][probs[:,1]<0.5] = 0\n",
        "f1_score(probs[:,1], y_test)"
      ]
    },
    {
      "cell_type": "code",
      "execution_count": null,
      "metadata": {
        "colab": {
          "base_uri": "https://localhost:8080/"
        },
        "id": "Rp1_IdSOLv0c",
        "outputId": "c5bbf567-95ba-4d2c-de31-837a590a1b0c"
      },
      "outputs": [
        {
          "data": {
            "text/plain": [
              "True"
            ]
          },
          "execution_count": 114,
          "metadata": {},
          "output_type": "execute_result"
        }
      ],
      "source": [
        "(probs[:,0] == probs[:,1]).any() == False\n",
        "\n",
        "\n",
        "# why these models fall in some categories (differences)\n",
        "# visualize (make you outstanding)(showcase)\n",
        "## - test your hypothesis\n",
        "## - github, platform\n",
        "## plots (geo graph), directly \n",
        "#- show not only can run machine learning but also can show your visualization \n",
        "## not from binary classification point of view, from interesting questions view "
      ]
    },
    {
      "cell_type": "markdown",
      "metadata": {
        "id": "emS9V_CgkWzU"
      },
      "source": [
        "# Final Comparison"
      ]
    },
    {
      "cell_type": "markdown",
      "metadata": {
        "id": "NTkQTzI9ekKE"
      },
      "source": [
        "# Error Analysis"
      ]
    },
    {
      "cell_type": "markdown",
      "metadata": {
        "id": "TNM1wVFj00DH"
      },
      "source": [
        "TO-DO: single script to run all the files (_main_)"
      ]
    },
    {
      "cell_type": "code",
      "execution_count": null,
      "metadata": {
        "colab": {
          "base_uri": "https://localhost:8080/",
          "height": 235
        },
        "id": "xH2wabQWHGU4",
        "outputId": "08f3854b-e5e0-4cfb-9a7e-f9472af3bf1f"
      },
      "outputs": [
        {
          "name": "stdout",
          "output_type": "stream",
          "text": [
            "Label Predicted Tweet\n"
          ]
        },
        {
          "ename": "TypeError",
          "evalue": "ignored",
          "output_type": "error",
          "traceback": [
            "\u001b[0;31m---------------------------------------------------------------------------\u001b[0m",
            "\u001b[0;31mTypeError\u001b[0m                                 Traceback (most recent call last)",
            "\u001b[0;32m<ipython-input-50-8f2a9c619170>\u001b[0m in \u001b[0;36m<module>\u001b[0;34m()\u001b[0m\n\u001b[1;32m     12\u001b[0m   \u001b[0;31m#if np.abs(y_valid[i] - y_valid_pred[i]) > 0:\u001b[0m\u001b[0;34m\u001b[0m\u001b[0;34m\u001b[0m\u001b[0;34m\u001b[0m\u001b[0m\n\u001b[1;32m     13\u001b[0m       \u001b[0;31m#print('THE TWEET IS:', x_valid[1][i], y_valid[i])\u001b[0m\u001b[0;34m\u001b[0m\u001b[0;34m\u001b[0m\u001b[0;34m\u001b[0m\u001b[0m\n\u001b[0;32m---> 14\u001b[0;31m   \u001b[0;32mif\u001b[0m \u001b[0my_valid_pred\u001b[0m\u001b[0;34m[\u001b[0m\u001b[0mi\u001b[0m\u001b[0;34m]\u001b[0m \u001b[0;34m==\u001b[0m \u001b[0;36m1\u001b[0m \u001b[0;34m&\u001b[0m \u001b[0my_valid\u001b[0m\u001b[0;34m[\u001b[0m\u001b[0mi\u001b[0m\u001b[0;34m]\u001b[0m\u001b[0;34m!=\u001b[0m\u001b[0;36m0\u001b[0m\u001b[0;34m:\u001b[0m\u001b[0;34m\u001b[0m\u001b[0;34m\u001b[0m\u001b[0m\n\u001b[0m\u001b[1;32m     15\u001b[0m     \u001b[0mprint\u001b[0m\u001b[0;34m(\u001b[0m\u001b[0;34m\"THE MISLEADING TWEET (DETECT BY ALGO) IS:\"\u001b[0m\u001b[0;34m,\u001b[0m \u001b[0mx_valid\u001b[0m\u001b[0;34m[\u001b[0m\u001b[0;36m1\u001b[0m\u001b[0;34m]\u001b[0m\u001b[0;34m[\u001b[0m\u001b[0mi\u001b[0m\u001b[0;34m]\u001b[0m\u001b[0;34m)\u001b[0m\u001b[0;34m\u001b[0m\u001b[0;34m\u001b[0m\u001b[0m\n",
            "\u001b[0;31mTypeError\u001b[0m: ufunc 'bitwise_and' not supported for the input types, and the inputs could not be safely coerced to any supported types according to the casting rule ''safe''"
          ]
        }
      ],
      "source": [
        "# cousera: error analysis\n",
        "# Some error analysis done for you\n",
        "\n",
        "#valid_pred = rf_with.best_estimator_.predict_proba(x_valid_final)\n",
        "#evaluate_roc(valid_pred, y_valid)\n",
        "#BERT model\n",
        "\n",
        "print('Label Predicted Tweet')\n",
        "theta = 0.10\n",
        "for i in range(x_test.shape[0]):\n",
        "  y_test_pred = np.where(probs[:,1] >= theta, 1, 0)\n",
        "  #if np.abs(y_test[i] - y_test_pred[i]) > 0:\n",
        "      #print('THE TWEET IS:', x_test[1][i], y_test[i])\n",
        "  if y_test_pred[i] == 1 & y_test[i]!=0:\n",
        "    print(\"THE MISLEADING TWEET (DETECT BY ALGO) IS:\", x_test[1][i])"
      ]
    },
    {
      "cell_type": "code",
      "execution_count": null,
      "metadata": {
        "id": "JvJVWX9UxJ0U"
      },
      "outputs": [],
      "source": [
        "# 1. timely detection tweets (but out of scope)2.location, time 3.ideally, it will be helpful to show one plot to show my conclusion \n",
        "# dashboard, world, us maps to click on state or city (geo target): time distribution \n",
        "# politic party related \n",
        "# if have robust geo tags, y: liberal vs republican ratio, x: time, color: ratio of misleading \n",
        "# apply to unseen data, show the library looks like, (see what it looks like in library)"
      ]
    }
  ],
  "metadata": {
    "accelerator": "GPU",
    "colab": {
      "machine_shape": "hm",
      "name": "03 Models.ipynb",
      "provenance": []
    },
    "gpuClass": "standard",
    "kernelspec": {
      "display_name": "Python 3",
      "name": "python3"
    },
    "language_info": {
      "name": "python"
    },
    "widgets": {
      "application/vnd.jupyter.widget-state+json": {
        "04e3aba64cc148e3a96dce48e5fd9b89": {
          "model_module": "@jupyter-widgets/controls",
          "model_module_version": "1.5.0",
          "model_name": "DescriptionStyleModel",
          "state": {
            "_model_module": "@jupyter-widgets/controls",
            "_model_module_version": "1.5.0",
            "_model_name": "DescriptionStyleModel",
            "_view_count": null,
            "_view_module": "@jupyter-widgets/base",
            "_view_module_version": "1.2.0",
            "_view_name": "StyleView",
            "description_width": ""
          }
        },
        "0d459ecd3a6c45fa8abab873fff8e019": {
          "model_module": "@jupyter-widgets/base",
          "model_module_version": "1.2.0",
          "model_name": "LayoutModel",
          "state": {
            "_model_module": "@jupyter-widgets/base",
            "_model_module_version": "1.2.0",
            "_model_name": "LayoutModel",
            "_view_count": null,
            "_view_module": "@jupyter-widgets/base",
            "_view_module_version": "1.2.0",
            "_view_name": "LayoutView",
            "align_content": null,
            "align_items": null,
            "align_self": null,
            "border": null,
            "bottom": null,
            "display": null,
            "flex": null,
            "flex_flow": null,
            "grid_area": null,
            "grid_auto_columns": null,
            "grid_auto_flow": null,
            "grid_auto_rows": null,
            "grid_column": null,
            "grid_gap": null,
            "grid_row": null,
            "grid_template_areas": null,
            "grid_template_columns": null,
            "grid_template_rows": null,
            "height": null,
            "justify_content": null,
            "justify_items": null,
            "left": null,
            "margin": null,
            "max_height": null,
            "max_width": null,
            "min_height": null,
            "min_width": null,
            "object_fit": null,
            "object_position": null,
            "order": null,
            "overflow": null,
            "overflow_x": null,
            "overflow_y": null,
            "padding": null,
            "right": null,
            "top": null,
            "visibility": null,
            "width": null
          }
        },
        "0d9d0b41d14b4ee9b46f109489527a33": {
          "model_module": "@jupyter-widgets/controls",
          "model_module_version": "1.5.0",
          "model_name": "HTMLModel",
          "state": {
            "_dom_classes": [],
            "_model_module": "@jupyter-widgets/controls",
            "_model_module_version": "1.5.0",
            "_model_name": "HTMLModel",
            "_view_count": null,
            "_view_module": "@jupyter-widgets/controls",
            "_view_module_version": "1.5.0",
            "_view_name": "HTMLView",
            "description": "",
            "description_tooltip": null,
            "layout": "IPY_MODEL_224d3a23855942aea05471c0ae199ec7",
            "placeholder": "​",
            "style": "IPY_MODEL_d9a6629dc9274fa398665af3bb14e98b",
            "value": " 226k/226k [00:00&lt;00:00, 851kB/s]"
          }
        },
        "13b63ec891db4f0c94ca65502af90e01": {
          "model_module": "@jupyter-widgets/base",
          "model_module_version": "1.2.0",
          "model_name": "LayoutModel",
          "state": {
            "_model_module": "@jupyter-widgets/base",
            "_model_module_version": "1.2.0",
            "_model_name": "LayoutModel",
            "_view_count": null,
            "_view_module": "@jupyter-widgets/base",
            "_view_module_version": "1.2.0",
            "_view_name": "LayoutView",
            "align_content": null,
            "align_items": null,
            "align_self": null,
            "border": null,
            "bottom": null,
            "display": null,
            "flex": null,
            "flex_flow": null,
            "grid_area": null,
            "grid_auto_columns": null,
            "grid_auto_flow": null,
            "grid_auto_rows": null,
            "grid_column": null,
            "grid_gap": null,
            "grid_row": null,
            "grid_template_areas": null,
            "grid_template_columns": null,
            "grid_template_rows": null,
            "height": null,
            "justify_content": null,
            "justify_items": null,
            "left": null,
            "margin": null,
            "max_height": null,
            "max_width": null,
            "min_height": null,
            "min_width": null,
            "object_fit": null,
            "object_position": null,
            "order": null,
            "overflow": null,
            "overflow_x": null,
            "overflow_y": null,
            "padding": null,
            "right": null,
            "top": null,
            "visibility": null,
            "width": null
          }
        },
        "1be13e0c2f724e6b8d467e9a4bd9e3b3": {
          "model_module": "@jupyter-widgets/controls",
          "model_module_version": "1.5.0",
          "model_name": "FloatProgressModel",
          "state": {
            "_dom_classes": [],
            "_model_module": "@jupyter-widgets/controls",
            "_model_module_version": "1.5.0",
            "_model_name": "FloatProgressModel",
            "_view_count": null,
            "_view_module": "@jupyter-widgets/controls",
            "_view_module_version": "1.5.0",
            "_view_name": "ProgressView",
            "bar_style": "success",
            "description": "",
            "description_tooltip": null,
            "layout": "IPY_MODEL_a1f3e51048f34907b42deee0f4f80314",
            "max": 440473133,
            "min": 0,
            "orientation": "horizontal",
            "style": "IPY_MODEL_447e5e494ed047d48e222194547ffeb9",
            "value": 440473133
          }
        },
        "1f490de26b2041f385a4918d4eb14773": {
          "model_module": "@jupyter-widgets/base",
          "model_module_version": "1.2.0",
          "model_name": "LayoutModel",
          "state": {
            "_model_module": "@jupyter-widgets/base",
            "_model_module_version": "1.2.0",
            "_model_name": "LayoutModel",
            "_view_count": null,
            "_view_module": "@jupyter-widgets/base",
            "_view_module_version": "1.2.0",
            "_view_name": "LayoutView",
            "align_content": null,
            "align_items": null,
            "align_self": null,
            "border": null,
            "bottom": null,
            "display": null,
            "flex": null,
            "flex_flow": null,
            "grid_area": null,
            "grid_auto_columns": null,
            "grid_auto_flow": null,
            "grid_auto_rows": null,
            "grid_column": null,
            "grid_gap": null,
            "grid_row": null,
            "grid_template_areas": null,
            "grid_template_columns": null,
            "grid_template_rows": null,
            "height": null,
            "justify_content": null,
            "justify_items": null,
            "left": null,
            "margin": null,
            "max_height": null,
            "max_width": null,
            "min_height": null,
            "min_width": null,
            "object_fit": null,
            "object_position": null,
            "order": null,
            "overflow": null,
            "overflow_x": null,
            "overflow_y": null,
            "padding": null,
            "right": null,
            "top": null,
            "visibility": null,
            "width": null
          }
        },
        "224d3a23855942aea05471c0ae199ec7": {
          "model_module": "@jupyter-widgets/base",
          "model_module_version": "1.2.0",
          "model_name": "LayoutModel",
          "state": {
            "_model_module": "@jupyter-widgets/base",
            "_model_module_version": "1.2.0",
            "_model_name": "LayoutModel",
            "_view_count": null,
            "_view_module": "@jupyter-widgets/base",
            "_view_module_version": "1.2.0",
            "_view_name": "LayoutView",
            "align_content": null,
            "align_items": null,
            "align_self": null,
            "border": null,
            "bottom": null,
            "display": null,
            "flex": null,
            "flex_flow": null,
            "grid_area": null,
            "grid_auto_columns": null,
            "grid_auto_flow": null,
            "grid_auto_rows": null,
            "grid_column": null,
            "grid_gap": null,
            "grid_row": null,
            "grid_template_areas": null,
            "grid_template_columns": null,
            "grid_template_rows": null,
            "height": null,
            "justify_content": null,
            "justify_items": null,
            "left": null,
            "margin": null,
            "max_height": null,
            "max_width": null,
            "min_height": null,
            "min_width": null,
            "object_fit": null,
            "object_position": null,
            "order": null,
            "overflow": null,
            "overflow_x": null,
            "overflow_y": null,
            "padding": null,
            "right": null,
            "top": null,
            "visibility": null,
            "width": null
          }
        },
        "22ce10a8eec14c7eacf8c6410eff66fa": {
          "model_module": "@jupyter-widgets/controls",
          "model_module_version": "1.5.0",
          "model_name": "HTMLModel",
          "state": {
            "_dom_classes": [],
            "_model_module": "@jupyter-widgets/controls",
            "_model_module_version": "1.5.0",
            "_model_name": "HTMLModel",
            "_view_count": null,
            "_view_module": "@jupyter-widgets/controls",
            "_view_module_version": "1.5.0",
            "_view_name": "HTMLView",
            "description": "",
            "description_tooltip": null,
            "layout": "IPY_MODEL_d6a42a543ca642e69b29093783b5ee8f",
            "placeholder": "​",
            "style": "IPY_MODEL_45b17ff9ab604176aa39fb52040fa1ba",
            "value": " 28.0/28.0 [00:00&lt;00:00, 918B/s]"
          }
        },
        "2eee7ac3bd274029be0af5a584de06b9": {
          "model_module": "@jupyter-widgets/base",
          "model_module_version": "1.2.0",
          "model_name": "LayoutModel",
          "state": {
            "_model_module": "@jupyter-widgets/base",
            "_model_module_version": "1.2.0",
            "_model_name": "LayoutModel",
            "_view_count": null,
            "_view_module": "@jupyter-widgets/base",
            "_view_module_version": "1.2.0",
            "_view_name": "LayoutView",
            "align_content": null,
            "align_items": null,
            "align_self": null,
            "border": null,
            "bottom": null,
            "display": null,
            "flex": null,
            "flex_flow": null,
            "grid_area": null,
            "grid_auto_columns": null,
            "grid_auto_flow": null,
            "grid_auto_rows": null,
            "grid_column": null,
            "grid_gap": null,
            "grid_row": null,
            "grid_template_areas": null,
            "grid_template_columns": null,
            "grid_template_rows": null,
            "height": null,
            "justify_content": null,
            "justify_items": null,
            "left": null,
            "margin": null,
            "max_height": null,
            "max_width": null,
            "min_height": null,
            "min_width": null,
            "object_fit": null,
            "object_position": null,
            "order": null,
            "overflow": null,
            "overflow_x": null,
            "overflow_y": null,
            "padding": null,
            "right": null,
            "top": null,
            "visibility": null,
            "width": null
          }
        },
        "32ceb48f65d542e9b8beda941b997251": {
          "model_module": "@jupyter-widgets/controls",
          "model_module_version": "1.5.0",
          "model_name": "FloatProgressModel",
          "state": {
            "_dom_classes": [],
            "_model_module": "@jupyter-widgets/controls",
            "_model_module_version": "1.5.0",
            "_model_name": "FloatProgressModel",
            "_view_count": null,
            "_view_module": "@jupyter-widgets/controls",
            "_view_module_version": "1.5.0",
            "_view_name": "ProgressView",
            "bar_style": "success",
            "description": "",
            "description_tooltip": null,
            "layout": "IPY_MODEL_2eee7ac3bd274029be0af5a584de06b9",
            "max": 231508,
            "min": 0,
            "orientation": "horizontal",
            "style": "IPY_MODEL_ea733ee5b9124ee78c76fc318bf616c7",
            "value": 231508
          }
        },
        "34417f8fc3404585af48a5c9fd42c4e9": {
          "model_module": "@jupyter-widgets/controls",
          "model_module_version": "1.5.0",
          "model_name": "DescriptionStyleModel",
          "state": {
            "_model_module": "@jupyter-widgets/controls",
            "_model_module_version": "1.5.0",
            "_model_name": "DescriptionStyleModel",
            "_view_count": null,
            "_view_module": "@jupyter-widgets/base",
            "_view_module_version": "1.2.0",
            "_view_name": "StyleView",
            "description_width": ""
          }
        },
        "346d5f3b1650415d9f5d77374879d117": {
          "model_module": "@jupyter-widgets/controls",
          "model_module_version": "1.5.0",
          "model_name": "HTMLModel",
          "state": {
            "_dom_classes": [],
            "_model_module": "@jupyter-widgets/controls",
            "_model_module_version": "1.5.0",
            "_model_name": "HTMLModel",
            "_view_count": null,
            "_view_module": "@jupyter-widgets/controls",
            "_view_module_version": "1.5.0",
            "_view_name": "HTMLView",
            "description": "",
            "description_tooltip": null,
            "layout": "IPY_MODEL_c8c3ca6997d94193803fd7ba1584c59c",
            "placeholder": "​",
            "style": "IPY_MODEL_93757df51fff492eae8b059f3845cc19",
            "value": " 570/570 [00:00&lt;00:00, 17.0kB/s]"
          }
        },
        "35ce7bd7f42b4f92a9897b1444162d2f": {
          "model_module": "@jupyter-widgets/controls",
          "model_module_version": "1.5.0",
          "model_name": "DescriptionStyleModel",
          "state": {
            "_model_module": "@jupyter-widgets/controls",
            "_model_module_version": "1.5.0",
            "_model_name": "DescriptionStyleModel",
            "_view_count": null,
            "_view_module": "@jupyter-widgets/base",
            "_view_module_version": "1.2.0",
            "_view_name": "StyleView",
            "description_width": ""
          }
        },
        "447e5e494ed047d48e222194547ffeb9": {
          "model_module": "@jupyter-widgets/controls",
          "model_module_version": "1.5.0",
          "model_name": "ProgressStyleModel",
          "state": {
            "_model_module": "@jupyter-widgets/controls",
            "_model_module_version": "1.5.0",
            "_model_name": "ProgressStyleModel",
            "_view_count": null,
            "_view_module": "@jupyter-widgets/base",
            "_view_module_version": "1.2.0",
            "_view_name": "StyleView",
            "bar_color": null,
            "description_width": ""
          }
        },
        "45b17ff9ab604176aa39fb52040fa1ba": {
          "model_module": "@jupyter-widgets/controls",
          "model_module_version": "1.5.0",
          "model_name": "DescriptionStyleModel",
          "state": {
            "_model_module": "@jupyter-widgets/controls",
            "_model_module_version": "1.5.0",
            "_model_name": "DescriptionStyleModel",
            "_view_count": null,
            "_view_module": "@jupyter-widgets/base",
            "_view_module_version": "1.2.0",
            "_view_name": "StyleView",
            "description_width": ""
          }
        },
        "5dfcf8c52b13426db6cd94456901a6bd": {
          "model_module": "@jupyter-widgets/controls",
          "model_module_version": "1.5.0",
          "model_name": "HTMLModel",
          "state": {
            "_dom_classes": [],
            "_model_module": "@jupyter-widgets/controls",
            "_model_module_version": "1.5.0",
            "_model_name": "HTMLModel",
            "_view_count": null,
            "_view_module": "@jupyter-widgets/controls",
            "_view_module_version": "1.5.0",
            "_view_name": "HTMLView",
            "description": "",
            "description_tooltip": null,
            "layout": "IPY_MODEL_9d474e05db4e4cc68d0dc18753f621bc",
            "placeholder": "​",
            "style": "IPY_MODEL_f406f0db3a2f4a1797f59c88ee3f9ce4",
            "value": "Downloading tokenizer_config.json: 100%"
          }
        },
        "72f99a3639054904b68f8103fb26c1c5": {
          "model_module": "@jupyter-widgets/controls",
          "model_module_version": "1.5.0",
          "model_name": "HTMLModel",
          "state": {
            "_dom_classes": [],
            "_model_module": "@jupyter-widgets/controls",
            "_model_module_version": "1.5.0",
            "_model_name": "HTMLModel",
            "_view_count": null,
            "_view_module": "@jupyter-widgets/controls",
            "_view_module_version": "1.5.0",
            "_view_name": "HTMLView",
            "description": "",
            "description_tooltip": null,
            "layout": "IPY_MODEL_7b1bd046c64549bdb8d1984ed11b2064",
            "placeholder": "​",
            "style": "IPY_MODEL_35ce7bd7f42b4f92a9897b1444162d2f",
            "value": "Downloading pytorch_model.bin: 100%"
          }
        },
        "7b1bd046c64549bdb8d1984ed11b2064": {
          "model_module": "@jupyter-widgets/base",
          "model_module_version": "1.2.0",
          "model_name": "LayoutModel",
          "state": {
            "_model_module": "@jupyter-widgets/base",
            "_model_module_version": "1.2.0",
            "_model_name": "LayoutModel",
            "_view_count": null,
            "_view_module": "@jupyter-widgets/base",
            "_view_module_version": "1.2.0",
            "_view_name": "LayoutView",
            "align_content": null,
            "align_items": null,
            "align_self": null,
            "border": null,
            "bottom": null,
            "display": null,
            "flex": null,
            "flex_flow": null,
            "grid_area": null,
            "grid_auto_columns": null,
            "grid_auto_flow": null,
            "grid_auto_rows": null,
            "grid_column": null,
            "grid_gap": null,
            "grid_row": null,
            "grid_template_areas": null,
            "grid_template_columns": null,
            "grid_template_rows": null,
            "height": null,
            "justify_content": null,
            "justify_items": null,
            "left": null,
            "margin": null,
            "max_height": null,
            "max_width": null,
            "min_height": null,
            "min_width": null,
            "object_fit": null,
            "object_position": null,
            "order": null,
            "overflow": null,
            "overflow_x": null,
            "overflow_y": null,
            "padding": null,
            "right": null,
            "top": null,
            "visibility": null,
            "width": null
          }
        },
        "7c5c8a9000d643d4aeb77b52c193e389": {
          "model_module": "@jupyter-widgets/controls",
          "model_module_version": "1.5.0",
          "model_name": "HBoxModel",
          "state": {
            "_dom_classes": [],
            "_model_module": "@jupyter-widgets/controls",
            "_model_module_version": "1.5.0",
            "_model_name": "HBoxModel",
            "_view_count": null,
            "_view_module": "@jupyter-widgets/controls",
            "_view_module_version": "1.5.0",
            "_view_name": "HBoxView",
            "box_style": "",
            "children": [
              "IPY_MODEL_5dfcf8c52b13426db6cd94456901a6bd",
              "IPY_MODEL_9982af7a5f9c4cb29cc4e7d6b0f75443",
              "IPY_MODEL_22ce10a8eec14c7eacf8c6410eff66fa"
            ],
            "layout": "IPY_MODEL_13b63ec891db4f0c94ca65502af90e01"
          }
        },
        "86a85c7331ad485e923bdb3ff7c11c81": {
          "model_module": "@jupyter-widgets/controls",
          "model_module_version": "1.5.0",
          "model_name": "ProgressStyleModel",
          "state": {
            "_model_module": "@jupyter-widgets/controls",
            "_model_module_version": "1.5.0",
            "_model_name": "ProgressStyleModel",
            "_view_count": null,
            "_view_module": "@jupyter-widgets/base",
            "_view_module_version": "1.2.0",
            "_view_name": "StyleView",
            "bar_color": null,
            "description_width": ""
          }
        },
        "8807fb6dc217465485efb240dff23e3d": {
          "model_module": "@jupyter-widgets/controls",
          "model_module_version": "1.5.0",
          "model_name": "HBoxModel",
          "state": {
            "_dom_classes": [],
            "_model_module": "@jupyter-widgets/controls",
            "_model_module_version": "1.5.0",
            "_model_name": "HBoxModel",
            "_view_count": null,
            "_view_module": "@jupyter-widgets/controls",
            "_view_module_version": "1.5.0",
            "_view_name": "HBoxView",
            "box_style": "",
            "children": [
              "IPY_MODEL_e04b5519897b4ec785d5d3f16fe89bda",
              "IPY_MODEL_32ceb48f65d542e9b8beda941b997251",
              "IPY_MODEL_0d9d0b41d14b4ee9b46f109489527a33"
            ],
            "layout": "IPY_MODEL_a39c3c6d11b74a41b5c9e84825469728"
          }
        },
        "93757df51fff492eae8b059f3845cc19": {
          "model_module": "@jupyter-widgets/controls",
          "model_module_version": "1.5.0",
          "model_name": "DescriptionStyleModel",
          "state": {
            "_model_module": "@jupyter-widgets/controls",
            "_model_module_version": "1.5.0",
            "_model_name": "DescriptionStyleModel",
            "_view_count": null,
            "_view_module": "@jupyter-widgets/base",
            "_view_module_version": "1.2.0",
            "_view_name": "StyleView",
            "description_width": ""
          }
        },
        "98d818725f1a4d0f84ba84eb1a692fb6": {
          "model_module": "@jupyter-widgets/base",
          "model_module_version": "1.2.0",
          "model_name": "LayoutModel",
          "state": {
            "_model_module": "@jupyter-widgets/base",
            "_model_module_version": "1.2.0",
            "_model_name": "LayoutModel",
            "_view_count": null,
            "_view_module": "@jupyter-widgets/base",
            "_view_module_version": "1.2.0",
            "_view_name": "LayoutView",
            "align_content": null,
            "align_items": null,
            "align_self": null,
            "border": null,
            "bottom": null,
            "display": null,
            "flex": null,
            "flex_flow": null,
            "grid_area": null,
            "grid_auto_columns": null,
            "grid_auto_flow": null,
            "grid_auto_rows": null,
            "grid_column": null,
            "grid_gap": null,
            "grid_row": null,
            "grid_template_areas": null,
            "grid_template_columns": null,
            "grid_template_rows": null,
            "height": null,
            "justify_content": null,
            "justify_items": null,
            "left": null,
            "margin": null,
            "max_height": null,
            "max_width": null,
            "min_height": null,
            "min_width": null,
            "object_fit": null,
            "object_position": null,
            "order": null,
            "overflow": null,
            "overflow_x": null,
            "overflow_y": null,
            "padding": null,
            "right": null,
            "top": null,
            "visibility": null,
            "width": null
          }
        },
        "9982af7a5f9c4cb29cc4e7d6b0f75443": {
          "model_module": "@jupyter-widgets/controls",
          "model_module_version": "1.5.0",
          "model_name": "FloatProgressModel",
          "state": {
            "_dom_classes": [],
            "_model_module": "@jupyter-widgets/controls",
            "_model_module_version": "1.5.0",
            "_model_name": "FloatProgressModel",
            "_view_count": null,
            "_view_module": "@jupyter-widgets/controls",
            "_view_module_version": "1.5.0",
            "_view_name": "ProgressView",
            "bar_style": "success",
            "description": "",
            "description_tooltip": null,
            "layout": "IPY_MODEL_bf425d0a84f94b36b4b2b97e57d4fab9",
            "max": 28,
            "min": 0,
            "orientation": "horizontal",
            "style": "IPY_MODEL_86a85c7331ad485e923bdb3ff7c11c81",
            "value": 28
          }
        },
        "9d474e05db4e4cc68d0dc18753f621bc": {
          "model_module": "@jupyter-widgets/base",
          "model_module_version": "1.2.0",
          "model_name": "LayoutModel",
          "state": {
            "_model_module": "@jupyter-widgets/base",
            "_model_module_version": "1.2.0",
            "_model_name": "LayoutModel",
            "_view_count": null,
            "_view_module": "@jupyter-widgets/base",
            "_view_module_version": "1.2.0",
            "_view_name": "LayoutView",
            "align_content": null,
            "align_items": null,
            "align_self": null,
            "border": null,
            "bottom": null,
            "display": null,
            "flex": null,
            "flex_flow": null,
            "grid_area": null,
            "grid_auto_columns": null,
            "grid_auto_flow": null,
            "grid_auto_rows": null,
            "grid_column": null,
            "grid_gap": null,
            "grid_row": null,
            "grid_template_areas": null,
            "grid_template_columns": null,
            "grid_template_rows": null,
            "height": null,
            "justify_content": null,
            "justify_items": null,
            "left": null,
            "margin": null,
            "max_height": null,
            "max_width": null,
            "min_height": null,
            "min_width": null,
            "object_fit": null,
            "object_position": null,
            "order": null,
            "overflow": null,
            "overflow_x": null,
            "overflow_y": null,
            "padding": null,
            "right": null,
            "top": null,
            "visibility": null,
            "width": null
          }
        },
        "a1f3e51048f34907b42deee0f4f80314": {
          "model_module": "@jupyter-widgets/base",
          "model_module_version": "1.2.0",
          "model_name": "LayoutModel",
          "state": {
            "_model_module": "@jupyter-widgets/base",
            "_model_module_version": "1.2.0",
            "_model_name": "LayoutModel",
            "_view_count": null,
            "_view_module": "@jupyter-widgets/base",
            "_view_module_version": "1.2.0",
            "_view_name": "LayoutView",
            "align_content": null,
            "align_items": null,
            "align_self": null,
            "border": null,
            "bottom": null,
            "display": null,
            "flex": null,
            "flex_flow": null,
            "grid_area": null,
            "grid_auto_columns": null,
            "grid_auto_flow": null,
            "grid_auto_rows": null,
            "grid_column": null,
            "grid_gap": null,
            "grid_row": null,
            "grid_template_areas": null,
            "grid_template_columns": null,
            "grid_template_rows": null,
            "height": null,
            "justify_content": null,
            "justify_items": null,
            "left": null,
            "margin": null,
            "max_height": null,
            "max_width": null,
            "min_height": null,
            "min_width": null,
            "object_fit": null,
            "object_position": null,
            "order": null,
            "overflow": null,
            "overflow_x": null,
            "overflow_y": null,
            "padding": null,
            "right": null,
            "top": null,
            "visibility": null,
            "width": null
          }
        },
        "a39c3c6d11b74a41b5c9e84825469728": {
          "model_module": "@jupyter-widgets/base",
          "model_module_version": "1.2.0",
          "model_name": "LayoutModel",
          "state": {
            "_model_module": "@jupyter-widgets/base",
            "_model_module_version": "1.2.0",
            "_model_name": "LayoutModel",
            "_view_count": null,
            "_view_module": "@jupyter-widgets/base",
            "_view_module_version": "1.2.0",
            "_view_name": "LayoutView",
            "align_content": null,
            "align_items": null,
            "align_self": null,
            "border": null,
            "bottom": null,
            "display": null,
            "flex": null,
            "flex_flow": null,
            "grid_area": null,
            "grid_auto_columns": null,
            "grid_auto_flow": null,
            "grid_auto_rows": null,
            "grid_column": null,
            "grid_gap": null,
            "grid_row": null,
            "grid_template_areas": null,
            "grid_template_columns": null,
            "grid_template_rows": null,
            "height": null,
            "justify_content": null,
            "justify_items": null,
            "left": null,
            "margin": null,
            "max_height": null,
            "max_width": null,
            "min_height": null,
            "min_width": null,
            "object_fit": null,
            "object_position": null,
            "order": null,
            "overflow": null,
            "overflow_x": null,
            "overflow_y": null,
            "padding": null,
            "right": null,
            "top": null,
            "visibility": null,
            "width": null
          }
        },
        "a65250f1b7ee493c9b74228b4733dbc0": {
          "model_module": "@jupyter-widgets/controls",
          "model_module_version": "1.5.0",
          "model_name": "HTMLModel",
          "state": {
            "_dom_classes": [],
            "_model_module": "@jupyter-widgets/controls",
            "_model_module_version": "1.5.0",
            "_model_name": "HTMLModel",
            "_view_count": null,
            "_view_module": "@jupyter-widgets/controls",
            "_view_module_version": "1.5.0",
            "_view_name": "HTMLView",
            "description": "",
            "description_tooltip": null,
            "layout": "IPY_MODEL_ddd8558223b94ca0980b257cda77c8b1",
            "placeholder": "​",
            "style": "IPY_MODEL_04e3aba64cc148e3a96dce48e5fd9b89",
            "value": " 420M/420M [00:12&lt;00:00, 32.6MB/s]"
          }
        },
        "a9ae8662573c47e891dca317343a150d": {
          "model_module": "@jupyter-widgets/controls",
          "model_module_version": "1.5.0",
          "model_name": "DescriptionStyleModel",
          "state": {
            "_model_module": "@jupyter-widgets/controls",
            "_model_module_version": "1.5.0",
            "_model_name": "DescriptionStyleModel",
            "_view_count": null,
            "_view_module": "@jupyter-widgets/base",
            "_view_module_version": "1.2.0",
            "_view_name": "StyleView",
            "description_width": ""
          }
        },
        "bd9b39d1715942f2811d3a31aaeb8cf6": {
          "model_module": "@jupyter-widgets/controls",
          "model_module_version": "1.5.0",
          "model_name": "FloatProgressModel",
          "state": {
            "_dom_classes": [],
            "_model_module": "@jupyter-widgets/controls",
            "_model_module_version": "1.5.0",
            "_model_name": "FloatProgressModel",
            "_view_count": null,
            "_view_module": "@jupyter-widgets/controls",
            "_view_module_version": "1.5.0",
            "_view_name": "ProgressView",
            "bar_style": "success",
            "description": "",
            "description_tooltip": null,
            "layout": "IPY_MODEL_d80ac6afd93e48e297a599b6083ffda1",
            "max": 570,
            "min": 0,
            "orientation": "horizontal",
            "style": "IPY_MODEL_e67f1d644d9943d1b672e0696e2a5110",
            "value": 570
          }
        },
        "bf425d0a84f94b36b4b2b97e57d4fab9": {
          "model_module": "@jupyter-widgets/base",
          "model_module_version": "1.2.0",
          "model_name": "LayoutModel",
          "state": {
            "_model_module": "@jupyter-widgets/base",
            "_model_module_version": "1.2.0",
            "_model_name": "LayoutModel",
            "_view_count": null,
            "_view_module": "@jupyter-widgets/base",
            "_view_module_version": "1.2.0",
            "_view_name": "LayoutView",
            "align_content": null,
            "align_items": null,
            "align_self": null,
            "border": null,
            "bottom": null,
            "display": null,
            "flex": null,
            "flex_flow": null,
            "grid_area": null,
            "grid_auto_columns": null,
            "grid_auto_flow": null,
            "grid_auto_rows": null,
            "grid_column": null,
            "grid_gap": null,
            "grid_row": null,
            "grid_template_areas": null,
            "grid_template_columns": null,
            "grid_template_rows": null,
            "height": null,
            "justify_content": null,
            "justify_items": null,
            "left": null,
            "margin": null,
            "max_height": null,
            "max_width": null,
            "min_height": null,
            "min_width": null,
            "object_fit": null,
            "object_position": null,
            "order": null,
            "overflow": null,
            "overflow_x": null,
            "overflow_y": null,
            "padding": null,
            "right": null,
            "top": null,
            "visibility": null,
            "width": null
          }
        },
        "c8c3ca6997d94193803fd7ba1584c59c": {
          "model_module": "@jupyter-widgets/base",
          "model_module_version": "1.2.0",
          "model_name": "LayoutModel",
          "state": {
            "_model_module": "@jupyter-widgets/base",
            "_model_module_version": "1.2.0",
            "_model_name": "LayoutModel",
            "_view_count": null,
            "_view_module": "@jupyter-widgets/base",
            "_view_module_version": "1.2.0",
            "_view_name": "LayoutView",
            "align_content": null,
            "align_items": null,
            "align_self": null,
            "border": null,
            "bottom": null,
            "display": null,
            "flex": null,
            "flex_flow": null,
            "grid_area": null,
            "grid_auto_columns": null,
            "grid_auto_flow": null,
            "grid_auto_rows": null,
            "grid_column": null,
            "grid_gap": null,
            "grid_row": null,
            "grid_template_areas": null,
            "grid_template_columns": null,
            "grid_template_rows": null,
            "height": null,
            "justify_content": null,
            "justify_items": null,
            "left": null,
            "margin": null,
            "max_height": null,
            "max_width": null,
            "min_height": null,
            "min_width": null,
            "object_fit": null,
            "object_position": null,
            "order": null,
            "overflow": null,
            "overflow_x": null,
            "overflow_y": null,
            "padding": null,
            "right": null,
            "top": null,
            "visibility": null,
            "width": null
          }
        },
        "d29fab67108046b5a984cf6a4dbce150": {
          "model_module": "@jupyter-widgets/controls",
          "model_module_version": "1.5.0",
          "model_name": "HBoxModel",
          "state": {
            "_dom_classes": [],
            "_model_module": "@jupyter-widgets/controls",
            "_model_module_version": "1.5.0",
            "_model_name": "HBoxModel",
            "_view_count": null,
            "_view_module": "@jupyter-widgets/controls",
            "_view_module_version": "1.5.0",
            "_view_name": "HBoxView",
            "box_style": "",
            "children": [
              "IPY_MODEL_72f99a3639054904b68f8103fb26c1c5",
              "IPY_MODEL_1be13e0c2f724e6b8d467e9a4bd9e3b3",
              "IPY_MODEL_a65250f1b7ee493c9b74228b4733dbc0"
            ],
            "layout": "IPY_MODEL_1f490de26b2041f385a4918d4eb14773"
          }
        },
        "d6a42a543ca642e69b29093783b5ee8f": {
          "model_module": "@jupyter-widgets/base",
          "model_module_version": "1.2.0",
          "model_name": "LayoutModel",
          "state": {
            "_model_module": "@jupyter-widgets/base",
            "_model_module_version": "1.2.0",
            "_model_name": "LayoutModel",
            "_view_count": null,
            "_view_module": "@jupyter-widgets/base",
            "_view_module_version": "1.2.0",
            "_view_name": "LayoutView",
            "align_content": null,
            "align_items": null,
            "align_self": null,
            "border": null,
            "bottom": null,
            "display": null,
            "flex": null,
            "flex_flow": null,
            "grid_area": null,
            "grid_auto_columns": null,
            "grid_auto_flow": null,
            "grid_auto_rows": null,
            "grid_column": null,
            "grid_gap": null,
            "grid_row": null,
            "grid_template_areas": null,
            "grid_template_columns": null,
            "grid_template_rows": null,
            "height": null,
            "justify_content": null,
            "justify_items": null,
            "left": null,
            "margin": null,
            "max_height": null,
            "max_width": null,
            "min_height": null,
            "min_width": null,
            "object_fit": null,
            "object_position": null,
            "order": null,
            "overflow": null,
            "overflow_x": null,
            "overflow_y": null,
            "padding": null,
            "right": null,
            "top": null,
            "visibility": null,
            "width": null
          }
        },
        "d80ac6afd93e48e297a599b6083ffda1": {
          "model_module": "@jupyter-widgets/base",
          "model_module_version": "1.2.0",
          "model_name": "LayoutModel",
          "state": {
            "_model_module": "@jupyter-widgets/base",
            "_model_module_version": "1.2.0",
            "_model_name": "LayoutModel",
            "_view_count": null,
            "_view_module": "@jupyter-widgets/base",
            "_view_module_version": "1.2.0",
            "_view_name": "LayoutView",
            "align_content": null,
            "align_items": null,
            "align_self": null,
            "border": null,
            "bottom": null,
            "display": null,
            "flex": null,
            "flex_flow": null,
            "grid_area": null,
            "grid_auto_columns": null,
            "grid_auto_flow": null,
            "grid_auto_rows": null,
            "grid_column": null,
            "grid_gap": null,
            "grid_row": null,
            "grid_template_areas": null,
            "grid_template_columns": null,
            "grid_template_rows": null,
            "height": null,
            "justify_content": null,
            "justify_items": null,
            "left": null,
            "margin": null,
            "max_height": null,
            "max_width": null,
            "min_height": null,
            "min_width": null,
            "object_fit": null,
            "object_position": null,
            "order": null,
            "overflow": null,
            "overflow_x": null,
            "overflow_y": null,
            "padding": null,
            "right": null,
            "top": null,
            "visibility": null,
            "width": null
          }
        },
        "d9a6629dc9274fa398665af3bb14e98b": {
          "model_module": "@jupyter-widgets/controls",
          "model_module_version": "1.5.0",
          "model_name": "DescriptionStyleModel",
          "state": {
            "_model_module": "@jupyter-widgets/controls",
            "_model_module_version": "1.5.0",
            "_model_name": "DescriptionStyleModel",
            "_view_count": null,
            "_view_module": "@jupyter-widgets/base",
            "_view_module_version": "1.2.0",
            "_view_name": "StyleView",
            "description_width": ""
          }
        },
        "ddd8558223b94ca0980b257cda77c8b1": {
          "model_module": "@jupyter-widgets/base",
          "model_module_version": "1.2.0",
          "model_name": "LayoutModel",
          "state": {
            "_model_module": "@jupyter-widgets/base",
            "_model_module_version": "1.2.0",
            "_model_name": "LayoutModel",
            "_view_count": null,
            "_view_module": "@jupyter-widgets/base",
            "_view_module_version": "1.2.0",
            "_view_name": "LayoutView",
            "align_content": null,
            "align_items": null,
            "align_self": null,
            "border": null,
            "bottom": null,
            "display": null,
            "flex": null,
            "flex_flow": null,
            "grid_area": null,
            "grid_auto_columns": null,
            "grid_auto_flow": null,
            "grid_auto_rows": null,
            "grid_column": null,
            "grid_gap": null,
            "grid_row": null,
            "grid_template_areas": null,
            "grid_template_columns": null,
            "grid_template_rows": null,
            "height": null,
            "justify_content": null,
            "justify_items": null,
            "left": null,
            "margin": null,
            "max_height": null,
            "max_width": null,
            "min_height": null,
            "min_width": null,
            "object_fit": null,
            "object_position": null,
            "order": null,
            "overflow": null,
            "overflow_x": null,
            "overflow_y": null,
            "padding": null,
            "right": null,
            "top": null,
            "visibility": null,
            "width": null
          }
        },
        "e04b5519897b4ec785d5d3f16fe89bda": {
          "model_module": "@jupyter-widgets/controls",
          "model_module_version": "1.5.0",
          "model_name": "HTMLModel",
          "state": {
            "_dom_classes": [],
            "_model_module": "@jupyter-widgets/controls",
            "_model_module_version": "1.5.0",
            "_model_name": "HTMLModel",
            "_view_count": null,
            "_view_module": "@jupyter-widgets/controls",
            "_view_module_version": "1.5.0",
            "_view_name": "HTMLView",
            "description": "",
            "description_tooltip": null,
            "layout": "IPY_MODEL_0d459ecd3a6c45fa8abab873fff8e019",
            "placeholder": "​",
            "style": "IPY_MODEL_a9ae8662573c47e891dca317343a150d",
            "value": "Downloading vocab.txt: 100%"
          }
        },
        "e67f1d644d9943d1b672e0696e2a5110": {
          "model_module": "@jupyter-widgets/controls",
          "model_module_version": "1.5.0",
          "model_name": "ProgressStyleModel",
          "state": {
            "_model_module": "@jupyter-widgets/controls",
            "_model_module_version": "1.5.0",
            "_model_name": "ProgressStyleModel",
            "_view_count": null,
            "_view_module": "@jupyter-widgets/base",
            "_view_module_version": "1.2.0",
            "_view_name": "StyleView",
            "bar_color": null,
            "description_width": ""
          }
        },
        "e90d2fea5ae046dfbe024d96576cd4dc": {
          "model_module": "@jupyter-widgets/base",
          "model_module_version": "1.2.0",
          "model_name": "LayoutModel",
          "state": {
            "_model_module": "@jupyter-widgets/base",
            "_model_module_version": "1.2.0",
            "_model_name": "LayoutModel",
            "_view_count": null,
            "_view_module": "@jupyter-widgets/base",
            "_view_module_version": "1.2.0",
            "_view_name": "LayoutView",
            "align_content": null,
            "align_items": null,
            "align_self": null,
            "border": null,
            "bottom": null,
            "display": null,
            "flex": null,
            "flex_flow": null,
            "grid_area": null,
            "grid_auto_columns": null,
            "grid_auto_flow": null,
            "grid_auto_rows": null,
            "grid_column": null,
            "grid_gap": null,
            "grid_row": null,
            "grid_template_areas": null,
            "grid_template_columns": null,
            "grid_template_rows": null,
            "height": null,
            "justify_content": null,
            "justify_items": null,
            "left": null,
            "margin": null,
            "max_height": null,
            "max_width": null,
            "min_height": null,
            "min_width": null,
            "object_fit": null,
            "object_position": null,
            "order": null,
            "overflow": null,
            "overflow_x": null,
            "overflow_y": null,
            "padding": null,
            "right": null,
            "top": null,
            "visibility": null,
            "width": null
          }
        },
        "ea733ee5b9124ee78c76fc318bf616c7": {
          "model_module": "@jupyter-widgets/controls",
          "model_module_version": "1.5.0",
          "model_name": "ProgressStyleModel",
          "state": {
            "_model_module": "@jupyter-widgets/controls",
            "_model_module_version": "1.5.0",
            "_model_name": "ProgressStyleModel",
            "_view_count": null,
            "_view_module": "@jupyter-widgets/base",
            "_view_module_version": "1.2.0",
            "_view_name": "StyleView",
            "bar_color": null,
            "description_width": ""
          }
        },
        "f406f0db3a2f4a1797f59c88ee3f9ce4": {
          "model_module": "@jupyter-widgets/controls",
          "model_module_version": "1.5.0",
          "model_name": "DescriptionStyleModel",
          "state": {
            "_model_module": "@jupyter-widgets/controls",
            "_model_module_version": "1.5.0",
            "_model_name": "DescriptionStyleModel",
            "_view_count": null,
            "_view_module": "@jupyter-widgets/base",
            "_view_module_version": "1.2.0",
            "_view_name": "StyleView",
            "description_width": ""
          }
        },
        "f432a381d7374011b91cc3ffa52d8fb3": {
          "model_module": "@jupyter-widgets/controls",
          "model_module_version": "1.5.0",
          "model_name": "HBoxModel",
          "state": {
            "_dom_classes": [],
            "_model_module": "@jupyter-widgets/controls",
            "_model_module_version": "1.5.0",
            "_model_name": "HBoxModel",
            "_view_count": null,
            "_view_module": "@jupyter-widgets/controls",
            "_view_module_version": "1.5.0",
            "_view_name": "HBoxView",
            "box_style": "",
            "children": [
              "IPY_MODEL_fbc37cba458449ad86378be09e66028a",
              "IPY_MODEL_bd9b39d1715942f2811d3a31aaeb8cf6",
              "IPY_MODEL_346d5f3b1650415d9f5d77374879d117"
            ],
            "layout": "IPY_MODEL_98d818725f1a4d0f84ba84eb1a692fb6"
          }
        },
        "fbc37cba458449ad86378be09e66028a": {
          "model_module": "@jupyter-widgets/controls",
          "model_module_version": "1.5.0",
          "model_name": "HTMLModel",
          "state": {
            "_dom_classes": [],
            "_model_module": "@jupyter-widgets/controls",
            "_model_module_version": "1.5.0",
            "_model_name": "HTMLModel",
            "_view_count": null,
            "_view_module": "@jupyter-widgets/controls",
            "_view_module_version": "1.5.0",
            "_view_name": "HTMLView",
            "description": "",
            "description_tooltip": null,
            "layout": "IPY_MODEL_e90d2fea5ae046dfbe024d96576cd4dc",
            "placeholder": "​",
            "style": "IPY_MODEL_34417f8fc3404585af48a5c9fd42c4e9",
            "value": "Downloading config.json: 100%"
          }
        }
      }
    }
  },
  "nbformat": 4,
  "nbformat_minor": 0
}
